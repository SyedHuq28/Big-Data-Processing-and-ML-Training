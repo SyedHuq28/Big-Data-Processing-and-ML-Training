{
  "cells": [
    {
      "cell_type": "markdown",
      "metadata": {
        "id": "fNBni1yTPbzS"
      },
      "source": [
        "# Big Data Coursework - Questions\n",
        "\n",
        "## Data Processing and Machine Learning in the Cloud\n",
        "\n",
        "This is the **INM432 Big Data coursework 2023**.\n",
        "This coursework contains extended elements of **theory** and **practice**, mainly around parallelisation of tasks withSpark and a bit about parallel training using TensorFlow.   \n",
        "\n",
        "## Code and Report\n",
        "\n",
        "Your tasks parallelization of tasks in PySpark, extension, evaluation, and theoretical reflection.\n",
        "Please complete and submit the **coding tasks** in a copy of **this notebook**.\n",
        "Write your code in the **indicated cells** and **include** the **output** in the submitted notebook.  \n",
        "Make sure that **your code contains comments** on its **stucture** and explanations of its **purpose**.\n",
        "\n",
        "Provide also a **report** with the **textual answers in a separate document**.  \n",
        "Include **screenshots** from the Google Cloud web interface (don't use the SCREENSHOT function that Google provides, but take a picture of the graphs you see for the VMs) and result tables, as well as written text about the analysis.\n",
        "\n",
        "## Submission\n",
        "\n",
        "Download and submit **your version of this notebook** as an **.ipynb** file and also submit a **shareable link** to your notebook on Colab in your report (created with the Colab 'Share' function) (**and don’t change the online version after submission**).\n",
        "\n",
        "Further, provide your **report as a PDF document**. **State the number of words** in the document at the end. The report should **not have more than 2000 words**.  \n",
        "\n",
        "\n"
      ]
    },
    {
      "cell_type": "markdown",
      "metadata": {
        "id": "YNWl-w_Lr-e7"
      },
      "source": [
        "## Introduction and Description\n",
        "\n",
        "This coursework focuses on parallelisation and scalability in the cloud with Spark and TesorFlow/Keras.\n",
        "We start with code based on **lessons 3 and 4** of the [*Fast and Lean Data Science*](https://github.com/GoogleCloudPlatform/training-data-analyst/tree/master/courses/fast-and-lean-data-science) course by Martin Gorner.\n",
        "The course is based on Tensorflow for data processing and MachineLearning.\n",
        "Tensorflow's data processing approach is somewhat similar to that of Spark, but you don't need to study Tensorflow, just make sure you understand the high-level structure.  \n",
        "What we will do here is **parallelising** **pre-processing**, and **measuring** performance, and we will perform **evaluation** and **analysis** on the cloud performance, as well as **theoretical discussion**.\n",
        "\n",
        "This coursework contains **3 sections**.\n",
        "\n",
        "### Section 0\n",
        "\n",
        "This section just contains some necessary code for setting up the environment. It has no tasks for you (but do read the code and comments).\n",
        "\n",
        "### Section 1\n",
        "Section 1 is about preprocessing a set of image files.\n",
        "We will work with a public dataset “Flowers” (3600 images, 5 classes).\n",
        "This is not a vast dataset, but it keeps the tasks more manageable for development and you can scale up later, if you like.\n",
        "\n",
        "In **'Getting Started'** we will work through the data preprocessing code from *Fast and Lean Data Science* which uses TensorFlow's `tf.data` package.\n",
        "There is no task for you here, but you will need to re-use some of this code later.\n",
        "\n",
        "In **Task 1** you will **parallelise the data preprocessing in Spark**, using Google Cloud (GC) Dataproc.\n",
        "This involves adapting the code from 'Getting Started' to use Spark and running it in the cloud.\n",
        "\n",
        "### Section 2\n",
        "In **Section 2** we are going to **measure the speed of reading data** in the cloud. In **Task  2** we will **paralellize the measuring** of different configurations **using Spark**.\n",
        "\n",
        "### Section 3\n",
        "\n",
        "This section is about the theoretical discussion, based on one paper, in **Task 3**. The answers should be given in the PDF report.\n",
        "\n",
        "### General points\n",
        "\n",
        "For **all coding tasks**, take the **time of the operations** and for the cloud operations, get performance **information from the web interfaces** for your reporting and analysis.\n",
        "\n",
        "The **tasks** are **mostly independent** of each other. The later tasks can mostly be addressed without needing the solution to the earlier ones.  "
      ]
    },
    {
      "cell_type": "markdown",
      "metadata": {
        "id": "89B27-TGiDNB"
      },
      "source": [
        "# Section 0: Set-up\n",
        "\n",
        "As usual, you need to run the **imports and authentication every time you work with this notebook**. Use the **local Spark** installation for development before you send jobs to the cloud.\n",
        "\n",
        "Read through this section once and **fill in the project ID the first time**, then you can just step straight throught this at the beginning of each session - except for the two authentication cells."
      ]
    },
    {
      "cell_type": "markdown",
      "metadata": {
        "id": "V-_ASxZPjqjM"
      },
      "source": [
        "### Imports\n",
        "\n",
        "We import some **packages that will be needed throughout**.\n",
        "For the **code that runs in the cloud**, we will need **separate import sections** that will need to be partly different from the one below.\n"
      ]
    },
    {
      "cell_type": "code",
      "execution_count": null,
      "metadata": {
        "colab": {
          "base_uri": "https://localhost:8080/"
        },
        "id": "U6rgexPXmY37",
        "outputId": "2406097c-36e8-4d6d-e88f-386cd87a2711"
      },
      "outputs": [
        {
          "output_type": "stream",
          "name": "stdout",
          "text": [
            "Tensorflow version 2.12.0\n"
          ]
        }
      ],
      "source": [
        "import os, sys, math\n",
        "import numpy as np\n",
        "import scipy as sp\n",
        "import scipy.stats\n",
        "import time\n",
        "import datetime\n",
        "import string\n",
        "import random\n",
        "from matplotlib import pyplot as plt\n",
        "import tensorflow as tf\n",
        "print(\"Tensorflow version \" + tf.__version__)\n",
        "import pickle"
      ]
    },
    {
      "cell_type": "markdown",
      "metadata": {
        "id": "MSDlLsAZh_se"
      },
      "source": [
        "### Cloud and Drive authentication\n",
        "\n",
        "This is for **authenticating with with GCS Google Drive**, so that we can create and use our own buckets and access Dataproc and AI-Platform.\n",
        "\n",
        "This section **starts with the two interactive authentications**.\n",
        "\n",
        "First, we mount Google Drive for persistent local storage and create a directory `DB-CW` thay you can use for this work.\n",
        "Then we'll set up the cloud environment, including a storage bucket."
      ]
    },
    {
      "cell_type": "code",
      "execution_count": null,
      "metadata": {
        "colab": {
          "base_uri": "https://localhost:8080/"
        },
        "id": "HueTPFr-ZH-P",
        "outputId": "9cc50fed-44ac-4608-a516-e7beed428c4c"
      },
      "outputs": [
        {
          "output_type": "stream",
          "name": "stdout",
          "text": [
            "Mounting google drive...\n",
            "Mounted at /content/drive\n",
            "/content/drive/MyDrive\n",
            "mkdir: cannot create directory ‘BD-CW’: File exists\n",
            "/content/drive/MyDrive/BD-CW\n"
          ]
        }
      ],
      "source": [
        "print('Mounting google drive...')\n",
        "from google.colab import drive\n",
        "drive.mount('/content/drive')\n",
        "%cd \"/content/drive/MyDrive\"\n",
        "!mkdir BD-CW\n",
        "%cd \"/content/drive/MyDrive/BD-CW\""
      ]
    },
    {
      "cell_type": "markdown",
      "metadata": {
        "id": "l2zNNa2xxBcg"
      },
      "source": [
        "Next, we authenticate with the GCS to enable access to Dataproc and AI-Platform."
      ]
    },
    {
      "cell_type": "code",
      "execution_count": null,
      "metadata": {
        "id": "nyt_ZnPIRe8K"
      },
      "outputs": [],
      "source": [
        "import sys\n",
        "if 'google.colab' in sys.modules:\n",
        "    from google.colab import auth\n",
        "    auth.authenticate_user()"
      ]
    },
    {
      "cell_type": "markdown",
      "metadata": {
        "id": "VRXGihnX1rAV"
      },
      "source": [
        "It is useful to **create a new Google Cloud project** for this coursework. You can do this on the [GC Console page](https://console.cloud.google.com) by clicking on the entry at the top, right of the *Google Cloud Platform* and choosing *New Project*. **Copy** the **generated project ID** to the next cell. Also **enable billing** and the **Compute, Storage and Dataproc** APIs like we did during the labs.\n",
        "\n",
        "We also specify the **default project and region**. The REGION should be `us-central1` as that seems to be the only one that reliably works with the free credit.\n",
        "This way we don't have to specify this information every time we access the cloud.  "
      ]
    },
    {
      "cell_type": "code",
      "execution_count": null,
      "metadata": {
        "colab": {
          "base_uri": "https://localhost:8080/"
        },
        "id": "d2GtQXvF2qlS",
        "outputId": "dfe2b97e-dd6a-4d4a-956e-eab8a9548998"
      },
      "outputs": [
        {
          "output_type": "stream",
          "name": "stdout",
          "text": [
            "Updated property [core/project].\n",
            "Updated property [compute/region].\n",
            "Updated property [dataproc/region].\n",
            "[component_manager]\n",
            "disable_update_check = True\n",
            "[compute]\n",
            "region = us-central1\n",
            "[core]\n",
            "account = syed.mahbubul.haq@g.bracu.ac.bd\n",
            "project = big-data-coursework-385615\n",
            "[dataproc]\n",
            "region = us-central1\n",
            "\n",
            "Your active configuration is: [default]\n"
          ]
        }
      ],
      "source": [
        "PROJECT = 'big-data-coursework-385615'  ### USE YOUR GOOGLE CLOUD PROJECT ID HERE. ###\n",
        "!gcloud config set project $PROJECT\n",
        "REGION = 'us-central1'\n",
        "CLUSTER = '{}-cluster'.format(PROJECT)\n",
        "!gcloud config set compute/region $REGION\n",
        "!gcloud config set dataproc/region $REGION\n",
        "\n",
        "!gcloud config list # show some information"
      ]
    },
    {
      "cell_type": "markdown",
      "metadata": {
        "id": "TAl4A9PEhPnR"
      },
      "source": [
        "With the cell below, we **create a storage bucket** that we will use later for **global storage**.\n",
        "If the bucket exists you will see a \"ServiceException: 409 ...\", which does not cause any problems.\n",
        "**You must create your own bucket to have write access.**"
      ]
    },
    {
      "cell_type": "code",
      "execution_count": null,
      "metadata": {
        "colab": {
          "base_uri": "https://localhost:8080/"
        },
        "id": "N7zaq0gThQRR",
        "outputId": "c5273540-46da-4e31-8e74-8f590d19a190"
      },
      "outputs": [
        {
          "output_type": "stream",
          "name": "stdout",
          "text": [
            "Creating gs://big-data-coursework-385615-storage/...\n",
            "ServiceException: 409 A Cloud Storage bucket named 'big-data-coursework-385615-storage' already exists. Try another name. Bucket names must be globally unique across all Google Cloud projects, including those outside of your organization.\n"
          ]
        }
      ],
      "source": [
        "BUCKET = 'gs://{}-storage'.format(PROJECT)\n",
        "!gsutil mb $BUCKET"
      ]
    },
    {
      "cell_type": "markdown",
      "metadata": {
        "id": "7JrBHayWyuS-"
      },
      "source": [
        "The cell below just **defines some routines for displaying images** that will be **used later**. You can see the code by double-clicking, but you don't need to study this."
      ]
    },
    {
      "cell_type": "code",
      "execution_count": null,
      "metadata": {
        "id": "MPkvHdAYNt9J"
      },
      "outputs": [],
      "source": [
        "#@title Utility functions for image display **[RUN THIS TO ACTIVATE]** { display-mode: \"form\" }\n",
        "def display_9_images_from_dataset(dataset):\n",
        "  plt.figure(figsize=(13,13))\n",
        "  subplot=331\n",
        "  for i, (image, label) in enumerate(dataset):\n",
        "    plt.subplot(subplot)\n",
        "    plt.axis('off')\n",
        "    plt.imshow(image.numpy().astype(np.uint8))\n",
        "    plt.title(str(label.numpy()), fontsize=16)\n",
        "    # plt.title(label.numpy().decode(), fontsize=16)\n",
        "    subplot += 1\n",
        "    if i==8:\n",
        "      break\n",
        "  plt.tight_layout()\n",
        "  plt.subplots_adjust(wspace=0.1, hspace=0.1)\n",
        "  plt.show()\n",
        "\n",
        "def display_training_curves(training, validation, title, subplot):\n",
        "  if subplot%10==1: # set up the subplots on the first call\n",
        "    plt.subplots(figsize=(10,10), facecolor='#F0F0F0')\n",
        "    plt.tight_layout()\n",
        "  ax = plt.subplot(subplot)\n",
        "  ax.set_facecolor('#F8F8F8')\n",
        "  ax.plot(training)\n",
        "  ax.plot(validation)\n",
        "  ax.set_title('model '+ title)\n",
        "  ax.set_ylabel(title)\n",
        "  ax.set_xlabel('epoch')\n",
        "  ax.legend(['train', 'valid.'])\n",
        "\n",
        "def dataset_to_numpy_util(dataset, N):\n",
        "    dataset = dataset.batch(N)\n",
        "    for images, labels in dataset:\n",
        "        numpy_images = images.numpy()\n",
        "        numpy_labels = labels.numpy()\n",
        "        break;\n",
        "    return numpy_images, numpy_labels\n",
        "\n",
        "def title_from_label_and_target(label, correct_label):\n",
        "  correct = (label == correct_label)\n",
        "  return \"{} [{}{}{}]\".format(CLASSES[label], str(correct), ', shoud be ' if not correct else '',\n",
        "                              CLASSES[correct_label] if not correct else ''), correct\n",
        "\n",
        "def display_one_flower(image, title, subplot, red=False):\n",
        "    plt.subplot(subplot)\n",
        "    plt.axis('off')\n",
        "    plt.imshow(image)\n",
        "    plt.title(title, fontsize=16, color='red' if red else 'black')\n",
        "    return subplot+1\n",
        "\n",
        "def display_9_images_with_predictions(images, predictions, labels):\n",
        "  subplot=331\n",
        "  plt.figure(figsize=(13,13))\n",
        "  classes = np.argmax(predictions, axis=-1)\n",
        "  for i, image in enumerate(images):\n",
        "    title, correct = title_from_label_and_target(classes[i], labels[i])\n",
        "    subplot = display_one_flower(image, title, subplot, not correct)\n",
        "    if i >= 8:\n",
        "      break;\n",
        "\n",
        "  plt.tight_layout()\n",
        "  plt.subplots_adjust(wspace=0.1, hspace=0.1)\n",
        "  plt.show()\n",
        ""
      ]
    },
    {
      "cell_type": "markdown",
      "metadata": {
        "id": "x9gux-oKnH61"
      },
      "source": [
        "### Install Spark locally for quick testing\n",
        "\n",
        "You can use the cell below to **install Spark locally on this Colab VM** (like in the labs), to do quicker small-scale interactive testing. Using Spark in the cloud with **Dataproc is still required for the final version**.\n"
      ]
    },
    {
      "cell_type": "code",
      "execution_count": null,
      "metadata": {
        "colab": {
          "base_uri": "https://localhost:8080/"
        },
        "id": "BWbRwh8hnG5h",
        "outputId": "792d89dc-4102-4499-c690-88395cdd4958"
      },
      "outputs": [
        {
          "output_type": "stream",
          "name": "stdout",
          "text": [
            "/root\n",
            "3.2.0\n",
            "<SparkContext master=local[*] appName=pyspark-shell>\n"
          ]
        }
      ],
      "source": [
        "%cd\n",
        "!apt-get update -qq\n",
        "!apt-get install openjdk-8-jdk-headless -qq >> /dev/null # send any output to null device\n",
        "!tar -xzf \"/content/drive/My Drive/Big_Data/data/spark/spark-3.2.0-bin-hadoop2.7.tgz\" # unpack\n",
        "\n",
        "!pip install -q findspark\n",
        "import os\n",
        "os.environ[\"JAVA_HOME\"] = \"/usr/lib/jvm/java-8-openjdk-amd64\"\n",
        "os.environ[\"SPARK_HOME\"] = \"/root/spark-3.2.0-bin-hadoop2.7\"\n",
        "import findspark\n",
        "findspark.init()\n",
        "import pyspark\n",
        "print(pyspark.__version__)\n",
        "sc = pyspark.SparkContext.getOrCreate()\n",
        "print(sc)"
      ]
    },
    {
      "cell_type": "markdown",
      "metadata": {
        "id": "kvPXiovhi3ZZ"
      },
      "source": [
        "# Section 1: Data pre-processing\n",
        "\n",
        "This section is about the **pre-processing of a dataset** for deep learning.\n",
        "We first look at a ready-made solution using Tensorflow and then we build a implement the same process with Spark.\n",
        "The tasks are about **parallelisation** and **analysis** the performance of the cloud implementations."
      ]
    },
    {
      "cell_type": "markdown",
      "metadata": {
        "id": "-EtOSDFbkjgB"
      },
      "source": [
        "## 1.1 Getting started\n",
        "\n",
        "In this section, we get started with the data pre-processing. The code is based on lecture 3 of the 'Fast and Lean Data Science' course.\n",
        "\n",
        "**This code is using the TensorFlow** `tf.data` package, which supports map functions, similar to Spark. Your **task** will be to **re-implement the same approach in Spark**.  \n"
      ]
    },
    {
      "cell_type": "markdown",
      "metadata": {
        "id": "CedEByREXifP"
      },
      "source": [
        "We start by **setting some variables for the *Flowers* dataset**."
      ]
    },
    {
      "cell_type": "code",
      "execution_count": null,
      "metadata": {
        "id": "d8K6hL_kiWve"
      },
      "outputs": [],
      "source": [
        "GCS_PATTERN = 'gs://flowers-public/*/*.jpg' # glob  pattern for input files\n",
        "PARTITIONS = 16 # no of partitions we will use later\n",
        "TARGET_SIZE = [192, 192] # target resolution for the images\n",
        "CLASSES = [b'daisy', b'dandelion', b'roses', b'sunflowers', b'tulips']\n",
        "    # labels for the data"
      ]
    },
    {
      "cell_type": "markdown",
      "metadata": {
        "id": "MXD5l2WhktGk"
      },
      "source": [
        "We **read the image files** from the public GCS bucket that contains the *Flowers* dataset.\n",
        "**TensorFlow** has **functions** to execute glob patterns that we use to calculate the the number of images in total and per partition (rounded up as we cannont deal with parts of images)."
      ]
    },
    {
      "cell_type": "code",
      "execution_count": null,
      "metadata": {
        "colab": {
          "base_uri": "https://localhost:8080/"
        },
        "id": "nwsZ8X59mu24",
        "outputId": "75bdf68a-6781-437d-bed6-4e3cb2cddfb1"
      },
      "outputs": [
        {
          "output_type": "stream",
          "name": "stdout",
          "text": [
            "GCS_PATTERN matches 3670 images, to be divided into 16 partitions with up to 230 images each.\n"
          ]
        }
      ],
      "source": [
        "nb_images = len(tf.io.gfile.glob(GCS_PATTERN)) # number of images\n",
        "partition_size = math.ceil(1.0 * nb_images / PARTITIONS) # images per partition (float)\n",
        "print(\"GCS_PATTERN matches {} images, to be divided into {} partitions with up to {} images each.\".format(nb_images, PARTITIONS, partition_size))\n"
      ]
    },
    {
      "cell_type": "markdown",
      "metadata": {
        "id": "TbOsPuMEYS4Y"
      },
      "source": [
        "### Map functions\n",
        "\n",
        "In order to read use the images for learning, they need to be **preprocessed** (decoded, resized, cropped, and potentially recompressed).\n",
        "Below are **map functions** for these steps.\n",
        "You **don't need to study** the **internals of these functions** in detail."
      ]
    },
    {
      "cell_type": "code",
      "execution_count": null,
      "metadata": {
        "id": "T6SfG6W-O3Ua"
      },
      "outputs": [],
      "source": [
        "def decode_jpeg_and_label(filepath):\n",
        "    # extracts the image data and creates a class label, based on the filepath\n",
        "    bits = tf.io.read_file(filepath)\n",
        "    image = tf.image.decode_jpeg(bits)\n",
        "    # parse flower name from containing directory\n",
        "    label = tf.strings.split(tf.expand_dims(filepath, axis=-1), sep='/')\n",
        "    label2 = label.values[-2]\n",
        "    return image, label2\n",
        "\n",
        "def resize_and_crop_image(image, label):\n",
        "    # Resizes and cropd using \"fill\" algorithm:\n",
        "    # always make sure the resulting image is cut out from the source image\n",
        "    # so that it fills the TARGET_SIZE entirely with no black bars\n",
        "    # and a preserved aspect ratio.\n",
        "    w = tf.shape(image)[0]\n",
        "    h = tf.shape(image)[1]\n",
        "    tw = TARGET_SIZE[1]\n",
        "    th = TARGET_SIZE[0]\n",
        "    resize_crit = (w * th) / (h * tw)\n",
        "    image = tf.cond(resize_crit < 1,\n",
        "                    lambda: tf.image.resize(image, [w*tw/w, h*tw/w]), # if true\n",
        "                    lambda: tf.image.resize(image, [w*th/h, h*th/h])  # if false\n",
        "                    )\n",
        "    nw = tf.shape(image)[0]\n",
        "    nh = tf.shape(image)[1]\n",
        "    image = tf.image.crop_to_bounding_box(image, (nw - tw) // 2, (nh - th) // 2, tw, th)\n",
        "    return image, label\n",
        "\n",
        "def recompress_image(image, label):\n",
        "    # this reduces the amount of data, but takes some time\n",
        "    image = tf.cast(image, tf.uint8)\n",
        "    image = tf.image.encode_jpeg(image, optimize_size=True, chroma_downsampling=False)\n",
        "    return image, label"
      ]
    },
    {
      "cell_type": "markdown",
      "metadata": {
        "id": "fM4pDy_AShJx"
      },
      "source": [
        "With `tf.data`, we can apply decoding and resizing as map functions."
      ]
    },
    {
      "cell_type": "code",
      "execution_count": null,
      "metadata": {
        "id": "4XVfde0FShwR"
      },
      "outputs": [],
      "source": [
        "dsetFiles = tf.data.Dataset.list_files(GCS_PATTERN) # This also shuffles the images\n",
        "dsetDecoded = dsetFiles.map(decode_jpeg_and_label)\n",
        "dsetResized = dsetDecoded.map(resize_and_crop_image)"
      ]
    },
    {
      "cell_type": "markdown",
      "metadata": {
        "id": "1BGiiEHfi7bS"
      },
      "source": [
        "We can also look at some images using the image display function defined above (the one with the hidden code)."
      ]
    },
    {
      "cell_type": "code",
      "execution_count": null,
      "metadata": {
        "colab": {
          "base_uri": "https://localhost:8080/",
          "height": 1000
        },
        "id": "9qouACHdjJYk",
        "outputId": "9a115286-7f73-4586-f049-5dcc4a3d4aa1"
      },
      "outputs": [],
      "source": [
        "display_9_images_from_dataset(dsetResized)"
      ]
    },
    {
      "cell_type": "markdown",
      "metadata": {
        "id": "JaRNGdocmWHV"
      },
      "source": [
        "Now, let's test continuous reading from the dataset. We can see that reading the first 100 files already takes some time."
      ]
    },
    {
      "cell_type": "code",
      "execution_count": null,
      "metadata": {
        "colab": {
          "base_uri": "https://localhost:8080/"
        },
        "id": "-h5oYUC4zrf5",
        "outputId": "06531879-a5e7-4cb4-cec3-bcf31faf8b11"
      },
      "outputs": [
        {
          "output_type": "stream",
          "name": "stdout",
          "text": [
            "Image batch shape (10, 192, 192, 3), ['daisy', 'roses', 'daisy', 'sunflowers', 'sunflowers', 'roses', 'tulips', 'dandelion', 'daisy', 'dandelion'])\n",
            "Image batch shape (10, 192, 192, 3), ['daisy', 'roses', 'dandelion', 'roses', 'roses', 'sunflowers', 'tulips', 'sunflowers', 'sunflowers', 'sunflowers'])\n",
            "Image batch shape (10, 192, 192, 3), ['dandelion', 'dandelion', 'tulips', 'tulips', 'dandelion', 'sunflowers', 'tulips', 'dandelion', 'daisy', 'dandelion'])\n",
            "Image batch shape (10, 192, 192, 3), ['dandelion', 'roses', 'daisy', 'tulips', 'sunflowers', 'sunflowers', 'dandelion', 'roses', 'sunflowers', 'sunflowers'])\n",
            "Image batch shape (10, 192, 192, 3), ['dandelion', 'sunflowers', 'dandelion', 'daisy', 'dandelion', 'roses', 'daisy', 'sunflowers', 'daisy', 'roses'])\n",
            "Image batch shape (10, 192, 192, 3), ['tulips', 'daisy', 'roses', 'tulips', 'dandelion', 'sunflowers', 'dandelion', 'sunflowers', 'sunflowers', 'dandelion'])\n",
            "Image batch shape (10, 192, 192, 3), ['dandelion', 'dandelion', 'dandelion', 'daisy', 'roses', 'tulips', 'dandelion', 'daisy', 'tulips', 'tulips'])\n",
            "Image batch shape (10, 192, 192, 3), ['dandelion', 'dandelion', 'dandelion', 'dandelion', 'sunflowers', 'roses', 'tulips', 'dandelion', 'sunflowers', 'tulips'])\n",
            "Image batch shape (10, 192, 192, 3), ['dandelion', 'daisy', 'dandelion', 'tulips', 'dandelion', 'sunflowers', 'tulips', 'tulips', 'sunflowers', 'tulips'])\n",
            "Image batch shape (10, 192, 192, 3), ['sunflowers', 'roses', 'roses', 'roses', 'tulips', 'roses', 'roses', 'sunflowers', 'tulips', 'roses'])\n"
          ]
        }
      ],
      "source": [
        "sample_set = dsetResized.batch(10).take(10) # take 10 batches of 10 images for testing\n",
        "for image, label in sample_set:\n",
        "    print(\"Image batch shape {}, {})\".format(image.numpy().shape,\n",
        "        [lbl.decode('utf8') for lbl in label.numpy()]))"
      ]
    },
    {
      "cell_type": "markdown",
      "metadata": {
        "id": "SoGFH0oz5Z6y"
      },
      "source": [
        "## 1.2 Improving Speed\n",
        "\n",
        "Using individual image files didn't look very fast. The 'Lean and Fast Data Science' course introduced **two techniques to improve the speed**."
      ]
    },
    {
      "cell_type": "markdown",
      "metadata": {
        "id": "mIxOPCfI5dz3"
      },
      "source": [
        "\n",
        "### Recompress the images\n",
        "By **compressing** the images in the **reduced resolution** we save on the size.\n",
        "This **costs some CPU time** upfront, but **saves network and disk bandwith**, especially when the data are **read multiple times**.\n"
      ]
    },
    {
      "cell_type": "code",
      "execution_count": null,
      "metadata": {
        "id": "dxSnCKFX6Fv2",
        "colab": {
          "base_uri": "https://localhost:8080/"
        },
        "outputId": "8e25fccd-a706-4758-9e34-9eef3e1aa37c"
      },
      "outputs": [
        {
          "output_type": "stream",
          "name": "stdout",
          "text": [
            "Image batch shape (10,), ['dandelion', 'dandelion', 'sunflowers', 'sunflowers', 'dandelion', 'sunflowers', 'daisy', 'tulips', 'tulips', 'tulips'])\n",
            "Image batch shape (10,), ['tulips', 'sunflowers', 'dandelion', 'dandelion', 'tulips', 'daisy', 'dandelion', 'dandelion', 'sunflowers', 'daisy'])\n",
            "Image batch shape (10,), ['tulips', 'sunflowers', 'dandelion', 'sunflowers', 'tulips', 'daisy', 'daisy', 'tulips', 'daisy', 'tulips'])\n",
            "Image batch shape (10,), ['dandelion', 'roses', 'roses', 'daisy', 'roses', 'dandelion', 'daisy', 'daisy', 'roses', 'daisy'])\n",
            "Image batch shape (10,), ['tulips', 'tulips', 'roses', 'sunflowers', 'tulips', 'dandelion', 'roses', 'roses', 'sunflowers', 'roses'])\n",
            "Image batch shape (10,), ['daisy', 'daisy', 'dandelion', 'dandelion', 'tulips', 'tulips', 'daisy', 'roses', 'tulips', 'roses'])\n",
            "Image batch shape (10,), ['tulips', 'dandelion', 'sunflowers', 'tulips', 'tulips', 'dandelion', 'dandelion', 'sunflowers', 'roses', 'sunflowers'])\n",
            "Image batch shape (10,), ['dandelion', 'roses', 'dandelion', 'dandelion', 'roses', 'daisy', 'dandelion', 'sunflowers', 'sunflowers', 'tulips'])\n",
            "Image batch shape (10,), ['sunflowers', 'dandelion', 'roses', 'dandelion', 'sunflowers', 'roses', 'tulips', 'sunflowers', 'sunflowers', 'sunflowers'])\n",
            "Image batch shape (10,), ['dandelion', 'tulips', 'dandelion', 'roses', 'sunflowers', 'daisy', 'roses', 'dandelion', 'daisy', 'dandelion'])\n"
          ]
        }
      ],
      "source": [
        "# This is a quick test to get an idea how long recompressions takes.\n",
        "dataset4 = dsetResized.map(recompress_image)\n",
        "test_set = dataset4.batch(10).take(10)\n",
        "for image, label in test_set:\n",
        "    print(\"Image batch shape {}, {})\".format(image.numpy().shape, [lbl.decode('utf8') for lbl in label.numpy()]))"
      ]
    },
    {
      "cell_type": "markdown",
      "metadata": {
        "id": "kT6qI7FZ6KJW"
      },
      "source": [
        "### Write the dataset to TFRecord files\n",
        "\n",
        "By writing **multiple preprocessed samples into a single file**, we can make further speed gains.\n",
        "We distribute the data over **partitions** to facilitate **parallelisation** when the data are used.\n",
        "First we need to **define a location** where we want to put the file."
      ]
    },
    {
      "cell_type": "code",
      "execution_count": null,
      "metadata": {
        "id": "Be9JCyLk6hyz"
      },
      "outputs": [],
      "source": [
        "\n",
        "GCS_OUTPUT = BUCKET + '/tfrecords-jpeg-192x192-2/flowers'  # prefix for output file names"
      ]
    },
    {
      "cell_type": "markdown",
      "metadata": {
        "id": "OsaOcjdM6rJc"
      },
      "source": [
        "Now we can **write the TFRecord files** to the bucket.\n",
        "\n",
        "Running the cell takes some time and **only needs to be done once** or not at all, as you can use the publicly available data for the next few cells. For convenience I have commented out the call to `write_tfrecords` at the end of the next cell. You don't need to run it (it takes some time), but you'll need to use the code below later (but there is no need to study it in detail).\n",
        "\n",
        "There is a **ready-made pre-processed data** versions available here:\n",
        "`gs://flowers-public/tfrecords-jpeg-192x192-2/`, that we can use for testing."
      ]
    },
    {
      "cell_type": "code",
      "execution_count": null,
      "metadata": {
        "cellView": "both",
        "id": "oYzgji7agVg4"
      },
      "outputs": [],
      "source": [
        "# functions for writing TFRecord entries\n",
        "# Feature values are always stored as lists, a single data element will be a list of size 1\n",
        "def _bytestring_feature(list_of_bytestrings):\n",
        "    return tf.train.Feature(bytes_list=tf.train.BytesList(value=list_of_bytestrings))\n",
        "\n",
        "def _int_feature(list_of_ints): # int64\n",
        "    return tf.train.Feature(int64_list=tf.train.Int64List(value=list_of_ints))\n",
        "\n",
        "def to_tfrecord(tfrec_filewriter, img_bytes, label): # Create tf data records\n",
        "    class_num = np.argmax(np.array(CLASSES)==label) # 'roses' => 2 (order defined in CLASSES)\n",
        "    one_hot_class = np.eye(len(CLASSES))[class_num]     # [0, 0, 1, 0, 0] for class #2, roses\n",
        "    feature = {\n",
        "        \"image\": _bytestring_feature([img_bytes]), # one image in the list\n",
        "        \"class\": _int_feature([class_num]) #,      # one class in the list\n",
        "    }\n",
        "    return tf.train.Example(features=tf.train.Features(feature=feature))\n",
        "\n",
        "def write_tfrecords(GCS_PATTERN,GCS_OUTPUT,partition_size): # write the images to files.\n",
        "    print(\"Writing TFRecords\")\n",
        "    tt0 = time.time()\n",
        "    filenames = tf.data.Dataset.list_files(GCS_PATTERN)\n",
        "    dataset1 = filenames.map(decode_jpeg_and_label)\n",
        "    dataset2 = dataset1.map(resize_and_crop_image)\n",
        "    dataset3 = dataset2.map(recompress_image)\n",
        "    dataset4 = dataset3.batch(partition_size) # partitioning: there will be one \"batch\" of images per file\n",
        "    for partition, (image, label) in enumerate(dataset4):\n",
        "        # batch size used as partition size here\n",
        "        partition_size = image.numpy().shape[0]\n",
        "        # good practice to have the number of records in the filename\n",
        "        filename = GCS_OUTPUT + \"{:02d}-{}.tfrec\".format(partition, partition_size)\n",
        "        # You need to change GCS_OUTPUT to your own bucket to actually create new files\n",
        "        with tf.io.TFRecordWriter(filename) as out_file:\n",
        "            for i in range(partition_size):\n",
        "                example = to_tfrecord(out_file,\n",
        "                                    image.numpy()[i], # re-compressed image: already a byte string\n",
        "                                    label.numpy()[i] #\n",
        "                                    )\n",
        "                out_file.write(example.SerializeToString())\n",
        "        print(\"Wrote file {} containing {} records\".format(filename, partition_size))\n",
        "    print(\"Total time: \"+str(time.time()-tt0))\n",
        "\n",
        "#  write_tfrecords(GCS_PATTERN,GCS_OUTPUT,partition_size) # uncomment to run this cell"
      ]
    },
    {
      "cell_type": "markdown",
      "metadata": {
        "id": "D1zyN9txTUuX"
      },
      "source": [
        "### Test the TFRecord files\n",
        "\n",
        "We can now **read from the TFRecord files**. By default, we use the files in the public bucket. Comment out the 1st line of the cell below to use the files written in the cell above."
      ]
    },
    {
      "cell_type": "code",
      "execution_count": null,
      "metadata": {
        "id": "4Xp7Z3DlTSBe"
      },
      "outputs": [],
      "source": [
        "GCS_OUTPUT = 'gs://flowers-public/tfrecords-jpeg-192x192-2/'\n",
        "# remove the line above to use your own files that you generated above\n",
        "\n",
        "def read_tfrecord(example):\n",
        "    features = {\n",
        "        \"image\": tf.io.FixedLenFeature([], tf.string),  # tf.string = bytestring (not text string)\n",
        "        \"class\": tf.io.FixedLenFeature([], tf.int64) #,   # shape [] means scalar\n",
        "    }\n",
        "    # decode the TFRecord\n",
        "    example = tf.io.parse_single_example(example, features)\n",
        "    image = tf.image.decode_jpeg(example['image'], channels=3)\n",
        "    image = tf.reshape(image, [*TARGET_SIZE, 3])\n",
        "    class_num = example['class']\n",
        "    return image, class_num\n",
        "\n",
        "def load_dataset(filenames):\n",
        "    # read from TFRecords. For optimal performance, read from multiple\n",
        "    # TFRecord files at once and set the option experimental_deterministic = False\n",
        "    # to allow order-altering optimizations.\n",
        "    option_no_order = tf.data.Options()\n",
        "    option_no_order.experimental_deterministic = False\n",
        "\n",
        "    dataset = tf.data.TFRecordDataset(filenames)\n",
        "    dataset = dataset.with_options(option_no_order)\n",
        "    dataset = dataset.map(read_tfrecord)\n",
        "    return dataset\n",
        "\n",
        "\n",
        "filenames = tf.io.gfile.glob(GCS_OUTPUT + \"*.tfrec\")\n",
        "datasetTfrec = load_dataset(filenames)"
      ]
    },
    {
      "cell_type": "markdown",
      "metadata": {
        "id": "RC98hPqGpugm"
      },
      "source": [
        "Let's have a look **if reading from the TFRecord** files is **quicker**."
      ]
    },
    {
      "cell_type": "code",
      "execution_count": null,
      "metadata": {
        "id": "Rsn5vNrdpM4B",
        "colab": {
          "base_uri": "https://localhost:8080/"
        },
        "outputId": "c766637d-c3cd-4c97-8964-20b84f319cc1"
      },
      "outputs": [
        {
          "output_type": "stream",
          "name": "stdout",
          "text": [
            "Image batch shape (10, 192, 192, 3), ['1', '3', '3', '1', '1', '2', '4', '3', '4', '3'])\n",
            "Image batch shape (10, 192, 192, 3), ['3', '0', '3', '4', '2', '2', '3', '2', '0', '3'])\n",
            "Image batch shape (10, 192, 192, 3), ['4', '4', '4', '1', '3', '2', '4', '4', '4', '3'])\n",
            "Image batch shape (10, 192, 192, 3), ['1', '3', '4', '1', '1', '4', '2', '2', '3', '2'])\n",
            "Image batch shape (10, 192, 192, 3), ['0', '4', '3', '4', '0', '1', '2', '1', '2', '0'])\n",
            "Image batch shape (10, 192, 192, 3), ['1', '1', '1', '2', '0', '0', '1', '4', '3', '1'])\n",
            "Image batch shape (10, 192, 192, 3), ['1', '2', '0', '2', '3', '4', '2', '1', '1', '0'])\n",
            "Image batch shape (10, 192, 192, 3), ['0', '1', '1', '3', '1', '0', '1', '3', '3', '3'])\n",
            "Image batch shape (10, 192, 192, 3), ['3', '3', '3', '1', '1', '2', '0', '3', '0', '1'])\n",
            "Image batch shape (10, 192, 192, 3), ['0', '0', '1', '1', '1', '0', '1', '4', '3', '2'])\n"
          ]
        }
      ],
      "source": [
        "batched_dataset = datasetTfrec.batch(10)\n",
        "sample_set = batched_dataset.take(10)\n",
        "for image, label in sample_set:\n",
        "    print(\"Image batch shape {}, {})\".format(image.numpy().shape, \\\n",
        "                        [str(lbl) for lbl in label.numpy()]))"
      ]
    },
    {
      "cell_type": "markdown",
      "metadata": {
        "id": "5IHOERkBHqy4"
      },
      "source": [
        "Wow, we have a **massive speed-up**! The repackageing is worthwhile :-)"
      ]
    },
    {
      "cell_type": "markdown",
      "metadata": {
        "id": "n90Cpq_L-fht"
      },
      "source": [
        "## Task 1: Write TFRecord files to the cloud with Spark (40%)\n",
        "\n",
        "Since recompressing and repackaging is very effective, we would like to be able to do it inparallel for large datasets.\n",
        "This is a relatively straightforward case of **parallelisation**.\n",
        "We will **use Spark to implement** the same process as above, but in parallel."
      ]
    },
    {
      "cell_type": "markdown",
      "metadata": {
        "id": "BCpEv66mgjfQ"
      },
      "source": [
        "### 1a)\tCreate the script (14%)\n",
        "\n",
        "**Re-implement** the pre-processing in Spark, using Spark mechanisms for **distributing** the workload **over multiple machines**.\n",
        "\n",
        "You need to:\n",
        "\n",
        "i) **Copy** over the **mapping functions** (see section 1.1) and **adapt** the resizing and recompression functions **to Spark** (only one argument). (3%)\n",
        "\n",
        "ii) **Replace** the TensorFlow **Dataset objects with RDDs**, starting with an RDD that contains the list of image filenames. (3%)\n",
        "\n",
        "iii) **Sample** the the RDD to a smaller number at an appropriate position in the code. Specify a sampling factor of 0.02 for short tests. (1%)\n",
        "\n",
        "iv) Then **use the functions from above** to write the TFRecord files. (3%)\n",
        "\n",
        "v) The code for **writing to the TFRecord files** needs to be put into a function, that can be applied to every partition with the ['RDD.mapPartitionsWithIndex'](https://spark.apache.org/docs/2.4.8/api/python/pyspark.html#pyspark.RDD.mapPartitionsWithIndex) function.\n",
        "The return value of that function is not used here, but you should return the filename, so that you have a list of the created TFRecord files. (4%)\n"
      ]
    },
    {
      "cell_type": "code",
      "source": [
        "#Import Librabries copying from above\n",
        "import os, sys, math\n",
        "import numpy as np\n",
        "import time\n",
        "import datetime\n",
        "import tensorflow as tf\n",
        "print(\"Tensorflow version \" + tf.__version__)\n",
        "import pyspark\n",
        "sc = pyspark.SparkContext.getOrCreate()\n",
        "\n",
        "#Define necessary variables copied from above\n",
        "PROJECT = 'big-data-coursework-385615'\n",
        "REGION = 'us-central1'\n",
        "GCS_PATTERN = 'gs://flowers-public/*/*.jpg'\n",
        "BUCKET = 'gs://{}-storage'.format(PROJECT)\n",
        "GCS_OUTPUT = BUCKET + '/tfrecords-jpeg-192x192-2/flowers'\n",
        "PARTITIONS = 16\n",
        "TARGET_SIZE = [192, 192]\n",
        "CLASSES = [b'daisy', b'dandelion', b'roses', b'sunflowers', b'tulips']\n",
        "\n",
        "# i) Copy over the mapping functions (see section 1.1) and adapt the resizing and recompression functions to\n",
        "# Spark (only one argument).\n",
        "\n",
        "#Define functions\n",
        "def _bytestring_feature(list_of_bytestrings):\n",
        "    return tf.train.Feature(bytes_list=tf.train.BytesList(value=list_of_bytestrings))\n",
        "\n",
        "def _int_feature(list_of_ints):\n",
        "    return tf.train.Feature(int64_list=tf.train.Int64List(value=list_of_ints))\n",
        "\n",
        "def to_tfrecord(tfrec_filewriter, img_bytes, label):\n",
        "    class_num = np.argmax(np.array(CLASSES)==label)\n",
        "    one_hot_class = np.eye(len(CLASSES))[class_num]\n",
        "    feature = {\n",
        "        \"image\": _bytestring_feature([img_bytes]),\n",
        "        \"class\": _int_feature([class_num])\n",
        "    }\n",
        "    return tf.train.Example(features=tf.train.Features(feature=feature))\n",
        "\n",
        "def decode_jpeg_and_label(filepath):\n",
        "    bits = tf.io.read_file(filepath)\n",
        "    image = tf.image.decode_jpeg(bits)\n",
        "    label = tf.strings.split(tf.expand_dims(filepath, axis=-1), sep='/')\n",
        "    label2 = label.values[-2]\n",
        "    return image, label2\n",
        "\n",
        "def resize_and_crop_image(one):\n",
        "\n",
        "    image = one[0] #As we are using a one argument, we define image and label also our argument is tuple type\n",
        "    label = one[1] #As we are using a one argument, we define image and label also our argument is tuple type\n",
        "\n",
        "    w = tf.shape(image)[0]\n",
        "    h = tf.shape(image)[1]\n",
        "    tw = TARGET_SIZE[1]\n",
        "    th = TARGET_SIZE[0]\n",
        "    resize_crit = (w * th) / (h * tw)\n",
        "    image = tf.cond(resize_crit < 1,\n",
        "                    lambda: tf.image.resize(image, [w*tw/w, h*tw/w]),\n",
        "                    lambda: tf.image.resize(image, [w*th/h, h*th/h])\n",
        "                    )\n",
        "    nw = tf.shape(image)[0]\n",
        "    nh = tf.shape(image)[1]\n",
        "    image = tf.image.crop_to_bounding_box(image, (nw - tw) // 2, (nh - th) // 2, tw, th)\n",
        "    return image, label\n",
        "\n",
        "def recompress_image(one):\n",
        "\n",
        "    image = one[0] #As we are using a one argument, we define image and label also our argument is tuple type\n",
        "    label = one[1] #As we are using a one argument, we define image and label also our argument is tuple type\n",
        "\n",
        "    image = tf.cast(image, tf.uint8)\n",
        "    image = tf.image.encode_jpeg(image, optimize_size=True, chroma_downsampling=False)\n",
        "    return image, label\n",
        "\n",
        "# ii) Replace the TensorFlow Dataset objects with RDDs, starting with an RDD that contains the list\n",
        "# of image filenames.\n",
        "\n",
        "filenames_spark = sc.parallelize(tf.io.gfile.glob(GCS_PATTERN))\n",
        "\n",
        "\n",
        "# iii) Sample the the RDD to a smaller number at an appropriate position in the code.\n",
        "# Specify a sampling factor of 0.02 for short tests\n",
        "filenames_spark_sampled = filenames_spark.sample(False, 0.02) # withReplacement parameter is set False and fraction parameter is set 0.02\n",
        "print(\"File unsampled test: \", filenames_spark)\n",
        "print(\"File sample test: \",filenames_spark_sampled)\n",
        "\n",
        "\n",
        "# iv) Write the TFRecord files with the help of above function\n",
        "def spark_tfr(id, itr):\n",
        "    filename = GCS_OUTPUT + \"{:02d}.tfrec\".format(id)\n",
        "    with tf.io.TFRecordWriter(filename) as out_file:\n",
        "\n",
        "        for (image,label) in itr:\n",
        "\n",
        "            example = to_tfrecord(out_file,\n",
        "                                image.numpy(),\n",
        "                                label.numpy()\n",
        "                                )\n",
        "\n",
        "            out_file.write(example.SerializeToString())\n",
        "    return [filename]\n",
        "\n",
        "\n",
        "start = time.time() #start time\n",
        "\n",
        "\n",
        "# v) Calling 'RDD.mapPartitionsWithIndex'\n",
        "\n",
        "#Decode\n",
        "spark_decode = filenames_spark.map(decode_jpeg_and_label) #sampled_rdd.map(decode_jpeg_and_label)\n",
        "print('Decoded: ', spark_decode)\n",
        "#Resize\n",
        "spark_resize = spark_decode.map(resize_and_crop_image)\n",
        "print('Resized: ',spark_resize)\n",
        "#Recompress\n",
        "spark_recompress = spark_resize.map(recompress_image)\n",
        "print('Resized: ',spark_recompress)\n",
        "#Spark Repartition\n",
        "spark_repartition = spark_recompress.repartition(PARTITIONS)\n",
        "print(\"Partitions: \", (spark_repartition.getNumPartitions()))\n",
        "# Call 'RDD.mapPartitionsWithIndex'\n",
        "spark_map = spark_repartition.mapPartitionsWithIndex(spark_tfr)\n",
        "print('Map: ',spark_map.collect())\n",
        "\n",
        "end = time.time() - start\n",
        "print('Time taken: ', end)"
      ],
      "metadata": {
        "colab": {
          "base_uri": "https://localhost:8080/"
        },
        "id": "PTXaAi2WXmTN",
        "outputId": "423a284f-c4f7-43e0-8cdb-13f61e83d1ba"
      },
      "execution_count": null,
      "outputs": [
        {
          "output_type": "stream",
          "name": "stdout",
          "text": [
            "Tensorflow version 2.12.0\n",
            "File unsampled test:  ParallelCollectionRDD[0] at readRDDFromFile at PythonRDD.scala:274\n",
            "File sample test:  PythonRDD[1] at RDD at PythonRDD.scala:53\n",
            "Decoded:  PythonRDD[2] at RDD at PythonRDD.scala:53\n",
            "Resized:  PythonRDD[3] at RDD at PythonRDD.scala:53\n",
            "Resized:  PythonRDD[4] at RDD at PythonRDD.scala:53\n",
            "Partitions:  16\n",
            "Map:  ['gs://big-data-coursework-385615-storage/tfrecords-jpeg-192x192-2/flowers00.tfrec', 'gs://big-data-coursework-385615-storage/tfrecords-jpeg-192x192-2/flowers01.tfrec', 'gs://big-data-coursework-385615-storage/tfrecords-jpeg-192x192-2/flowers02.tfrec', 'gs://big-data-coursework-385615-storage/tfrecords-jpeg-192x192-2/flowers03.tfrec', 'gs://big-data-coursework-385615-storage/tfrecords-jpeg-192x192-2/flowers04.tfrec', 'gs://big-data-coursework-385615-storage/tfrecords-jpeg-192x192-2/flowers05.tfrec', 'gs://big-data-coursework-385615-storage/tfrecords-jpeg-192x192-2/flowers06.tfrec', 'gs://big-data-coursework-385615-storage/tfrecords-jpeg-192x192-2/flowers07.tfrec', 'gs://big-data-coursework-385615-storage/tfrecords-jpeg-192x192-2/flowers08.tfrec', 'gs://big-data-coursework-385615-storage/tfrecords-jpeg-192x192-2/flowers09.tfrec', 'gs://big-data-coursework-385615-storage/tfrecords-jpeg-192x192-2/flowers10.tfrec', 'gs://big-data-coursework-385615-storage/tfrecords-jpeg-192x192-2/flowers11.tfrec', 'gs://big-data-coursework-385615-storage/tfrecords-jpeg-192x192-2/flowers12.tfrec', 'gs://big-data-coursework-385615-storage/tfrecords-jpeg-192x192-2/flowers13.tfrec', 'gs://big-data-coursework-385615-storage/tfrecords-jpeg-192x192-2/flowers14.tfrec', 'gs://big-data-coursework-385615-storage/tfrecords-jpeg-192x192-2/flowers15.tfrec']\n",
            "Time taken:  166.78497433662415\n"
          ]
        }
      ]
    },
    {
      "cell_type": "markdown",
      "metadata": {
        "id": "SHG5TzULkJh1"
      },
      "source": [
        "### 1b)\tTesting (3%)\n",
        "\n",
        "i) Read from the TFRecord Dataset, using `load_dataset` and `display_9_images_from_dataset` to test.\n"
      ]
    },
    {
      "cell_type": "code",
      "execution_count": null,
      "metadata": {
        "id": "crKBTwVXLBWm",
        "colab": {
          "base_uri": "https://localhost:8080/",
          "height": 1000
        },
        "outputId": "21e37c93-e4a1-4dcd-c7fb-ae71d412aac1"
      },
      "outputs": [],
      "source": [
        "### CODING TASK ###\n",
        "#Define filenames\n",
        "filenames = tf.io.gfile.glob(GCS_OUTPUT + \"*.tfrec\")\n",
        "\n",
        "#load_dataset\n",
        "datasetTfrec = load_dataset(filenames)\n",
        "\n",
        "#display\n",
        "display_9_images_from_dataset(datasetTfrec)\n"
      ]
    },
    {
      "cell_type": "markdown",
      "metadata": {
        "id": "3ggSOXhehVN9"
      },
      "source": [
        "ii) Write your code above into a file using the *cell magic* `%%writefile spark_write_tfrec.py` at the beginning of the file. Then, run the file  locally in Spark.\n",
        "\n"
      ]
    },
    {
      "cell_type": "code",
      "execution_count": null,
      "metadata": {
        "id": "7kTC9um02ip-",
        "colab": {
          "base_uri": "https://localhost:8080/"
        },
        "outputId": "3e38ac9a-56ac-432b-9069-1741412a71f1"
      },
      "outputs": [
        {
          "output_type": "stream",
          "name": "stdout",
          "text": [
            "Writing spark_write_tfrec.py\n"
          ]
        }
      ],
      "source": [
        "### CODING TASK ###\n",
        "%%writefile spark_write_tfrec.py\n",
        "#Import Librabries copying from above\n",
        "import os, sys, math\n",
        "import numpy as np\n",
        "import time\n",
        "import datetime\n",
        "import tensorflow as tf\n",
        "print(\"Tensorflow version \" + tf.__version__)\n",
        "import pyspark\n",
        "sc = pyspark.SparkContext.getOrCreate()\n",
        "\n",
        "#Define necessary variables copied from above\n",
        "PROJECT = 'big-data-coursework-385615'\n",
        "REGION = 'us-central1'\n",
        "GCS_PATTERN = 'gs://flowers-public/*/*.jpg'\n",
        "BUCKET = 'gs://{}-storage'.format(PROJECT)\n",
        "GCS_OUTPUT = BUCKET + '/tfrecords-jpeg-192x192-2/flowers'\n",
        "PARTITIONS = 16\n",
        "TARGET_SIZE = [192, 192]\n",
        "CLASSES = [b'daisy', b'dandelion', b'roses', b'sunflowers', b'tulips']\n",
        "\n",
        "# i) Copy over the mapping functions (see section 1.1) and adapt the resizing and recompression functions to\n",
        "# Spark (only one argument).\n",
        "\n",
        "#Define functions\n",
        "def _bytestring_feature(list_of_bytestrings):\n",
        "    return tf.train.Feature(bytes_list=tf.train.BytesList(value=list_of_bytestrings))\n",
        "\n",
        "def _int_feature(list_of_ints):\n",
        "    return tf.train.Feature(int64_list=tf.train.Int64List(value=list_of_ints))\n",
        "\n",
        "def to_tfrecord(tfrec_filewriter, img_bytes, label):\n",
        "    class_num = np.argmax(np.array(CLASSES)==label)\n",
        "    one_hot_class = np.eye(len(CLASSES))[class_num]\n",
        "    feature = {\n",
        "        \"image\": _bytestring_feature([img_bytes]),\n",
        "        \"class\": _int_feature([class_num])\n",
        "    }\n",
        "    return tf.train.Example(features=tf.train.Features(feature=feature))\n",
        "\n",
        "def decode_jpeg_and_label(filepath):\n",
        "    bits = tf.io.read_file(filepath)\n",
        "    image = tf.image.decode_jpeg(bits)\n",
        "    label = tf.strings.split(tf.expand_dims(filepath, axis=-1), sep='/')\n",
        "    label2 = label.values[-2]\n",
        "    return image, label2\n",
        "\n",
        "def resize_and_crop_image(one):\n",
        "\n",
        "    image = one[0] #As we are using a one argument, we define image and label also our argument is tuple type\n",
        "    label = one[1] #As we are using a one argument, we define image and label also our argument is tuple type\n",
        "\n",
        "    w = tf.shape(image)[0]\n",
        "    h = tf.shape(image)[1]\n",
        "    tw = TARGET_SIZE[1]\n",
        "    th = TARGET_SIZE[0]\n",
        "    resize_crit = (w * th) / (h * tw)\n",
        "    image = tf.cond(resize_crit < 1,\n",
        "                    lambda: tf.image.resize(image, [w*tw/w, h*tw/w]),\n",
        "                    lambda: tf.image.resize(image, [w*th/h, h*th/h])\n",
        "                    )\n",
        "    nw = tf.shape(image)[0]\n",
        "    nh = tf.shape(image)[1]\n",
        "    image = tf.image.crop_to_bounding_box(image, (nw - tw) // 2, (nh - th) // 2, tw, th)\n",
        "    return image, label\n",
        "\n",
        "def recompress_image(one):\n",
        "\n",
        "    image = one[0] #As we are using a one argument, we define image and label also our argument is tuple type\n",
        "    label = one[1] #As we are using a one argument, we define image and label also our argument is tuple type\n",
        "\n",
        "    image = tf.cast(image, tf.uint8)\n",
        "    image = tf.image.encode_jpeg(image, optimize_size=True, chroma_downsampling=False)\n",
        "    return image, label\n",
        "\n",
        "# ii) Replace the TensorFlow Dataset objects with RDDs, starting with an RDD that contains the list\n",
        "# of image filenames.\n",
        "\n",
        "filenames_spark = sc.parallelize(tf.io.gfile.glob(GCS_PATTERN))\n",
        "\n",
        "\n",
        "# iii) Sample the the RDD to a smaller number at an appropriate position in the code.\n",
        "# Specify a sampling factor of 0.02 for short tests\n",
        "filenames_spark_sampled = filenames_spark.sample(False, 0.02) # withReplacement parameter is set False and fraction parameter is set 0.02\n",
        "print(\"File unsampled test: \", filenames_spark)\n",
        "print(\"File sample test: \",filenames_spark_sampled)\n",
        "\n",
        "\n",
        "# iv) Write the TFRecord files with the help of above function\n",
        "def spark_tfr(id, itr):\n",
        "    filename = GCS_OUTPUT + \"{:02d}.tfrec\".format(id)\n",
        "    with tf.io.TFRecordWriter(filename) as out_file:\n",
        "\n",
        "        for (image,label) in itr:\n",
        "\n",
        "            example = to_tfrecord(out_file,\n",
        "                                image.numpy(),\n",
        "                                label.numpy()\n",
        "                                )\n",
        "\n",
        "            out_file.write(example.SerializeToString())\n",
        "    return [filename]\n",
        "\n",
        "\n",
        "start = time.time() #start time\n",
        "\n",
        "\n",
        "# v) Calling 'RDD.mapPartitionsWithIndex'\n",
        "\n",
        "#Decode\n",
        "spark_decode = filenames_spark.map(decode_jpeg_and_label) #sampled_rdd.map(decode_jpeg_and_label)\n",
        "print('Decoded: ', spark_decode)\n",
        "#Resize\n",
        "spark_resize = spark_decode.map(resize_and_crop_image)\n",
        "print('Resized: ',spark_resize)\n",
        "#Recompress\n",
        "spark_recompress = spark_resize.map(recompress_image)\n",
        "print('Resized: ',spark_recompress)\n",
        "#Spark Repartition\n",
        "spark_repartition = spark_recompress.repartition(PARTITIONS)\n",
        "print(\"Partitions: \", (spark_repartition.getNumPartitions()))\n",
        "# Call 'RDD.mapPartitionsWithIndex'\n",
        "spark_map = spark_repartition.mapPartitionsWithIndex(spark_tfr)\n",
        "print('Map: ',spark_map.collect())\n",
        "\n",
        "end = time.time() - start\n",
        "print('Time taken: ', end)"
      ]
    },
    {
      "cell_type": "markdown",
      "metadata": {
        "id": "8Ts44bFzGw2a"
      },
      "source": [
        "### 1c) Set up a cluster and run the script. (6%)\n",
        "\n",
        "Following the example from the labs, set up a cluster to run PySpark jobs in the cloud. You need to set up so that TensorFlow is installed on all nodes in the cluster.  \n"
      ]
    },
    {
      "cell_type": "markdown",
      "metadata": {
        "id": "aRwWRQpn4Rb_"
      },
      "source": [
        "#### i) Single machine cluster\n",
        "Set up a cluster with a single machine using the maximal SSD size (100) and 8 vCPUs.\n",
        "\n",
        "Enable **package installation** by passing a flag `--initialization-actions` with argument `gs://goog-dataproc-initialization-actions-$REGION/python/pip-install.sh` (this is a public script that will read metadata to determine which packages to install).\n",
        "Then, the **packages are specified** by providing a `--metadata` flag with the argument `PIP_PACKAGES=tensorflow==2.4.0`.\n",
        "\n",
        "Note: consider using `PIP_PACKAGES=\"tensorflow numpy\"` or `PIP_PACKAGES=tensorflow` in case an older version of tensorflow is causing issues.\n",
        "\n",
        "When the cluster is running, run your script to check that it works and keep the output cell output. (3%)\n"
      ]
    },
    {
      "cell_type": "code",
      "source": [
        "!gcloud dataproc clusters delete $CLUSTER"
      ],
      "metadata": {
        "colab": {
          "base_uri": "https://localhost:8080/"
        },
        "id": "VZYv09dT_Yki",
        "outputId": "c7c7a289-6ca5-4aec-f729-f378ee7c5f2a"
      },
      "execution_count": null,
      "outputs": [
        {
          "output_type": "stream",
          "name": "stdout",
          "text": [
            "The cluster 'big-data-coursework-385615-cluster' and all attached disks will be \n",
            "deleted.\n",
            "\n",
            "Do you want to continue (Y/n)?  Y\n",
            "\n",
            "Waiting on operation [projects/big-data-coursework-385615/regions/us-central1/operations/8a567764-a0f3-3d29-ab57-e0f20cf76062].\n",
            "Deleted [https://dataproc.googleapis.com/v1/projects/big-data-coursework-385615/regions/us-central1/clusters/big-data-coursework-385615-cluster].\n"
          ]
        }
      ]
    },
    {
      "cell_type": "code",
      "execution_count": null,
      "metadata": {
        "id": "eOiK8N66crOd",
        "colab": {
          "base_uri": "https://localhost:8080/"
        },
        "outputId": "b05ed344-7bcd-4891-f22a-644fc58d7e05"
      },
      "outputs": [
        {
          "output_type": "stream",
          "name": "stdout",
          "text": [
            "Waiting on operation [projects/big-data-coursework-385615/regions/us-central1/operations/8edb1c11-b1b9-3889-b376-371356eb114b].\n",
            "\n",
            "\u001b[1;33mWARNING:\u001b[0m Don't create production clusters that reference initialization actions located in the gs://goog-dataproc-initialization-actions-REGION public buckets. These scripts are provided as reference implementations, and they are synchronized with ongoing GitHub repository changes—a new version of a initialization action in public buckets may break your cluster creation. Instead, copy the following initialization actions from public buckets into your bucket : gs://goog-dataproc-initialization-actions-us-central1/python/pip-install.sh\n",
            "\u001b[1;33mWARNING:\u001b[0m Permissions are missing for the default service account '880598053282-compute@developer.gserviceaccount.com', missing permissions: [storage.objects.get, storage.objects.update] on the staging_bucket 'projects/_/buckets/dataproc-staging-us-central1-880598053282-53pecfob'. This usually happens when a custom resource (ex: custom staging bucket) or a user-managed VM Service account has been provided and the default/user-managed service account hasn't been granted enough permissions on the resource. See https://cloud.google.com/dataproc/docs/concepts/configuring-clusters/service-accounts#VM_service_account.\n",
            "\u001b[1;33mWARNING:\u001b[0m Permissions are missing for the default service account '880598053282-compute@developer.gserviceaccount.com', missing permissions: [storage.objects.get, storage.objects.update] on the temp_bucket 'projects/_/buckets/dataproc-temp-us-central1-880598053282-evfmovv3'. This usually happens when a custom resource (ex: custom staging bucket) or a user-managed VM Service account has been provided and the default/user-managed service account hasn't been granted enough permissions on the resource. See https://cloud.google.com/dataproc/docs/concepts/configuring-clusters/service-accounts#VM_service_account.\n",
            "Created [https://dataproc.googleapis.com/v1/projects/big-data-coursework-385615/regions/us-central1/clusters/big-data-coursework-385615-cluster] Cluster placed in zone [us-central1-b].\n"
          ]
        }
      ],
      "source": [
        "### CODING TASK ###\n",
        "!gcloud dataproc clusters create $CLUSTER \\\n",
        "    --image-version 1.4-ubuntu18 --single-node \\\n",
        "    --initialization-actions gs://goog-dataproc-initialization-actions-$REGION/python/pip-install.sh \\\n",
        "    --metadata PIP_PACKAGES=tensorflow==2.4.0 \\\n",
        "    --master-machine-type n1-standard-8 \\\n",
        "    --master-boot-disk-type pd-ssd --master-boot-disk-size 100 \\\n",
        "    --max-idle 3600s"
      ]
    },
    {
      "cell_type": "markdown",
      "metadata": {
        "id": "SC4BjJ4SBt0g"
      },
      "source": [
        "Run the script in the cloud and test the output."
      ]
    },
    {
      "cell_type": "code",
      "execution_count": null,
      "metadata": {
        "id": "zs4B5egy-H6B",
        "colab": {
          "base_uri": "https://localhost:8080/"
        },
        "outputId": "c1732d71-74cc-4a29-97df-36ac046ba5be"
      },
      "outputs": [
        {
          "output_type": "stream",
          "name": "stdout",
          "text": [
            "Job [4a17f9b4d1144beea7fdb43df27d96ae] submitted.\n",
            "Waiting for job output...\n",
            "2023-05-06 11:55:46.403821: W tensorflow/stream_executor/platform/default/dso_loader.cc:60] Could not load dynamic library 'libcudart.so.11.0'; dlerror: libcudart.so.11.0: cannot open shared object file: No such file or directory; LD_LIBRARY_PATH: :/usr/lib/hadoop/lib/native\n",
            "2023-05-06 11:55:46.403867: I tensorflow/stream_executor/cuda/cudart_stub.cc:29] Ignore above cudart dlerror if you do not have a GPU set up on your machine.\n",
            "Tensorflow version 2.4.0\n",
            "23/05/06 11:55:49 INFO org.apache.spark.SparkEnv: Registering MapOutputTracker\n",
            "23/05/06 11:55:49 INFO org.apache.spark.SparkEnv: Registering BlockManagerMaster\n",
            "23/05/06 11:55:49 INFO org.apache.spark.SparkEnv: Registering OutputCommitCoordinator\n",
            "23/05/06 11:55:49 INFO org.spark_project.jetty.util.log: Logging initialized @5955ms to org.spark_project.jetty.util.log.Slf4jLog\n",
            "23/05/06 11:55:50 INFO org.spark_project.jetty.server.Server: jetty-9.4.z-SNAPSHOT; built: unknown; git: unknown; jvm 1.8.0_312-b07\n",
            "23/05/06 11:55:50 INFO org.spark_project.jetty.server.Server: Started @6077ms\n",
            "23/05/06 11:55:50 INFO org.spark_project.jetty.server.AbstractConnector: Started ServerConnector@2c627e8d{HTTP/1.1, (http/1.1)}{0.0.0.0:4040}\n",
            "23/05/06 11:55:50 WARN org.apache.spark.scheduler.FairSchedulableBuilder: Fair Scheduler configuration file not found so jobs will be scheduled in FIFO order. To use fair scheduling, configure pools in fairscheduler.xml or set spark.scheduler.allocation.file to a file that contains the configuration.\n",
            "23/05/06 11:55:51 INFO org.apache.hadoop.yarn.client.RMProxy: Connecting to ResourceManager at big-data-coursework-385615-cluster-m/10.128.0.40:8032\n",
            "23/05/06 11:55:51 INFO org.apache.hadoop.yarn.client.AHSProxy: Connecting to Application History server at big-data-coursework-385615-cluster-m/10.128.0.40:10200\n",
            "23/05/06 11:55:54 INFO org.apache.hadoop.yarn.client.api.impl.YarnClientImpl: Submitted application application_1683374042177_0001\n",
            "File unsampled test:  ParallelCollectionRDD[0] at parallelize at PythonRDD.scala:195\n",
            "File sample test:  PythonRDD[1] at RDD at PythonRDD.scala:53\n",
            "Decoded:  PythonRDD[2] at RDD at PythonRDD.scala:53\n",
            "Resized:  PythonRDD[3] at RDD at PythonRDD.scala:53\n",
            "Resized:  PythonRDD[4] at RDD at PythonRDD.scala:53\n",
            "Partitions:  16\n",
            "23/05/06 11:56:03 WARN org.apache.spark.scheduler.TaskSetManager: Stage 0 contains a task of very large size (134 KB). The maximum recommended task size is 100 KB.\n",
            "Map:  ['gs://big-data-coursework-385615-storage/tfrecords-jpeg-192x192-2/flowers00.tfrec', 'gs://big-data-coursework-385615-storage/tfrecords-jpeg-192x192-2/flowers01.tfrec', 'gs://big-data-coursework-385615-storage/tfrecords-jpeg-192x192-2/flowers02.tfrec', 'gs://big-data-coursework-385615-storage/tfrecords-jpeg-192x192-2/flowers03.tfrec', 'gs://big-data-coursework-385615-storage/tfrecords-jpeg-192x192-2/flowers04.tfrec', 'gs://big-data-coursework-385615-storage/tfrecords-jpeg-192x192-2/flowers05.tfrec', 'gs://big-data-coursework-385615-storage/tfrecords-jpeg-192x192-2/flowers06.tfrec', 'gs://big-data-coursework-385615-storage/tfrecords-jpeg-192x192-2/flowers07.tfrec', 'gs://big-data-coursework-385615-storage/tfrecords-jpeg-192x192-2/flowers08.tfrec', 'gs://big-data-coursework-385615-storage/tfrecords-jpeg-192x192-2/flowers09.tfrec', 'gs://big-data-coursework-385615-storage/tfrecords-jpeg-192x192-2/flowers10.tfrec', 'gs://big-data-coursework-385615-storage/tfrecords-jpeg-192x192-2/flowers11.tfrec', 'gs://big-data-coursework-385615-storage/tfrecords-jpeg-192x192-2/flowers12.tfrec', 'gs://big-data-coursework-385615-storage/tfrecords-jpeg-192x192-2/flowers13.tfrec', 'gs://big-data-coursework-385615-storage/tfrecords-jpeg-192x192-2/flowers14.tfrec', 'gs://big-data-coursework-385615-storage/tfrecords-jpeg-192x192-2/flowers15.tfrec']\n",
            "Time taken:  191.45701837539673\n",
            "23/05/06 11:59:13 INFO org.spark_project.jetty.server.AbstractConnector: Stopped Spark@2c627e8d{HTTP/1.1, (http/1.1)}{0.0.0.0:4040}\n",
            "Job [4a17f9b4d1144beea7fdb43df27d96ae] finished successfully.\n",
            "done: true\n",
            "driverControlFilesUri: gs://dataproc-staging-us-central1-880598053282-53pecfob/google-cloud-dataproc-metainfo/1ab57165-f0b3-4dc3-8997-1a63afa64f0c/jobs/4a17f9b4d1144beea7fdb43df27d96ae/\n",
            "driverOutputResourceUri: gs://dataproc-staging-us-central1-880598053282-53pecfob/google-cloud-dataproc-metainfo/1ab57165-f0b3-4dc3-8997-1a63afa64f0c/jobs/4a17f9b4d1144beea7fdb43df27d96ae/driveroutput\n",
            "jobUuid: 9120fe91-db9f-35b3-8042-476b638e12d6\n",
            "placement:\n",
            "  clusterName: big-data-coursework-385615-cluster\n",
            "  clusterUuid: 1ab57165-f0b3-4dc3-8997-1a63afa64f0c\n",
            "pysparkJob:\n",
            "  mainPythonFileUri: gs://dataproc-staging-us-central1-880598053282-53pecfob/google-cloud-dataproc-metainfo/1ab57165-f0b3-4dc3-8997-1a63afa64f0c/jobs/4a17f9b4d1144beea7fdb43df27d96ae/staging/spark_write_tfrec.py\n",
            "reference:\n",
            "  jobId: 4a17f9b4d1144beea7fdb43df27d96ae\n",
            "  projectId: big-data-coursework-385615\n",
            "status:\n",
            "  state: DONE\n",
            "  stateStartTime: '2023-05-06T11:59:17.662532Z'\n",
            "statusHistory:\n",
            "- state: PENDING\n",
            "  stateStartTime: '2023-05-06T11:55:42.153612Z'\n",
            "- state: SETUP_DONE\n",
            "  stateStartTime: '2023-05-06T11:55:42.188661Z'\n",
            "- details: Agent reported job success\n",
            "  state: RUNNING\n",
            "  stateStartTime: '2023-05-06T11:55:42.523557Z'\n",
            "yarnApplications:\n",
            "- name: spark_write_tfrec.py\n",
            "  progress: 1.0\n",
            "  state: FINISHED\n",
            "  trackingUrl: http://big-data-coursework-385615-cluster-m:8088/proxy/application_1683374042177_0001/\n",
            "CPU times: user 4 µs, sys: 0 ns, total: 4 µs\n",
            "Wall time: 9.78 µs\n"
          ]
        }
      ],
      "source": [
        "### CODING TASK ###\n",
        "\n",
        "!gcloud dataproc jobs submit pyspark --cluster $CLUSTER \\spark_write_tfrec.py\n",
        "%time\n"
      ]
    },
    {
      "cell_type": "markdown",
      "metadata": {
        "id": "FE_IE6cx3jEO"
      },
      "source": [
        "In the free credit tier on Google Cloud, there are normally the following **restrictions** on compute machines:\n",
        "- max 100GB of *SSD persistent disk*\n",
        "- max 2000GB of *standard persistent disk*\n",
        "- max 8 *vCPU*s\n",
        "- no GPUs\n",
        "\n",
        "See [here](https://cloud.google.com/free/docs/gcp-free-tier#free-trial) for details\n",
        "The **disks are virtual** disks, where **I/O speed is limited in proportion to the size**, so we should allocate them evenly.\n",
        "This has mainly an effect on the **time the cluster needs to start**, as we are reading the data mainly from the bucket and we are not writing much to disk at all.  \n"
      ]
    },
    {
      "cell_type": "markdown",
      "metadata": {
        "id": "RujZLrUb4bIM"
      },
      "source": [
        "#### ii) Maximal cluster\n",
        "Use the **largest possible cluster** within these constraints, i.e. **1 master and 7 worker nodes**.\n",
        "Each of them with 1 (virtual) CPU.\n",
        "The master should get the full *SSD* capacity and the 7 worker nodes should get equal shares of the *standard* disk capacity to maximise throughput.\n",
        "\n",
        "Once the cluster is running, test your script. (3%)"
      ]
    },
    {
      "cell_type": "code",
      "execution_count": null,
      "metadata": {
        "id": "FadP0sQ33oVv",
        "colab": {
          "base_uri": "https://localhost:8080/"
        },
        "outputId": "ac31c1c4-be16-44f0-adee-36a597307b0a"
      },
      "outputs": [
        {
          "output_type": "stream",
          "name": "stdout",
          "text": [
            "The cluster 'big-data-coursework-385615-cluster' and all attached disks will be \n",
            "deleted.\n",
            "\n",
            "Do you want to continue (Y/n)?  Y\n",
            "\n",
            "\u001b[1;31mERROR:\u001b[0m (gcloud.dataproc.clusters.delete) NOT_FOUND: Not found: Cluster projects/big-data-coursework-385615/regions/us-central1/clusters/big-data-coursework-385615-cluster\n",
            "Waiting on operation [projects/big-data-coursework-385615/regions/us-central1/operations/714edca5-0d3a-3afb-b193-dfa317b63bc2].\n",
            "\n",
            "\u001b[1;33mWARNING:\u001b[0m Creating clusters using the n1-standard-1 machine type is not recommended. Consider using a machine type with higher memory.\n",
            "\u001b[1;33mWARNING:\u001b[0m Don't create production clusters that reference initialization actions located in the gs://goog-dataproc-initialization-actions-REGION public buckets. These scripts are provided as reference implementations, and they are synchronized with ongoing GitHub repository changes—a new version of a initialization action in public buckets may break your cluster creation. Instead, copy the following initialization actions from public buckets into your bucket : gs://goog-dataproc-initialization-actions-us-central1/python/pip-install.sh\n",
            "\u001b[1;33mWARNING:\u001b[0m For PD-Standard without local SSDs, we strongly recommend provisioning 1TB or larger to ensure consistently high I/O performance. See https://cloud.google.com/compute/docs/disks/performance for information on disk I/O performance.\n",
            "\u001b[1;33mWARNING:\u001b[0m Permissions are missing for the default service account '880598053282-compute@developer.gserviceaccount.com', missing permissions: [storage.objects.get, storage.objects.update] on the staging_bucket 'projects/_/buckets/dataproc-staging-us-central1-880598053282-53pecfob'. This usually happens when a custom resource (ex: custom staging bucket) or a user-managed VM Service account has been provided and the default/user-managed service account hasn't been granted enough permissions on the resource. See https://cloud.google.com/dataproc/docs/concepts/configuring-clusters/service-accounts#VM_service_account.\n",
            "\u001b[1;33mWARNING:\u001b[0m Permissions are missing for the default service account '880598053282-compute@developer.gserviceaccount.com', missing permissions: [storage.objects.get, storage.objects.update] on the temp_bucket 'projects/_/buckets/dataproc-temp-us-central1-880598053282-evfmovv3'. This usually happens when a custom resource (ex: custom staging bucket) or a user-managed VM Service account has been provided and the default/user-managed service account hasn't been granted enough permissions on the resource. See https://cloud.google.com/dataproc/docs/concepts/configuring-clusters/service-accounts#VM_service_account.\n",
            "Created [https://dataproc.googleapis.com/v1/projects/big-data-coursework-385615/regions/us-central1/clusters/big-data-coursework-385615-cluster] Cluster placed in zone [us-central1-a].\n"
          ]
        }
      ],
      "source": [
        "### CODING TASK ###\n",
        "!gcloud dataproc clusters delete $CLUSTER\n",
        "!gcloud dataproc clusters create $CLUSTER \\\n",
        "    --worker-boot-disk-type pd-standard --worker-boot-disk-size 285 \\\n",
        "    --initialization-actions gs://goog-dataproc-initialization-actions-$REGION/python/pip-install.sh \\\n",
        "    --metadata PIP_PACKAGES=tensorflow==2.4.0 \\\n",
        "    --image-version 1.4-ubuntu18 \\\n",
        "    --master-machine-type n1-standard-1 \\\n",
        "    --master-boot-disk-type pd-ssd --master-boot-disk-size 100 \\\n",
        "    --num-workers 7 --worker-machine-type n1-standard-1 \\\n",
        "    --max-idle 3600s"
      ]
    },
    {
      "cell_type": "code",
      "execution_count": null,
      "metadata": {
        "id": "eF3Fc1yG4m2F",
        "colab": {
          "base_uri": "https://localhost:8080/"
        },
        "outputId": "28586c72-b314-4c21-b869-23042ecbe169"
      },
      "outputs": [
        {
          "output_type": "stream",
          "name": "stdout",
          "text": [
            "Job [13b9b6e6a3b34562bea48209105d0722] submitted.\n",
            "Waiting for job output...\n",
            "2023-05-07 02:40:57.946082: W tensorflow/stream_executor/platform/default/dso_loader.cc:60] Could not load dynamic library 'libcudart.so.11.0'; dlerror: libcudart.so.11.0: cannot open shared object file: No such file or directory; LD_LIBRARY_PATH: :/usr/lib/hadoop/lib/native\n",
            "2023-05-07 02:40:57.946284: I tensorflow/stream_executor/cuda/cudart_stub.cc:29] Ignore above cudart dlerror if you do not have a GPU set up on your machine.\n",
            "Tensorflow version 2.4.0\n",
            "23/05/07 02:41:02 INFO org.apache.spark.SparkEnv: Registering MapOutputTracker\n",
            "23/05/07 02:41:02 INFO org.apache.spark.SparkEnv: Registering BlockManagerMaster\n",
            "23/05/07 02:41:02 INFO org.apache.spark.SparkEnv: Registering OutputCommitCoordinator\n",
            "23/05/07 02:41:02 INFO org.spark_project.jetty.util.log: Logging initialized @9441ms to org.spark_project.jetty.util.log.Slf4jLog\n",
            "23/05/07 02:41:03 INFO org.spark_project.jetty.server.Server: jetty-9.4.z-SNAPSHOT; built: unknown; git: unknown; jvm 1.8.0_312-b07\n",
            "23/05/07 02:41:03 INFO org.spark_project.jetty.server.Server: Started @9786ms\n",
            "23/05/07 02:41:03 INFO org.spark_project.jetty.server.AbstractConnector: Started ServerConnector@24703cc0{HTTP/1.1, (http/1.1)}{0.0.0.0:4040}\n",
            "23/05/07 02:41:03 WARN org.apache.spark.scheduler.FairSchedulableBuilder: Fair Scheduler configuration file not found so jobs will be scheduled in FIFO order. To use fair scheduling, configure pools in fairscheduler.xml or set spark.scheduler.allocation.file to a file that contains the configuration.\n",
            "23/05/07 02:41:05 INFO org.apache.hadoop.yarn.client.RMProxy: Connecting to ResourceManager at big-data-coursework-385615-cluster-m/10.128.15.199:8032\n",
            "23/05/07 02:41:05 INFO org.apache.hadoop.yarn.client.AHSProxy: Connecting to Application History server at big-data-coursework-385615-cluster-m/10.128.15.199:10200\n",
            "23/05/07 02:41:11 INFO org.apache.hadoop.yarn.client.api.impl.YarnClientImpl: Submitted application application_1683427081694_0001\n",
            "File unsampled test:  ParallelCollectionRDD[0] at parallelize at PythonRDD.scala:195\n",
            "File sample test:  PythonRDD[1] at RDD at PythonRDD.scala:53\n",
            "Decoded:  PythonRDD[2] at RDD at PythonRDD.scala:53\n",
            "Resized:  PythonRDD[3] at RDD at PythonRDD.scala:53\n",
            "Resized:  PythonRDD[4] at RDD at PythonRDD.scala:53\n",
            "Partitions:  16\n",
            "23/05/07 02:41:31 WARN org.apache.spark.scheduler.TaskSetManager: Stage 0 contains a task of very large size (134 KB). The maximum recommended task size is 100 KB.\n",
            "Map:  ['gs://big-data-coursework-385615-storage/tfrecords-jpeg-192x192-2/flowers00.tfrec', 'gs://big-data-coursework-385615-storage/tfrecords-jpeg-192x192-2/flowers01.tfrec', 'gs://big-data-coursework-385615-storage/tfrecords-jpeg-192x192-2/flowers02.tfrec', 'gs://big-data-coursework-385615-storage/tfrecords-jpeg-192x192-2/flowers03.tfrec', 'gs://big-data-coursework-385615-storage/tfrecords-jpeg-192x192-2/flowers04.tfrec', 'gs://big-data-coursework-385615-storage/tfrecords-jpeg-192x192-2/flowers05.tfrec', 'gs://big-data-coursework-385615-storage/tfrecords-jpeg-192x192-2/flowers06.tfrec', 'gs://big-data-coursework-385615-storage/tfrecords-jpeg-192x192-2/flowers07.tfrec', 'gs://big-data-coursework-385615-storage/tfrecords-jpeg-192x192-2/flowers08.tfrec', 'gs://big-data-coursework-385615-storage/tfrecords-jpeg-192x192-2/flowers09.tfrec', 'gs://big-data-coursework-385615-storage/tfrecords-jpeg-192x192-2/flowers10.tfrec', 'gs://big-data-coursework-385615-storage/tfrecords-jpeg-192x192-2/flowers11.tfrec', 'gs://big-data-coursework-385615-storage/tfrecords-jpeg-192x192-2/flowers12.tfrec', 'gs://big-data-coursework-385615-storage/tfrecords-jpeg-192x192-2/flowers13.tfrec', 'gs://big-data-coursework-385615-storage/tfrecords-jpeg-192x192-2/flowers14.tfrec', 'gs://big-data-coursework-385615-storage/tfrecords-jpeg-192x192-2/flowers15.tfrec']\n",
            "Time taken:  244.4492223262787\n",
            "23/05/07 02:45:30 INFO org.spark_project.jetty.server.AbstractConnector: Stopped Spark@24703cc0{HTTP/1.1, (http/1.1)}{0.0.0.0:4040}\n",
            "Job [13b9b6e6a3b34562bea48209105d0722] finished successfully.\n",
            "done: true\n",
            "driverControlFilesUri: gs://dataproc-staging-us-central1-880598053282-53pecfob/google-cloud-dataproc-metainfo/d80df380-b90c-4bd5-89f1-b9a8ac62de3a/jobs/13b9b6e6a3b34562bea48209105d0722/\n",
            "driverOutputResourceUri: gs://dataproc-staging-us-central1-880598053282-53pecfob/google-cloud-dataproc-metainfo/d80df380-b90c-4bd5-89f1-b9a8ac62de3a/jobs/13b9b6e6a3b34562bea48209105d0722/driveroutput\n",
            "jobUuid: 09bde78b-dc55-3109-82ad-332f5d6c9974\n",
            "placement:\n",
            "  clusterName: big-data-coursework-385615-cluster\n",
            "  clusterUuid: d80df380-b90c-4bd5-89f1-b9a8ac62de3a\n",
            "pysparkJob:\n",
            "  mainPythonFileUri: gs://dataproc-staging-us-central1-880598053282-53pecfob/google-cloud-dataproc-metainfo/d80df380-b90c-4bd5-89f1-b9a8ac62de3a/jobs/13b9b6e6a3b34562bea48209105d0722/staging/spark_write_tfrec.py\n",
            "reference:\n",
            "  jobId: 13b9b6e6a3b34562bea48209105d0722\n",
            "  projectId: big-data-coursework-385615\n",
            "status:\n",
            "  state: DONE\n",
            "  stateStartTime: '2023-05-07T02:45:34.350842Z'\n",
            "statusHistory:\n",
            "- state: PENDING\n",
            "  stateStartTime: '2023-05-07T02:40:50.843531Z'\n",
            "- state: SETUP_DONE\n",
            "  stateStartTime: '2023-05-07T02:40:50.889834Z'\n",
            "- details: Agent reported job success\n",
            "  state: RUNNING\n",
            "  stateStartTime: '2023-05-07T02:40:51.329462Z'\n",
            "yarnApplications:\n",
            "- name: spark_write_tfrec.py\n",
            "  progress: 1.0\n",
            "  state: FINISHED\n",
            "  trackingUrl: http://big-data-coursework-385615-cluster-m:8088/proxy/application_1683427081694_0001/\n",
            "CPU times: user 4 µs, sys: 1 µs, total: 5 µs\n",
            "Wall time: 11.4 µs\n"
          ]
        }
      ],
      "source": [
        "### CODING TASK ###\n",
        "### CODING TASK ###\n",
        "\n",
        "!gcloud dataproc jobs submit pyspark --cluster $CLUSTER --region $REGION \\\n",
        "./spark_write_tfrec.py\n",
        "%time"
      ]
    },
    {
      "cell_type": "markdown",
      "metadata": {
        "id": "DUQXJ_c-uU2s"
      },
      "source": [
        "### 1d)\tOptimisation, experiments, and discussion (17%)\n",
        "\n",
        "i) Improve parallelisation\n",
        "\n",
        "If you implemented a straightfoward version, you will\n",
        "**probably** observe that **all the computation** is done on only **two nodes**.\n",
        "This can be adressed by using the **second parameter** in the initial call to **parallelize**.\n",
        "Make the **suitable change** in the code you have written above and mark it up in comments as `### TASK 1d ###`.\n",
        "\n",
        "Demonstrate the difference in cluster utilisation before and after the change based on different parameter values with **screenshots from Google Cloud** and measure the **difference in the processing time**. (6%)\n",
        "\n",
        "ii) Experiment with cluster configurations.\n",
        "\n",
        "In addition to the experiments above (using 8 VMs),test your program with 4 machines with double the resources each (2 vCPUs, memory, disk) and 1 machine with eightfold resources.\n",
        "Discuss the results in terms of disk I/O and network bandwidth allocation in the cloud. (7%)\n",
        "\n",
        "iii) Explain the difference between this use of Spark and most standard applications like e.g. in our labs in terms of where the data is stored. What kind of parallelisation approach is used here? (4%)\n",
        "\n",
        "Write the code below and your answers in the report.\n"
      ]
    },
    {
      "cell_type": "code",
      "source": [
        "# i) Improve parallelisation with 4 partitions\n",
        "%%writefile spark_write_tfrec_4_partition.py\n",
        "#Import Librabries copying from above\n",
        "import os, sys, math\n",
        "import numpy as np\n",
        "import time\n",
        "import datetime\n",
        "import tensorflow as tf\n",
        "print(\"Tensorflow version \" + tf.__version__)\n",
        "import pyspark\n",
        "sc = pyspark.SparkContext.getOrCreate()\n",
        "\n",
        "#Define necessary variables copied from above\n",
        "PROJECT = 'big-data-coursework-385615'\n",
        "REGION = 'us-central1'\n",
        "GCS_PATTERN = 'gs://flowers-public/*/*.jpg'\n",
        "BUCKET = 'gs://{}-storage'.format(PROJECT)\n",
        "GCS_OUTPUT = BUCKET + '/tfrecords-jpeg-192x192-2/flowers'\n",
        "PARTITIONS = 16\n",
        "TARGET_SIZE = [192, 192]\n",
        "CLASSES = [b'daisy', b'dandelion', b'roses', b'sunflowers', b'tulips']\n",
        "\n",
        "# i) Copy over the mapping functions (see section 1.1) and adapt the resizing and recompression functions to\n",
        "# Spark (only one argument).\n",
        "\n",
        "#Define functions\n",
        "def _bytestring_feature(list_of_bytestrings):\n",
        "    return tf.train.Feature(bytes_list=tf.train.BytesList(value=list_of_bytestrings))\n",
        "\n",
        "def _int_feature(list_of_ints):\n",
        "    return tf.train.Feature(int64_list=tf.train.Int64List(value=list_of_ints))\n",
        "\n",
        "def to_tfrecord(tfrec_filewriter, img_bytes, label):\n",
        "    class_num = np.argmax(np.array(CLASSES)==label)\n",
        "    one_hot_class = np.eye(len(CLASSES))[class_num]\n",
        "    feature = {\n",
        "        \"image\": _bytestring_feature([img_bytes]),\n",
        "        \"class\": _int_feature([class_num])\n",
        "    }\n",
        "    return tf.train.Example(features=tf.train.Features(feature=feature))\n",
        "\n",
        "def decode_jpeg_and_label(filepath):\n",
        "    bits = tf.io.read_file(filepath)\n",
        "    image = tf.image.decode_jpeg(bits)\n",
        "    label = tf.strings.split(tf.expand_dims(filepath, axis=-1), sep='/')\n",
        "    label2 = label.values[-2]\n",
        "    return image, label2\n",
        "\n",
        "def resize_and_crop_image(one):\n",
        "\n",
        "    image = one[0] #As we are using a one argument, we define image and label also our argument is tuple type\n",
        "    label = one[1] #As we are using a one argument, we define image and label also our argument is tuple type\n",
        "\n",
        "    w = tf.shape(image)[0]\n",
        "    h = tf.shape(image)[1]\n",
        "    tw = TARGET_SIZE[1]\n",
        "    th = TARGET_SIZE[0]\n",
        "    resize_crit = (w * th) / (h * tw)\n",
        "    image = tf.cond(resize_crit < 1,\n",
        "                    lambda: tf.image.resize(image, [w*tw/w, h*tw/w]),\n",
        "                    lambda: tf.image.resize(image, [w*th/h, h*th/h])\n",
        "                    )\n",
        "    nw = tf.shape(image)[0]\n",
        "    nh = tf.shape(image)[1]\n",
        "    image = tf.image.crop_to_bounding_box(image, (nw - tw) // 2, (nh - th) // 2, tw, th)\n",
        "    return image, label\n",
        "\n",
        "def recompress_image(one):\n",
        "\n",
        "    image = one[0] #As we are using a one argument, we define image and label also our argument is tuple type\n",
        "    label = one[1] #As we are using a one argument, we define image and label also our argument is tuple type\n",
        "\n",
        "    image = tf.cast(image, tf.uint8)\n",
        "    image = tf.image.encode_jpeg(image, optimize_size=True, chroma_downsampling=False)\n",
        "    return image, label\n",
        "\n",
        "# ii) Replace the TensorFlow Dataset objects with RDDs, starting with an RDD that contains the list\n",
        "# of image filenames.\n",
        "\n",
        "#### TASK 1D, 4 PARTITION #####\n",
        "filenames_spark = sc.parallelize(tf.io.gfile.glob(GCS_PATTERN),4)\n",
        "\n",
        "\n",
        "# iii) Sample the the RDD to a smaller number at an appropriate position in the code.\n",
        "# Specify a sampling factor of 0.02 for short tests\n",
        "filenames_spark_sampled = filenames_spark.sample(False, 0.02) # withReplacement parameter is set False and fraction parameter is set 0.02\n",
        "print(\"File unsampled test: \", filenames_spark)\n",
        "print(\"File sample test: \",filenames_spark_sampled)\n",
        "\n",
        "\n",
        "# iv) Write the TFRecord files with the help of above function\n",
        "def spark_tfr(id, itr):\n",
        "    filename = GCS_OUTPUT + \"{:02d}.tfrec\".format(id)\n",
        "    with tf.io.TFRecordWriter(filename) as out_file:\n",
        "\n",
        "        for (image,label) in itr:\n",
        "\n",
        "            example = to_tfrecord(out_file,\n",
        "                                image.numpy(),\n",
        "                                label.numpy()\n",
        "                                )\n",
        "\n",
        "            out_file.write(example.SerializeToString())\n",
        "    return [filename]\n",
        "\n",
        "\n",
        "start = time.time() #start time\n",
        "\n",
        "\n",
        "# v) Calling 'RDD.mapPartitionsWithIndex'\n",
        "\n",
        "#Decode\n",
        "spark_decode = filenames_spark.map(decode_jpeg_and_label) #sampled_rdd.map(decode_jpeg_and_label)\n",
        "print('Decoded: ', spark_decode)\n",
        "#Resize\n",
        "spark_resize = spark_decode.map(resize_and_crop_image)\n",
        "print('Resized: ',spark_resize)\n",
        "#Recompress\n",
        "spark_recompress = spark_resize.map(recompress_image)\n",
        "print('Resized: ',spark_recompress)\n",
        "#Spark Repartition\n",
        "spark_repartition = spark_recompress.repartition(PARTITIONS)\n",
        "print(\"Partitions: \", (spark_repartition.getNumPartitions()))\n",
        "# Call 'RDD.mapPartitionsWithIndex'\n",
        "spark_map = spark_repartition.mapPartitionsWithIndex(spark_tfr)\n",
        "print('Map: ',spark_map.collect())\n",
        "\n",
        "end = time.time() - start\n",
        "print('Time taken: ', end)\n"
      ],
      "metadata": {
        "colab": {
          "base_uri": "https://localhost:8080/"
        },
        "id": "fzzdpzMSdLA6",
        "outputId": "ae7e0f00-c1a8-403b-a60f-30eef7831560"
      },
      "execution_count": null,
      "outputs": [
        {
          "output_type": "stream",
          "name": "stdout",
          "text": [
            "Writing spark_write_tfrec_4_partition.py\n"
          ]
        }
      ]
    },
    {
      "cell_type": "code",
      "source": [
        "#8 VMs initialization for 4 partition\n",
        "!gcloud dataproc clusters delete $CLUSTER\n",
        "!gcloud dataproc clusters create $CLUSTER \\\n",
        "    --worker-boot-disk-type pd-standard --worker-boot-disk-size 285 \\\n",
        "    --initialization-actions gs://goog-dataproc-initialization-actions-$REGION/python/pip-install.sh \\\n",
        "    --metadata PIP_PACKAGES=tensorflow==2.4.0 \\\n",
        "    --image-version 1.4-ubuntu18 \\\n",
        "    --master-machine-type n1-standard-1 \\\n",
        "    --master-boot-disk-type pd-ssd --master-boot-disk-size 100 \\\n",
        "    --num-workers 7 --worker-machine-type n1-standard-1 \\\n",
        "    --max-idle 3600s"
      ],
      "metadata": {
        "colab": {
          "base_uri": "https://localhost:8080/"
        },
        "id": "stF5HXxdgbBs",
        "outputId": "bd223a61-fcde-4964-c974-0db6da42d556"
      },
      "execution_count": null,
      "outputs": [
        {
          "output_type": "stream",
          "name": "stdout",
          "text": [
            "The cluster 'big-data-coursework-385615-cluster' and all attached disks will be \n",
            "deleted.\n",
            "\n",
            "Do you want to continue (Y/n)?  Y\n",
            "\n",
            "Waiting on operation [projects/big-data-coursework-385615/regions/us-central1/operations/ae721acd-3295-3d59-8048-0c756a4f3fbb].\n",
            "Deleted [https://dataproc.googleapis.com/v1/projects/big-data-coursework-385615/regions/us-central1/clusters/big-data-coursework-385615-cluster].\n",
            "Waiting on operation [projects/big-data-coursework-385615/regions/us-central1/operations/f1900ed2-9c07-36b8-805b-d47de785b03c].\n",
            "\n",
            "\u001b[1;33mWARNING:\u001b[0m Creating clusters using the n1-standard-1 machine type is not recommended. Consider using a machine type with higher memory.\n",
            "\u001b[1;33mWARNING:\u001b[0m Don't create production clusters that reference initialization actions located in the gs://goog-dataproc-initialization-actions-REGION public buckets. These scripts are provided as reference implementations, and they are synchronized with ongoing GitHub repository changes—a new version of a initialization action in public buckets may break your cluster creation. Instead, copy the following initialization actions from public buckets into your bucket : gs://goog-dataproc-initialization-actions-us-central1/python/pip-install.sh\n",
            "\u001b[1;33mWARNING:\u001b[0m For PD-Standard without local SSDs, we strongly recommend provisioning 1TB or larger to ensure consistently high I/O performance. See https://cloud.google.com/compute/docs/disks/performance for information on disk I/O performance.\n",
            "\u001b[1;33mWARNING:\u001b[0m Permissions are missing for the default service account '880598053282-compute@developer.gserviceaccount.com', missing permissions: [storage.objects.get, storage.objects.update] on the staging_bucket 'projects/_/buckets/dataproc-staging-us-central1-880598053282-53pecfob'. This usually happens when a custom resource (ex: custom staging bucket) or a user-managed VM Service account has been provided and the default/user-managed service account hasn't been granted enough permissions on the resource. See https://cloud.google.com/dataproc/docs/concepts/configuring-clusters/service-accounts#VM_service_account.\n",
            "\u001b[1;33mWARNING:\u001b[0m Permissions are missing for the default service account '880598053282-compute@developer.gserviceaccount.com', missing permissions: [storage.objects.get, storage.objects.update] on the temp_bucket 'projects/_/buckets/dataproc-temp-us-central1-880598053282-evfmovv3'. This usually happens when a custom resource (ex: custom staging bucket) or a user-managed VM Service account has been provided and the default/user-managed service account hasn't been granted enough permissions on the resource. See https://cloud.google.com/dataproc/docs/concepts/configuring-clusters/service-accounts#VM_service_account.\n",
            "Created [https://dataproc.googleapis.com/v1/projects/big-data-coursework-385615/regions/us-central1/clusters/big-data-coursework-385615-cluster] Cluster placed in zone [us-central1-a].\n"
          ]
        }
      ]
    },
    {
      "cell_type": "code",
      "source": [
        "### Apply 4 partition\n",
        "\n",
        "!gcloud dataproc jobs submit pyspark --cluster $CLUSTER --region $REGION \\\n",
        "./spark_write_tfrec_4_partition.py\n",
        "%time"
      ],
      "metadata": {
        "colab": {
          "base_uri": "https://localhost:8080/"
        },
        "id": "lfJF6P_OgbNM",
        "outputId": "120bbdca-323c-47b3-e82c-3ee93ccc33ef"
      },
      "execution_count": null,
      "outputs": [
        {
          "output_type": "stream",
          "name": "stdout",
          "text": [
            "Job [259d19bb2f584a89a0edbf1d63f366af] submitted.\n",
            "Waiting for job output...\n",
            "2023-05-05 01:30:09.731229: W tensorflow/stream_executor/platform/default/dso_loader.cc:60] Could not load dynamic library 'libcudart.so.11.0'; dlerror: libcudart.so.11.0: cannot open shared object file: No such file or directory; LD_LIBRARY_PATH: :/usr/lib/hadoop/lib/native\n",
            "2023-05-05 01:30:09.731428: I tensorflow/stream_executor/cuda/cudart_stub.cc:29] Ignore above cudart dlerror if you do not have a GPU set up on your machine.\n",
            "Tensorflow version 2.4.0\n",
            "23/05/05 01:30:14 INFO org.apache.spark.SparkEnv: Registering MapOutputTracker\n",
            "23/05/05 01:30:14 INFO org.apache.spark.SparkEnv: Registering BlockManagerMaster\n",
            "23/05/05 01:30:15 INFO org.apache.spark.SparkEnv: Registering OutputCommitCoordinator\n",
            "23/05/05 01:30:15 INFO org.spark_project.jetty.util.log: Logging initialized @10322ms to org.spark_project.jetty.util.log.Slf4jLog\n",
            "23/05/05 01:30:15 INFO org.spark_project.jetty.server.Server: jetty-9.4.z-SNAPSHOT; built: unknown; git: unknown; jvm 1.8.0_312-b07\n",
            "23/05/05 01:30:15 INFO org.spark_project.jetty.server.Server: Started @10615ms\n",
            "23/05/05 01:30:15 INFO org.spark_project.jetty.server.AbstractConnector: Started ServerConnector@320b2f1a{HTTP/1.1, (http/1.1)}{0.0.0.0:4040}\n",
            "23/05/05 01:30:16 WARN org.apache.spark.scheduler.FairSchedulableBuilder: Fair Scheduler configuration file not found so jobs will be scheduled in FIFO order. To use fair scheduling, configure pools in fairscheduler.xml or set spark.scheduler.allocation.file to a file that contains the configuration.\n",
            "23/05/05 01:30:18 INFO org.apache.hadoop.yarn.client.RMProxy: Connecting to ResourceManager at big-data-coursework-385615-cluster-m/10.128.0.30:8032\n",
            "23/05/05 01:30:18 INFO org.apache.hadoop.yarn.client.AHSProxy: Connecting to Application History server at big-data-coursework-385615-cluster-m/10.128.0.30:10200\n",
            "23/05/05 01:30:22 INFO org.apache.hadoop.yarn.client.api.impl.YarnClientImpl: Submitted application application_1683250024450_0001\n",
            "File unsampled test:  ParallelCollectionRDD[0] at parallelize at PythonRDD.scala:195\n",
            "File sample test:  PythonRDD[1] at RDD at PythonRDD.scala:53\n",
            "Decoded:  PythonRDD[2] at RDD at PythonRDD.scala:53\n",
            "Resized:  PythonRDD[3] at RDD at PythonRDD.scala:53\n",
            "Resized:  PythonRDD[4] at RDD at PythonRDD.scala:53\n",
            "Partitions:  16\n",
            "Map:  ['gs://big-data-coursework-385615-storage/tfrecords-jpeg-192x192-2/flowers00.tfrec', 'gs://big-data-coursework-385615-storage/tfrecords-jpeg-192x192-2/flowers01.tfrec', 'gs://big-data-coursework-385615-storage/tfrecords-jpeg-192x192-2/flowers02.tfrec', 'gs://big-data-coursework-385615-storage/tfrecords-jpeg-192x192-2/flowers03.tfrec', 'gs://big-data-coursework-385615-storage/tfrecords-jpeg-192x192-2/flowers04.tfrec', 'gs://big-data-coursework-385615-storage/tfrecords-jpeg-192x192-2/flowers05.tfrec', 'gs://big-data-coursework-385615-storage/tfrecords-jpeg-192x192-2/flowers06.tfrec', 'gs://big-data-coursework-385615-storage/tfrecords-jpeg-192x192-2/flowers07.tfrec', 'gs://big-data-coursework-385615-storage/tfrecords-jpeg-192x192-2/flowers08.tfrec', 'gs://big-data-coursework-385615-storage/tfrecords-jpeg-192x192-2/flowers09.tfrec', 'gs://big-data-coursework-385615-storage/tfrecords-jpeg-192x192-2/flowers10.tfrec', 'gs://big-data-coursework-385615-storage/tfrecords-jpeg-192x192-2/flowers11.tfrec', 'gs://big-data-coursework-385615-storage/tfrecords-jpeg-192x192-2/flowers12.tfrec', 'gs://big-data-coursework-385615-storage/tfrecords-jpeg-192x192-2/flowers13.tfrec', 'gs://big-data-coursework-385615-storage/tfrecords-jpeg-192x192-2/flowers14.tfrec', 'gs://big-data-coursework-385615-storage/tfrecords-jpeg-192x192-2/flowers15.tfrec']\n",
            "Time taken:  127.01033186912537\n",
            "23/05/05 01:32:45 INFO org.spark_project.jetty.server.AbstractConnector: Stopped Spark@320b2f1a{HTTP/1.1, (http/1.1)}{0.0.0.0:4040}\n",
            "Job [259d19bb2f584a89a0edbf1d63f366af] finished successfully.\n",
            "done: true\n",
            "driverControlFilesUri: gs://dataproc-staging-us-central1-880598053282-53pecfob/google-cloud-dataproc-metainfo/a1fadac7-861d-4b4c-85d4-89fe4d122741/jobs/259d19bb2f584a89a0edbf1d63f366af/\n",
            "driverOutputResourceUri: gs://dataproc-staging-us-central1-880598053282-53pecfob/google-cloud-dataproc-metainfo/a1fadac7-861d-4b4c-85d4-89fe4d122741/jobs/259d19bb2f584a89a0edbf1d63f366af/driveroutput\n",
            "jobUuid: 04c9c96e-8082-3134-a1ec-e0aa0ff3620c\n",
            "placement:\n",
            "  clusterName: big-data-coursework-385615-cluster\n",
            "  clusterUuid: a1fadac7-861d-4b4c-85d4-89fe4d122741\n",
            "pysparkJob:\n",
            "  mainPythonFileUri: gs://dataproc-staging-us-central1-880598053282-53pecfob/google-cloud-dataproc-metainfo/a1fadac7-861d-4b4c-85d4-89fe4d122741/jobs/259d19bb2f584a89a0edbf1d63f366af/staging/spark_write_tfrec_4_partition.py\n",
            "reference:\n",
            "  jobId: 259d19bb2f584a89a0edbf1d63f366af\n",
            "  projectId: big-data-coursework-385615\n",
            "status:\n",
            "  state: DONE\n",
            "  stateStartTime: '2023-05-05T01:32:48.535246Z'\n",
            "statusHistory:\n",
            "- state: PENDING\n",
            "  stateStartTime: '2023-05-05T01:30:01.705757Z'\n",
            "- state: SETUP_DONE\n",
            "  stateStartTime: '2023-05-05T01:30:01.741757Z'\n",
            "- details: Agent reported job success\n",
            "  state: RUNNING\n",
            "  stateStartTime: '2023-05-05T01:30:02.149600Z'\n",
            "yarnApplications:\n",
            "- name: spark_write_tfrec_4_partition.py\n",
            "  progress: 1.0\n",
            "  state: FINISHED\n",
            "  trackingUrl: http://big-data-coursework-385615-cluster-m:8088/proxy/application_1683250024450_0001/\n",
            "CPU times: user 4 µs, sys: 0 ns, total: 4 µs\n",
            "Wall time: 7.87 µs\n"
          ]
        }
      ]
    },
    {
      "cell_type": "code",
      "source": [
        "# i) Improve parallelisation with 8 partitions\n",
        "%%writefile spark_write_tfrec_8_partition.py\n",
        "#Import Librabries copying from above\n",
        "import os, sys, math\n",
        "import numpy as np\n",
        "import time\n",
        "import datetime\n",
        "import tensorflow as tf\n",
        "print(\"Tensorflow version \" + tf.__version__)\n",
        "import pyspark\n",
        "sc = pyspark.SparkContext.getOrCreate()\n",
        "\n",
        "#Define necessary variables copied from above\n",
        "PROJECT = 'big-data-coursework-385615'\n",
        "REGION = 'us-central1'\n",
        "GCS_PATTERN = 'gs://flowers-public/*/*.jpg'\n",
        "BUCKET = 'gs://{}-storage'.format(PROJECT)\n",
        "GCS_OUTPUT = BUCKET + '/tfrecords-jpeg-192x192-2/flowers'\n",
        "PARTITIONS = 16\n",
        "TARGET_SIZE = [192, 192]\n",
        "CLASSES = [b'daisy', b'dandelion', b'roses', b'sunflowers', b'tulips']\n",
        "\n",
        "# i) Copy over the mapping functions (see section 1.1) and adapt the resizing and recompression functions to\n",
        "# Spark (only one argument).\n",
        "\n",
        "#Define functions\n",
        "def _bytestring_feature(list_of_bytestrings):\n",
        "    return tf.train.Feature(bytes_list=tf.train.BytesList(value=list_of_bytestrings))\n",
        "\n",
        "def _int_feature(list_of_ints):\n",
        "    return tf.train.Feature(int64_list=tf.train.Int64List(value=list_of_ints))\n",
        "\n",
        "def to_tfrecord(tfrec_filewriter, img_bytes, label):\n",
        "    class_num = np.argmax(np.array(CLASSES)==label)\n",
        "    one_hot_class = np.eye(len(CLASSES))[class_num]\n",
        "    feature = {\n",
        "        \"image\": _bytestring_feature([img_bytes]),\n",
        "        \"class\": _int_feature([class_num])\n",
        "    }\n",
        "    return tf.train.Example(features=tf.train.Features(feature=feature))\n",
        "\n",
        "def decode_jpeg_and_label(filepath):\n",
        "    bits = tf.io.read_file(filepath)\n",
        "    image = tf.image.decode_jpeg(bits)\n",
        "    label = tf.strings.split(tf.expand_dims(filepath, axis=-1), sep='/')\n",
        "    label2 = label.values[-2]\n",
        "    return image, label2\n",
        "\n",
        "def resize_and_crop_image(one):\n",
        "\n",
        "    image = one[0] #As we are using a one argument, we define image and label also our argument is tuple type\n",
        "    label = one[1] #As we are using a one argument, we define image and label also our argument is tuple type\n",
        "\n",
        "    w = tf.shape(image)[0]\n",
        "    h = tf.shape(image)[1]\n",
        "    tw = TARGET_SIZE[1]\n",
        "    th = TARGET_SIZE[0]\n",
        "    resize_crit = (w * th) / (h * tw)\n",
        "    image = tf.cond(resize_crit < 1,\n",
        "                    lambda: tf.image.resize(image, [w*tw/w, h*tw/w]),\n",
        "                    lambda: tf.image.resize(image, [w*th/h, h*th/h])\n",
        "                    )\n",
        "    nw = tf.shape(image)[0]\n",
        "    nh = tf.shape(image)[1]\n",
        "    image = tf.image.crop_to_bounding_box(image, (nw - tw) // 2, (nh - th) // 2, tw, th)\n",
        "    return image, label\n",
        "\n",
        "def recompress_image(one):\n",
        "\n",
        "    image = one[0] #As we are using a one argument, we define image and label also our argument is tuple type\n",
        "    label = one[1] #As we are using a one argument, we define image and label also our argument is tuple type\n",
        "\n",
        "    image = tf.cast(image, tf.uint8)\n",
        "    image = tf.image.encode_jpeg(image, optimize_size=True, chroma_downsampling=False)\n",
        "    return image, label\n",
        "\n",
        "# ii) Replace the TensorFlow Dataset objects with RDDs, starting with an RDD that contains the list\n",
        "# of image filenames.\n",
        "\n",
        "#### TASK 1D, 8 PARTITION #####\n",
        "filenames_spark = sc.parallelize(tf.io.gfile.glob(GCS_PATTERN),8)\n",
        "\n",
        "\n",
        "# iii) Sample the the RDD to a smaller number at an appropriate position in the code.\n",
        "# Specify a sampling factor of 0.02 for short tests\n",
        "filenames_spark_sampled = filenames_spark.sample(False, 0.02) # withReplacement parameter is set False and fraction parameter is set 0.02\n",
        "print(\"File unsampled test: \", filenames_spark)\n",
        "print(\"File sample test: \",filenames_spark_sampled)\n",
        "\n",
        "\n",
        "# iv) Write the TFRecord files with the help of above function\n",
        "def spark_tfr(id, itr):\n",
        "    filename = GCS_OUTPUT + \"{:02d}.tfrec\".format(id)\n",
        "    with tf.io.TFRecordWriter(filename) as out_file:\n",
        "\n",
        "        for (image,label) in itr:\n",
        "\n",
        "            example = to_tfrecord(out_file,\n",
        "                                image.numpy(),\n",
        "                                label.numpy()\n",
        "                                )\n",
        "\n",
        "            out_file.write(example.SerializeToString())\n",
        "    return [filename]\n",
        "\n",
        "\n",
        "start = time.time() #start time\n",
        "\n",
        "\n",
        "# v) Calling 'RDD.mapPartitionsWithIndex'\n",
        "\n",
        "#Decode\n",
        "spark_decode = filenames_spark.map(decode_jpeg_and_label) #sampled_rdd.map(decode_jpeg_and_label)\n",
        "print('Decoded: ', spark_decode)\n",
        "#Resize\n",
        "spark_resize = spark_decode.map(resize_and_crop_image)\n",
        "print('Resized: ',spark_resize)\n",
        "#Recompress\n",
        "spark_recompress = spark_resize.map(recompress_image)\n",
        "print('Resized: ',spark_recompress)\n",
        "#Spark Repartition\n",
        "spark_repartition = spark_recompress.repartition(PARTITIONS)\n",
        "print(\"Partitions: \", (spark_repartition.getNumPartitions()))\n",
        "# Call 'RDD.mapPartitionsWithIndex'\n",
        "spark_map = spark_repartition.mapPartitionsWithIndex(spark_tfr)\n",
        "print('Map: ',spark_map.collect())\n",
        "\n",
        "end = time.time() - start\n",
        "print('Time taken: ', end)\n"
      ],
      "metadata": {
        "colab": {
          "base_uri": "https://localhost:8080/"
        },
        "id": "y1w7v-RWgbSS",
        "outputId": "ac7d7537-b180-4370-d37f-eee94d76f098"
      },
      "execution_count": null,
      "outputs": [
        {
          "output_type": "stream",
          "name": "stdout",
          "text": [
            "Writing spark_write_tfrec_8_partition.py\n"
          ]
        }
      ]
    },
    {
      "cell_type": "code",
      "source": [
        "#8 VMs initialization for 8 partition\n",
        "!gcloud dataproc clusters delete $CLUSTER\n",
        "!gcloud dataproc clusters create $CLUSTER \\\n",
        "    --worker-boot-disk-type pd-standard --worker-boot-disk-size 285 \\\n",
        "    --initialization-actions gs://goog-dataproc-initialization-actions-$REGION/python/pip-install.sh \\\n",
        "    --metadata PIP_PACKAGES=tensorflow==2.4.0 \\\n",
        "    --image-version 1.4-ubuntu18 \\\n",
        "    --master-machine-type n1-standard-1 \\\n",
        "    --master-boot-disk-type pd-ssd --master-boot-disk-size 100 \\\n",
        "    --num-workers 7 --worker-machine-type n1-standard-1 \\\n",
        "    --max-idle 3600s"
      ],
      "metadata": {
        "colab": {
          "base_uri": "https://localhost:8080/"
        },
        "id": "xgQmw711jfKv",
        "outputId": "c18de17c-fbeb-42bd-85e8-1f9a4b756409"
      },
      "execution_count": null,
      "outputs": [
        {
          "output_type": "stream",
          "name": "stdout",
          "text": [
            "The cluster 'big-data-coursework-385615-cluster' and all attached disks will be \n",
            "deleted.\n",
            "\n",
            "Do you want to continue (Y/n)?  Y\n",
            "\n",
            "Waiting on operation [projects/big-data-coursework-385615/regions/us-central1/operations/799781da-5068-377b-9f7c-886e8a26196a].\n",
            "Deleted [https://dataproc.googleapis.com/v1/projects/big-data-coursework-385615/regions/us-central1/clusters/big-data-coursework-385615-cluster].\n",
            "Waiting on operation [projects/big-data-coursework-385615/regions/us-central1/operations/f73f54b5-14db-39b1-a060-cb1e59727493].\n",
            "\n",
            "\u001b[1;33mWARNING:\u001b[0m Creating clusters using the n1-standard-1 machine type is not recommended. Consider using a machine type with higher memory.\n",
            "\u001b[1;33mWARNING:\u001b[0m Don't create production clusters that reference initialization actions located in the gs://goog-dataproc-initialization-actions-REGION public buckets. These scripts are provided as reference implementations, and they are synchronized with ongoing GitHub repository changes—a new version of a initialization action in public buckets may break your cluster creation. Instead, copy the following initialization actions from public buckets into your bucket : gs://goog-dataproc-initialization-actions-us-central1/python/pip-install.sh\n",
            "\u001b[1;33mWARNING:\u001b[0m For PD-Standard without local SSDs, we strongly recommend provisioning 1TB or larger to ensure consistently high I/O performance. See https://cloud.google.com/compute/docs/disks/performance for information on disk I/O performance.\n",
            "\u001b[1;33mWARNING:\u001b[0m Permissions are missing for the default service account '880598053282-compute@developer.gserviceaccount.com', missing permissions: [storage.objects.get, storage.objects.update] on the staging_bucket 'projects/_/buckets/dataproc-staging-us-central1-880598053282-53pecfob'. This usually happens when a custom resource (ex: custom staging bucket) or a user-managed VM Service account has been provided and the default/user-managed service account hasn't been granted enough permissions on the resource. See https://cloud.google.com/dataproc/docs/concepts/configuring-clusters/service-accounts#VM_service_account.\n",
            "\u001b[1;33mWARNING:\u001b[0m Permissions are missing for the default service account '880598053282-compute@developer.gserviceaccount.com', missing permissions: [storage.objects.get, storage.objects.update] on the temp_bucket 'projects/_/buckets/dataproc-temp-us-central1-880598053282-evfmovv3'. This usually happens when a custom resource (ex: custom staging bucket) or a user-managed VM Service account has been provided and the default/user-managed service account hasn't been granted enough permissions on the resource. See https://cloud.google.com/dataproc/docs/concepts/configuring-clusters/service-accounts#VM_service_account.\n",
            "Created [https://dataproc.googleapis.com/v1/projects/big-data-coursework-385615/regions/us-central1/clusters/big-data-coursework-385615-cluster] Cluster placed in zone [us-central1-a].\n"
          ]
        }
      ]
    },
    {
      "cell_type": "code",
      "source": [
        "### Apply 8 partition\n",
        "\n",
        "!gcloud dataproc jobs submit pyspark --cluster $CLUSTER --region $REGION \\\n",
        "./spark_write_tfrec_8_partition.py\n",
        "%time"
      ],
      "metadata": {
        "colab": {
          "base_uri": "https://localhost:8080/"
        },
        "id": "fxNxOw8fjfT6",
        "outputId": "b4bf5a02-20a2-4d99-8a6b-9b338da71b1f"
      },
      "execution_count": null,
      "outputs": [
        {
          "output_type": "stream",
          "name": "stdout",
          "text": [
            "Job [645d922f1745484d89ea21dae799793a] submitted.\n",
            "Waiting for job output...\n",
            "2023-05-05 01:42:59.102918: W tensorflow/stream_executor/platform/default/dso_loader.cc:60] Could not load dynamic library 'libcudart.so.11.0'; dlerror: libcudart.so.11.0: cannot open shared object file: No such file or directory; LD_LIBRARY_PATH: :/usr/lib/hadoop/lib/native\n",
            "2023-05-05 01:42:59.103106: I tensorflow/stream_executor/cuda/cudart_stub.cc:29] Ignore above cudart dlerror if you do not have a GPU set up on your machine.\n",
            "Tensorflow version 2.4.0\n",
            "23/05/05 01:43:03 INFO org.apache.spark.SparkEnv: Registering MapOutputTracker\n",
            "23/05/05 01:43:03 INFO org.apache.spark.SparkEnv: Registering BlockManagerMaster\n",
            "23/05/05 01:43:03 INFO org.apache.spark.SparkEnv: Registering OutputCommitCoordinator\n",
            "23/05/05 01:43:04 INFO org.spark_project.jetty.util.log: Logging initialized @9485ms to org.spark_project.jetty.util.log.Slf4jLog\n",
            "23/05/05 01:43:04 INFO org.spark_project.jetty.server.Server: jetty-9.4.z-SNAPSHOT; built: unknown; git: unknown; jvm 1.8.0_312-b07\n",
            "23/05/05 01:43:04 INFO org.spark_project.jetty.server.Server: Started @9761ms\n",
            "23/05/05 01:43:04 INFO org.spark_project.jetty.server.AbstractConnector: Started ServerConnector@21d967bc{HTTP/1.1, (http/1.1)}{0.0.0.0:4040}\n",
            "23/05/05 01:43:04 WARN org.apache.spark.scheduler.FairSchedulableBuilder: Fair Scheduler configuration file not found so jobs will be scheduled in FIFO order. To use fair scheduling, configure pools in fairscheduler.xml or set spark.scheduler.allocation.file to a file that contains the configuration.\n",
            "23/05/05 01:43:06 INFO org.apache.hadoop.yarn.client.RMProxy: Connecting to ResourceManager at big-data-coursework-385615-cluster-m/10.128.0.32:8032\n",
            "23/05/05 01:43:07 INFO org.apache.hadoop.yarn.client.AHSProxy: Connecting to Application History server at big-data-coursework-385615-cluster-m/10.128.0.32:10200\n",
            "23/05/05 01:43:08 WARN org.apache.hadoop.hdfs.DataStreamer: Caught exception\n",
            "java.lang.InterruptedException\n",
            "\tat java.lang.Object.wait(Native Method)\n",
            "\tat java.lang.Thread.join(Thread.java:1252)\n",
            "\tat java.lang.Thread.join(Thread.java:1326)\n",
            "\tat org.apache.hadoop.hdfs.DataStreamer.closeResponder(DataStreamer.java:980)\n",
            "\tat org.apache.hadoop.hdfs.DataStreamer.endBlock(DataStreamer.java:630)\n",
            "\tat org.apache.hadoop.hdfs.DataStreamer.run(DataStreamer.java:807)\n",
            "23/05/05 01:43:11 INFO org.apache.hadoop.yarn.client.api.impl.YarnClientImpl: Submitted application application_1683250800127_0001\n",
            "File unsampled test:  ParallelCollectionRDD[0] at parallelize at PythonRDD.scala:195\n",
            "File sample test:  PythonRDD[1] at RDD at PythonRDD.scala:53\n",
            "Decoded:  PythonRDD[2] at RDD at PythonRDD.scala:53\n",
            "Resized:  PythonRDD[3] at RDD at PythonRDD.scala:53\n",
            "Resized:  PythonRDD[4] at RDD at PythonRDD.scala:53\n",
            "Partitions:  16\n",
            "Map:  ['gs://big-data-coursework-385615-storage/tfrecords-jpeg-192x192-2/flowers00.tfrec', 'gs://big-data-coursework-385615-storage/tfrecords-jpeg-192x192-2/flowers01.tfrec', 'gs://big-data-coursework-385615-storage/tfrecords-jpeg-192x192-2/flowers02.tfrec', 'gs://big-data-coursework-385615-storage/tfrecords-jpeg-192x192-2/flowers03.tfrec', 'gs://big-data-coursework-385615-storage/tfrecords-jpeg-192x192-2/flowers04.tfrec', 'gs://big-data-coursework-385615-storage/tfrecords-jpeg-192x192-2/flowers05.tfrec', 'gs://big-data-coursework-385615-storage/tfrecords-jpeg-192x192-2/flowers06.tfrec', 'gs://big-data-coursework-385615-storage/tfrecords-jpeg-192x192-2/flowers07.tfrec', 'gs://big-data-coursework-385615-storage/tfrecords-jpeg-192x192-2/flowers08.tfrec', 'gs://big-data-coursework-385615-storage/tfrecords-jpeg-192x192-2/flowers09.tfrec', 'gs://big-data-coursework-385615-storage/tfrecords-jpeg-192x192-2/flowers10.tfrec', 'gs://big-data-coursework-385615-storage/tfrecords-jpeg-192x192-2/flowers11.tfrec', 'gs://big-data-coursework-385615-storage/tfrecords-jpeg-192x192-2/flowers12.tfrec', 'gs://big-data-coursework-385615-storage/tfrecords-jpeg-192x192-2/flowers13.tfrec', 'gs://big-data-coursework-385615-storage/tfrecords-jpeg-192x192-2/flowers14.tfrec', 'gs://big-data-coursework-385615-storage/tfrecords-jpeg-192x192-2/flowers15.tfrec']\n",
            "Time taken:  115.80922102928162\n",
            "23/05/05 01:45:25 INFO org.spark_project.jetty.server.AbstractConnector: Stopped Spark@21d967bc{HTTP/1.1, (http/1.1)}{0.0.0.0:4040}\n",
            "Job [645d922f1745484d89ea21dae799793a] finished successfully.\n",
            "done: true\n",
            "driverControlFilesUri: gs://dataproc-staging-us-central1-880598053282-53pecfob/google-cloud-dataproc-metainfo/0260a1d2-5149-4143-8989-689660643aab/jobs/645d922f1745484d89ea21dae799793a/\n",
            "driverOutputResourceUri: gs://dataproc-staging-us-central1-880598053282-53pecfob/google-cloud-dataproc-metainfo/0260a1d2-5149-4143-8989-689660643aab/jobs/645d922f1745484d89ea21dae799793a/driveroutput\n",
            "jobUuid: 06f42fe7-66e6-34de-ac1f-2e796ee0438c\n",
            "placement:\n",
            "  clusterName: big-data-coursework-385615-cluster\n",
            "  clusterUuid: 0260a1d2-5149-4143-8989-689660643aab\n",
            "pysparkJob:\n",
            "  mainPythonFileUri: gs://dataproc-staging-us-central1-880598053282-53pecfob/google-cloud-dataproc-metainfo/0260a1d2-5149-4143-8989-689660643aab/jobs/645d922f1745484d89ea21dae799793a/staging/spark_write_tfrec_8_partition.py\n",
            "reference:\n",
            "  jobId: 645d922f1745484d89ea21dae799793a\n",
            "  projectId: big-data-coursework-385615\n",
            "status:\n",
            "  state: DONE\n",
            "  stateStartTime: '2023-05-05T01:45:30.465695Z'\n",
            "statusHistory:\n",
            "- state: PENDING\n",
            "  stateStartTime: '2023-05-05T01:42:51.997586Z'\n",
            "- state: SETUP_DONE\n",
            "  stateStartTime: '2023-05-05T01:42:52.042575Z'\n",
            "- details: Agent reported job success\n",
            "  state: RUNNING\n",
            "  stateStartTime: '2023-05-05T01:42:52.422843Z'\n",
            "yarnApplications:\n",
            "- name: spark_write_tfrec_8_partition.py\n",
            "  progress: 1.0\n",
            "  state: FINISHED\n",
            "  trackingUrl: http://big-data-coursework-385615-cluster-m:8088/proxy/application_1683250800127_0001/\n",
            "CPU times: user 5 µs, sys: 1 µs, total: 6 µs\n",
            "Wall time: 9.78 µs\n"
          ]
        }
      ]
    },
    {
      "cell_type": "code",
      "source": [
        "!gcloud dataproc clusters delete $CLUSTER"
      ],
      "metadata": {
        "colab": {
          "base_uri": "https://localhost:8080/"
        },
        "id": "-1COIVPUG7IB",
        "outputId": "85939517-8633-4fc9-ce07-a1a4667554a7"
      },
      "execution_count": null,
      "outputs": [
        {
          "output_type": "stream",
          "name": "stdout",
          "text": [
            "The cluster 'big-data-coursework-385615-cluster' and all attached disks will be \n",
            "deleted.\n",
            "\n",
            "Do you want to continue (Y/n)?  Y\n",
            "\n",
            "Waiting on operation [projects/big-data-coursework-385615/regions/us-central1/operations/932249fd-ee16-3eba-8352-0a418aa92f30].\n",
            "Deleted [https://dataproc.googleapis.com/v1/projects/big-data-coursework-385615/regions/us-central1/clusters/big-data-coursework-385615-cluster].\n"
          ]
        }
      ]
    },
    {
      "cell_type": "code",
      "source": [
        "## ii) Experiment with cluster configurations.\n",
        "# 1d (ii)\n",
        "\n",
        "## 4 machines (2 vCPUs, memory, disk)\n",
        "!gcloud dataproc clusters create $CLUSTER \\\n",
        "    --image-version 1.4-ubuntu18 \\\n",
        "    --master-machine-type n1-standard-2 \\\n",
        "    --master-boot-disk-type pd-ssd --master-boot-disk-size 100 \\\n",
        "    --num-workers 3 --worker-machine-type n1-standard-2 \\\n",
        "    --worker-boot-disk-type pd-standard --worker-boot-disk-size 666 \\\n",
        "    --initialization-actions gs://goog-dataproc-initialization-actions-$REGION/python/pip-install.sh \\\n",
        "    --metadata PIP_PACKAGES=tensorflow==2.4.0 \\\n",
        "    --max-idle 3600s\n",
        "!gcloud dataproc jobs submit pyspark --cluster $CLUSTER --region $REGION \\\n",
        "./spark_write_tfrec.py\n",
        "!gcloud dataproc clusters delete $CLUSTER"
      ],
      "metadata": {
        "colab": {
          "base_uri": "https://localhost:8080/"
        },
        "id": "AjBLbOIk_e7D",
        "outputId": "88ec9b21-e0f2-4568-82b8-5c934c57af7a"
      },
      "execution_count": null,
      "outputs": [
        {
          "output_type": "stream",
          "name": "stdout",
          "text": [
            "Waiting on operation [projects/big-data-coursework-385615/regions/us-central1/operations/0a8be826-9fdf-34d8-a191-02bcbc3c08c6].\n",
            "\n",
            "\u001b[1;33mWARNING:\u001b[0m Don't create production clusters that reference initialization actions located in the gs://goog-dataproc-initialization-actions-REGION public buckets. These scripts are provided as reference implementations, and they are synchronized with ongoing GitHub repository changes—a new version of a initialization action in public buckets may break your cluster creation. Instead, copy the following initialization actions from public buckets into your bucket : gs://goog-dataproc-initialization-actions-us-central1/python/pip-install.sh\n",
            "\u001b[1;33mWARNING:\u001b[0m For PD-Standard without local SSDs, we strongly recommend provisioning 1TB or larger to ensure consistently high I/O performance. See https://cloud.google.com/compute/docs/disks/performance for information on disk I/O performance.\n",
            "\u001b[1;33mWARNING:\u001b[0m Permissions are missing for the default service account '880598053282-compute@developer.gserviceaccount.com', missing permissions: [storage.objects.get, storage.objects.update] on the staging_bucket 'projects/_/buckets/dataproc-staging-us-central1-880598053282-53pecfob'. This usually happens when a custom resource (ex: custom staging bucket) or a user-managed VM Service account has been provided and the default/user-managed service account hasn't been granted enough permissions on the resource. See https://cloud.google.com/dataproc/docs/concepts/configuring-clusters/service-accounts#VM_service_account.\n",
            "\u001b[1;33mWARNING:\u001b[0m Permissions are missing for the default service account '880598053282-compute@developer.gserviceaccount.com', missing permissions: [storage.objects.get, storage.objects.update] on the temp_bucket 'projects/_/buckets/dataproc-temp-us-central1-880598053282-evfmovv3'. This usually happens when a custom resource (ex: custom staging bucket) or a user-managed VM Service account has been provided and the default/user-managed service account hasn't been granted enough permissions on the resource. See https://cloud.google.com/dataproc/docs/concepts/configuring-clusters/service-accounts#VM_service_account.\n",
            "Created [https://dataproc.googleapis.com/v1/projects/big-data-coursework-385615/regions/us-central1/clusters/big-data-coursework-385615-cluster] Cluster placed in zone [us-central1-a].\n",
            "Job [649ccfb68da442d4a643f1af9a0a5f20] submitted.\n",
            "Waiting for job output...\n",
            "2023-05-07 02:52:53.587238: W tensorflow/stream_executor/platform/default/dso_loader.cc:60] Could not load dynamic library 'libcudart.so.11.0'; dlerror: libcudart.so.11.0: cannot open shared object file: No such file or directory; LD_LIBRARY_PATH: :/usr/lib/hadoop/lib/native\n",
            "2023-05-07 02:52:53.587284: I tensorflow/stream_executor/cuda/cudart_stub.cc:29] Ignore above cudart dlerror if you do not have a GPU set up on your machine.\n",
            "Tensorflow version 2.4.0\n",
            "23/05/07 02:52:57 INFO org.apache.spark.SparkEnv: Registering MapOutputTracker\n",
            "23/05/07 02:52:57 INFO org.apache.spark.SparkEnv: Registering BlockManagerMaster\n",
            "23/05/07 02:52:57 INFO org.apache.spark.SparkEnv: Registering OutputCommitCoordinator\n",
            "23/05/07 02:52:57 INFO org.spark_project.jetty.util.log: Logging initialized @6774ms to org.spark_project.jetty.util.log.Slf4jLog\n",
            "23/05/07 02:52:57 INFO org.spark_project.jetty.server.Server: jetty-9.4.z-SNAPSHOT; built: unknown; git: unknown; jvm 1.8.0_312-b07\n",
            "23/05/07 02:52:57 INFO org.spark_project.jetty.server.Server: Started @6985ms\n",
            "23/05/07 02:52:57 INFO org.spark_project.jetty.server.AbstractConnector: Started ServerConnector@e5c165{HTTP/1.1, (http/1.1)}{0.0.0.0:4040}\n",
            "23/05/07 02:52:57 WARN org.apache.spark.scheduler.FairSchedulableBuilder: Fair Scheduler configuration file not found so jobs will be scheduled in FIFO order. To use fair scheduling, configure pools in fairscheduler.xml or set spark.scheduler.allocation.file to a file that contains the configuration.\n",
            "23/05/07 02:52:59 INFO org.apache.hadoop.yarn.client.RMProxy: Connecting to ResourceManager at big-data-coursework-385615-cluster-m/10.128.15.209:8032\n",
            "23/05/07 02:52:59 INFO org.apache.hadoop.yarn.client.AHSProxy: Connecting to Application History server at big-data-coursework-385615-cluster-m/10.128.15.209:10200\n",
            "23/05/07 02:53:03 INFO org.apache.hadoop.yarn.client.api.impl.YarnClientImpl: Submitted application application_1683427834781_0001\n",
            "File unsampled test:  ParallelCollectionRDD[0] at parallelize at PythonRDD.scala:195\n",
            "File sample test:  PythonRDD[1] at RDD at PythonRDD.scala:53\n",
            "Decoded:  PythonRDD[2] at RDD at PythonRDD.scala:53\n",
            "Resized:  PythonRDD[3] at RDD at PythonRDD.scala:53\n",
            "Resized:  PythonRDD[4] at RDD at PythonRDD.scala:53\n",
            "Partitions:  16\n",
            "23/05/07 02:53:19 WARN org.apache.spark.scheduler.TaskSetManager: Stage 0 contains a task of very large size (134 KB). The maximum recommended task size is 100 KB.\n",
            "Map:  ['gs://big-data-coursework-385615-storage/tfrecords-jpeg-192x192-2/flowers00.tfrec', 'gs://big-data-coursework-385615-storage/tfrecords-jpeg-192x192-2/flowers01.tfrec', 'gs://big-data-coursework-385615-storage/tfrecords-jpeg-192x192-2/flowers02.tfrec', 'gs://big-data-coursework-385615-storage/tfrecords-jpeg-192x192-2/flowers03.tfrec', 'gs://big-data-coursework-385615-storage/tfrecords-jpeg-192x192-2/flowers04.tfrec', 'gs://big-data-coursework-385615-storage/tfrecords-jpeg-192x192-2/flowers05.tfrec', 'gs://big-data-coursework-385615-storage/tfrecords-jpeg-192x192-2/flowers06.tfrec', 'gs://big-data-coursework-385615-storage/tfrecords-jpeg-192x192-2/flowers07.tfrec', 'gs://big-data-coursework-385615-storage/tfrecords-jpeg-192x192-2/flowers08.tfrec', 'gs://big-data-coursework-385615-storage/tfrecords-jpeg-192x192-2/flowers09.tfrec', 'gs://big-data-coursework-385615-storage/tfrecords-jpeg-192x192-2/flowers10.tfrec', 'gs://big-data-coursework-385615-storage/tfrecords-jpeg-192x192-2/flowers11.tfrec', 'gs://big-data-coursework-385615-storage/tfrecords-jpeg-192x192-2/flowers12.tfrec', 'gs://big-data-coursework-385615-storage/tfrecords-jpeg-192x192-2/flowers13.tfrec', 'gs://big-data-coursework-385615-storage/tfrecords-jpeg-192x192-2/flowers14.tfrec', 'gs://big-data-coursework-385615-storage/tfrecords-jpeg-192x192-2/flowers15.tfrec']\n",
            "Time taken:  229.6104097366333\n",
            "23/05/07 02:57:04 INFO org.spark_project.jetty.server.AbstractConnector: Stopped Spark@e5c165{HTTP/1.1, (http/1.1)}{0.0.0.0:4040}\n",
            "Job [649ccfb68da442d4a643f1af9a0a5f20] finished successfully.\n",
            "done: true\n",
            "driverControlFilesUri: gs://dataproc-staging-us-central1-880598053282-53pecfob/google-cloud-dataproc-metainfo/4f03e7e8-9aa8-4d4d-b15c-a7ab73310d7d/jobs/649ccfb68da442d4a643f1af9a0a5f20/\n",
            "driverOutputResourceUri: gs://dataproc-staging-us-central1-880598053282-53pecfob/google-cloud-dataproc-metainfo/4f03e7e8-9aa8-4d4d-b15c-a7ab73310d7d/jobs/649ccfb68da442d4a643f1af9a0a5f20/driveroutput\n",
            "jobUuid: 9893f2ef-eb81-33a1-b6ce-65e4047be13c\n",
            "placement:\n",
            "  clusterName: big-data-coursework-385615-cluster\n",
            "  clusterUuid: 4f03e7e8-9aa8-4d4d-b15c-a7ab73310d7d\n",
            "pysparkJob:\n",
            "  mainPythonFileUri: gs://dataproc-staging-us-central1-880598053282-53pecfob/google-cloud-dataproc-metainfo/4f03e7e8-9aa8-4d4d-b15c-a7ab73310d7d/jobs/649ccfb68da442d4a643f1af9a0a5f20/staging/spark_write_tfrec.py\n",
            "reference:\n",
            "  jobId: 649ccfb68da442d4a643f1af9a0a5f20\n",
            "  projectId: big-data-coursework-385615\n",
            "status:\n",
            "  state: DONE\n",
            "  stateStartTime: '2023-05-07T02:57:08.352557Z'\n",
            "statusHistory:\n",
            "- state: PENDING\n",
            "  stateStartTime: '2023-05-07T02:52:48.626828Z'\n",
            "- state: SETUP_DONE\n",
            "  stateStartTime: '2023-05-07T02:52:48.665629Z'\n",
            "- details: Agent reported job success\n",
            "  state: RUNNING\n",
            "  stateStartTime: '2023-05-07T02:52:49.009623Z'\n",
            "yarnApplications:\n",
            "- name: spark_write_tfrec.py\n",
            "  progress: 1.0\n",
            "  state: FINISHED\n",
            "  trackingUrl: http://big-data-coursework-385615-cluster-m:8088/proxy/application_1683427834781_0001/\n",
            "The cluster 'big-data-coursework-385615-cluster' and all attached disks will be \n",
            "deleted.\n",
            "\n",
            "Do you want to continue (Y/n)?  Y\n",
            "\n",
            "Waiting on operation [projects/big-data-coursework-385615/regions/us-central1/operations/0901f6a7-4584-3093-938b-e7cc0d252c0a].\n",
            "Deleted [https://dataproc.googleapis.com/v1/projects/big-data-coursework-385615/regions/us-central1/clusters/big-data-coursework-385615-cluster].\n"
          ]
        }
      ]
    },
    {
      "cell_type": "code",
      "source": [],
      "metadata": {
        "id": "fgopYwf1HCdH"
      },
      "execution_count": null,
      "outputs": []
    },
    {
      "cell_type": "code",
      "source": [
        "# 1d (ii)\n",
        "\n",
        "## 8 Master\n",
        "!gcloud dataproc clusters create $CLUSTER \\\n",
        "    --master-machine-type n1-standard-8 \\\n",
        "    --master-boot-disk-type pd-ssd --master-boot-disk-size 100 \\\n",
        "    --initialization-actions gs://goog-dataproc-initialization-actions-$REGION/python/pip-install.sh \\\n",
        "    --metadata PIP_PACKAGES=tensorflow==2.4.0 \\\n",
        "    --image-version 1.4-ubuntu18 \\\n",
        "    --single-node \\\n",
        "    --max-idle 3600s\n",
        "!gcloud dataproc jobs submit pyspark --cluster $CLUSTER --region $REGION \\\n",
        "./spark_write_tfrec.py\n",
        "!gcloud dataproc clusters delete $CLUSTER"
      ],
      "metadata": {
        "colab": {
          "base_uri": "https://localhost:8080/"
        },
        "id": "MYGP9G-HaqS2",
        "outputId": "45d5226f-3d4c-461f-e48e-a173fe0c3460"
      },
      "execution_count": null,
      "outputs": [
        {
          "output_type": "stream",
          "name": "stdout",
          "text": [
            "Waiting on operation [projects/big-data-coursework-385615/regions/us-central1/operations/7608940b-ea35-3036-84b5-a7c6795fdd7c].\n",
            "\n",
            "\u001b[1;33mWARNING:\u001b[0m Don't create production clusters that reference initialization actions located in the gs://goog-dataproc-initialization-actions-REGION public buckets. These scripts are provided as reference implementations, and they are synchronized with ongoing GitHub repository changes—a new version of a initialization action in public buckets may break your cluster creation. Instead, copy the following initialization actions from public buckets into your bucket : gs://goog-dataproc-initialization-actions-us-central1/python/pip-install.sh\n",
            "\u001b[1;33mWARNING:\u001b[0m Permissions are missing for the default service account '880598053282-compute@developer.gserviceaccount.com', missing permissions: [storage.objects.get, storage.objects.update] on the staging_bucket 'projects/_/buckets/dataproc-staging-us-central1-880598053282-53pecfob'. This usually happens when a custom resource (ex: custom staging bucket) or a user-managed VM Service account has been provided and the default/user-managed service account hasn't been granted enough permissions on the resource. See https://cloud.google.com/dataproc/docs/concepts/configuring-clusters/service-accounts#VM_service_account.\n",
            "\u001b[1;33mWARNING:\u001b[0m Permissions are missing for the default service account '880598053282-compute@developer.gserviceaccount.com', missing permissions: [storage.objects.get, storage.objects.update] on the temp_bucket 'projects/_/buckets/dataproc-temp-us-central1-880598053282-evfmovv3'. This usually happens when a custom resource (ex: custom staging bucket) or a user-managed VM Service account has been provided and the default/user-managed service account hasn't been granted enough permissions on the resource. See https://cloud.google.com/dataproc/docs/concepts/configuring-clusters/service-accounts#VM_service_account.\n",
            "Created [https://dataproc.googleapis.com/v1/projects/big-data-coursework-385615/regions/us-central1/clusters/big-data-coursework-385615-cluster] Cluster placed in zone [us-central1-b].\n",
            "Job [0478096c57f5430d8c1209e05bb51db7] submitted.\n",
            "Waiting for job output...\n",
            "2023-05-07 03:10:26.343853: W tensorflow/stream_executor/platform/default/dso_loader.cc:60] Could not load dynamic library 'libcudart.so.11.0'; dlerror: libcudart.so.11.0: cannot open shared object file: No such file or directory; LD_LIBRARY_PATH: :/usr/lib/hadoop/lib/native\n",
            "2023-05-07 03:10:26.343894: I tensorflow/stream_executor/cuda/cudart_stub.cc:29] Ignore above cudart dlerror if you do not have a GPU set up on your machine.\n",
            "Tensorflow version 2.4.0\n",
            "23/05/07 03:10:29 INFO org.apache.spark.SparkEnv: Registering MapOutputTracker\n",
            "23/05/07 03:10:29 INFO org.apache.spark.SparkEnv: Registering BlockManagerMaster\n",
            "23/05/07 03:10:29 INFO org.apache.spark.SparkEnv: Registering OutputCommitCoordinator\n",
            "23/05/07 03:10:29 INFO org.spark_project.jetty.util.log: Logging initialized @5838ms to org.spark_project.jetty.util.log.Slf4jLog\n",
            "23/05/07 03:10:29 INFO org.spark_project.jetty.server.Server: jetty-9.4.z-SNAPSHOT; built: unknown; git: unknown; jvm 1.8.0_312-b07\n",
            "23/05/07 03:10:29 INFO org.spark_project.jetty.server.Server: Started @5953ms\n",
            "23/05/07 03:10:29 INFO org.spark_project.jetty.server.AbstractConnector: Started ServerConnector@7655c0b4{HTTP/1.1, (http/1.1)}{0.0.0.0:4040}\n",
            "23/05/07 03:10:30 WARN org.apache.spark.scheduler.FairSchedulableBuilder: Fair Scheduler configuration file not found so jobs will be scheduled in FIFO order. To use fair scheduling, configure pools in fairscheduler.xml or set spark.scheduler.allocation.file to a file that contains the configuration.\n",
            "23/05/07 03:10:30 INFO org.apache.hadoop.yarn.client.RMProxy: Connecting to ResourceManager at big-data-coursework-385615-cluster-m/10.128.15.210:8032\n",
            "23/05/07 03:10:31 INFO org.apache.hadoop.yarn.client.AHSProxy: Connecting to Application History server at big-data-coursework-385615-cluster-m/10.128.15.210:10200\n",
            "23/05/07 03:10:34 INFO org.apache.hadoop.yarn.client.api.impl.YarnClientImpl: Submitted application application_1683428911484_0001\n",
            "File unsampled test:  ParallelCollectionRDD[0] at parallelize at PythonRDD.scala:195\n",
            "File sample test:  PythonRDD[1] at RDD at PythonRDD.scala:53\n",
            "Decoded:  PythonRDD[2] at RDD at PythonRDD.scala:53\n",
            "Resized:  PythonRDD[3] at RDD at PythonRDD.scala:53\n",
            "Resized:  PythonRDD[4] at RDD at PythonRDD.scala:53\n",
            "Partitions:  16\n",
            "23/05/07 03:10:42 WARN org.apache.spark.scheduler.TaskSetManager: Stage 0 contains a task of very large size (134 KB). The maximum recommended task size is 100 KB.\n",
            "Map:  ['gs://big-data-coursework-385615-storage/tfrecords-jpeg-192x192-2/flowers00.tfrec', 'gs://big-data-coursework-385615-storage/tfrecords-jpeg-192x192-2/flowers01.tfrec', 'gs://big-data-coursework-385615-storage/tfrecords-jpeg-192x192-2/flowers02.tfrec', 'gs://big-data-coursework-385615-storage/tfrecords-jpeg-192x192-2/flowers03.tfrec', 'gs://big-data-coursework-385615-storage/tfrecords-jpeg-192x192-2/flowers04.tfrec', 'gs://big-data-coursework-385615-storage/tfrecords-jpeg-192x192-2/flowers05.tfrec', 'gs://big-data-coursework-385615-storage/tfrecords-jpeg-192x192-2/flowers06.tfrec', 'gs://big-data-coursework-385615-storage/tfrecords-jpeg-192x192-2/flowers07.tfrec', 'gs://big-data-coursework-385615-storage/tfrecords-jpeg-192x192-2/flowers08.tfrec', 'gs://big-data-coursework-385615-storage/tfrecords-jpeg-192x192-2/flowers09.tfrec', 'gs://big-data-coursework-385615-storage/tfrecords-jpeg-192x192-2/flowers10.tfrec', 'gs://big-data-coursework-385615-storage/tfrecords-jpeg-192x192-2/flowers11.tfrec', 'gs://big-data-coursework-385615-storage/tfrecords-jpeg-192x192-2/flowers12.tfrec', 'gs://big-data-coursework-385615-storage/tfrecords-jpeg-192x192-2/flowers13.tfrec', 'gs://big-data-coursework-385615-storage/tfrecords-jpeg-192x192-2/flowers14.tfrec', 'gs://big-data-coursework-385615-storage/tfrecords-jpeg-192x192-2/flowers15.tfrec']\n",
            "Time taken:  192.10582780838013\n",
            "23/05/07 03:13:53 INFO org.spark_project.jetty.server.AbstractConnector: Stopped Spark@7655c0b4{HTTP/1.1, (http/1.1)}{0.0.0.0:4040}\n",
            "Job [0478096c57f5430d8c1209e05bb51db7] finished successfully.\n",
            "done: true\n",
            "driverControlFilesUri: gs://dataproc-staging-us-central1-880598053282-53pecfob/google-cloud-dataproc-metainfo/605e088f-43a0-4bab-8948-3cbc9c1ceac1/jobs/0478096c57f5430d8c1209e05bb51db7/\n",
            "driverOutputResourceUri: gs://dataproc-staging-us-central1-880598053282-53pecfob/google-cloud-dataproc-metainfo/605e088f-43a0-4bab-8948-3cbc9c1ceac1/jobs/0478096c57f5430d8c1209e05bb51db7/driveroutput\n",
            "jobUuid: 855290d9-0d20-3a7b-94e4-ac492c7fee77\n",
            "placement:\n",
            "  clusterName: big-data-coursework-385615-cluster\n",
            "  clusterUuid: 605e088f-43a0-4bab-8948-3cbc9c1ceac1\n",
            "pysparkJob:\n",
            "  mainPythonFileUri: gs://dataproc-staging-us-central1-880598053282-53pecfob/google-cloud-dataproc-metainfo/605e088f-43a0-4bab-8948-3cbc9c1ceac1/jobs/0478096c57f5430d8c1209e05bb51db7/staging/spark_write_tfrec.py\n",
            "reference:\n",
            "  jobId: 0478096c57f5430d8c1209e05bb51db7\n",
            "  projectId: big-data-coursework-385615\n",
            "status:\n",
            "  state: DONE\n",
            "  stateStartTime: '2023-05-07T03:13:58.057590Z'\n",
            "statusHistory:\n",
            "- state: PENDING\n",
            "  stateStartTime: '2023-05-07T03:10:22.517770Z'\n",
            "- state: SETUP_DONE\n",
            "  stateStartTime: '2023-05-07T03:10:22.548204Z'\n",
            "- details: Agent reported job success\n",
            "  state: RUNNING\n",
            "  stateStartTime: '2023-05-07T03:10:22.826842Z'\n",
            "yarnApplications:\n",
            "- name: spark_write_tfrec.py\n",
            "  progress: 1.0\n",
            "  state: FINISHED\n",
            "  trackingUrl: http://big-data-coursework-385615-cluster-m:8088/proxy/application_1683428911484_0001/\n",
            "The cluster 'big-data-coursework-385615-cluster' and all attached disks will be \n",
            "deleted.\n",
            "\n",
            "Do you want to continue (Y/n)?  Y\n",
            "\n",
            "Waiting on operation [projects/big-data-coursework-385615/regions/us-central1/operations/27fd7a58-93ae-3fbe-a354-f15a8a84c7cd].\n",
            "Deleted [https://dataproc.googleapis.com/v1/projects/big-data-coursework-385615/regions/us-central1/clusters/big-data-coursework-385615-cluster].\n"
          ]
        }
      ]
    },
    {
      "cell_type": "markdown",
      "metadata": {
        "id": "Xx00RcJNkS-f"
      },
      "source": [
        "# Section 2: Speed tests\n",
        "\n",
        "We have seen that **reading from the pre-processed TFRecord files** is **faster** than reading individual image files and decoding on the fly.\n",
        "This task is about **measuring this effect** and **parallelizing the tests with PySpark**."
      ]
    },
    {
      "cell_type": "markdown",
      "metadata": {
        "id": "pw0Bi9Di4c71"
      },
      "source": [
        "## 2.1 Speed test implementation\n",
        "\n",
        "Here is **code for time measurement** to determine the **throughput in images per second**.\n",
        "It doesn't render the images but extracts and prints some basic information in order to make sure the image data are read.\n",
        "We write the information to the null device for longer measurements `null_file=open(\"/dev/null\", mode='w')`.\n",
        "That way it will not clutter our cell output.\n",
        "\n",
        "We use batches ( `dset2 = dset1.batch(batch_size)` ) and select a number of batches with (`dset3 = dset2.take(batch_number)`).\n",
        "Then we  use the `time.time()` to take the **time measurement** and take it multiple times, reading from the same dataset to see if reading speed changes with mutiple readings.\n",
        "\n",
        "We then **vary** the size of the batch (`batch_size`) and the number of batches (`batch_number`) and **store the results for different values**.\n",
        "Store also the **results for each repetition** over the same dataset (repeat 2 or 3 times).\n",
        "\n",
        "The speed test should be combined in a **function** `time_configs()` that takes a configuration, i.e. a dataset and arrays of `batch_sizes`, `batch_numbers`, and  `repetitions` (an array of integers starting from 1), as **arguments** and runs the time measurement for each combination of batch_size and batch_number for the requested number of repetitions."
      ]
    },
    {
      "cell_type": "code",
      "execution_count": null,
      "metadata": {
        "id": "DZlwZop5tsqs"
      },
      "outputs": [],
      "source": [
        "# Here are some useful values for testing your code, use higher values later for actually testing throughput\n",
        "batch_sizes = [2,4]\n",
        "batch_numbers = [3,6]\n",
        "repetitions = [1]\n",
        "\n",
        "def time_configs(dataset, batch_sizes, batch_numbers, repetitions):\n",
        "    dims = [len(batch_sizes),len(batch_numbers),len(repetitions)]\n",
        "    print(dims)\n",
        "    results = np.zeros(dims)\n",
        "    params = np.zeros(dims + [3])\n",
        "    print( results.shape )\n",
        "    with open(\"/dev/null\",mode='w') as null_file: # for printing the output without showing it\n",
        "        tt = time.time() # for overall time taking\n",
        "        for bsi,bs in enumerate(batch_sizes):\n",
        "            for dsi, ds in enumerate(batch_numbers):\n",
        "                batched_dataset = dataset.batch(bs)\n",
        "                timing_set = batched_dataset.take(ds)\n",
        "                for ri,rep in enumerate(repetitions):\n",
        "                    print(\"bs: {}, ds: {}, rep: {}\".format(bs,ds,rep))\n",
        "                    t0 = time.time()\n",
        "                    for image, label in timing_set:\n",
        "                        #print(\"Image batch shape {}\".format(image.numpy().shape),\n",
        "                        print(\"Image batch shape {}, {})\".format(image.numpy().shape,\n",
        "                            [str(lbl) for lbl in label.numpy()]), null_file)\n",
        "                    td = time.time() - t0 # duration for reading images\n",
        "                    results[bsi,dsi,ri] = ( bs * ds) / td\n",
        "                    params[bsi,dsi,ri] = [ bs, ds, rep ]\n",
        "    print(\"total time: \"+str(time.time()-tt))\n",
        "    return results, params"
      ]
    },
    {
      "cell_type": "markdown",
      "metadata": {
        "id": "IICIJYaiVsLz"
      },
      "source": [
        "**Let's try this function** with a **small number** of configurations of batch_sizes batch_numbers and repetions, so that we get a set of parameter combinations and corresponding reading speeds.\n",
        "Try reading from the image files (dataset4) and the TFRecord files (datasetTfrec)."
      ]
    },
    {
      "cell_type": "code",
      "execution_count": null,
      "metadata": {
        "id": "0SwjzQtfj-PE",
        "colab": {
          "base_uri": "https://localhost:8080/"
        },
        "outputId": "70230b6b-458c-4ff1-e015-557918d391ad"
      },
      "outputs": [
        {
          "output_type": "stream",
          "name": "stdout",
          "text": [
            "[2, 2, 1]\n",
            "(2, 2, 1)\n",
            "bs: 2, ds: 3, rep: 1\n",
            "Image batch shape (2,), [\"b'daisy'\", \"b'sunflowers'\"]) <_io.TextIOWrapper name='/dev/null' mode='w' encoding='UTF-8'>\n",
            "Image batch shape (2,), [\"b'roses'\", \"b'dandelion'\"]) <_io.TextIOWrapper name='/dev/null' mode='w' encoding='UTF-8'>\n",
            "Image batch shape (2,), [\"b'roses'\", \"b'sunflowers'\"]) <_io.TextIOWrapper name='/dev/null' mode='w' encoding='UTF-8'>\n",
            "bs: 2, ds: 6, rep: 1\n",
            "Image batch shape (2,), [\"b'daisy'\", \"b'tulips'\"]) <_io.TextIOWrapper name='/dev/null' mode='w' encoding='UTF-8'>\n",
            "Image batch shape (2,), [\"b'tulips'\", \"b'sunflowers'\"]) <_io.TextIOWrapper name='/dev/null' mode='w' encoding='UTF-8'>\n",
            "Image batch shape (2,), [\"b'sunflowers'\", \"b'daisy'\"]) <_io.TextIOWrapper name='/dev/null' mode='w' encoding='UTF-8'>\n",
            "Image batch shape (2,), [\"b'dandelion'\", \"b'tulips'\"]) <_io.TextIOWrapper name='/dev/null' mode='w' encoding='UTF-8'>\n",
            "Image batch shape (2,), [\"b'daisy'\", \"b'roses'\"]) <_io.TextIOWrapper name='/dev/null' mode='w' encoding='UTF-8'>\n",
            "Image batch shape (2,), [\"b'dandelion'\", \"b'daisy'\"]) <_io.TextIOWrapper name='/dev/null' mode='w' encoding='UTF-8'>\n",
            "bs: 4, ds: 3, rep: 1\n",
            "Image batch shape (4,), [\"b'sunflowers'\", \"b'dandelion'\", \"b'daisy'\", \"b'sunflowers'\"]) <_io.TextIOWrapper name='/dev/null' mode='w' encoding='UTF-8'>\n",
            "Image batch shape (4,), [\"b'roses'\", \"b'tulips'\", \"b'sunflowers'\", \"b'tulips'\"]) <_io.TextIOWrapper name='/dev/null' mode='w' encoding='UTF-8'>\n",
            "Image batch shape (4,), [\"b'daisy'\", \"b'dandelion'\", \"b'dandelion'\", \"b'tulips'\"]) <_io.TextIOWrapper name='/dev/null' mode='w' encoding='UTF-8'>\n",
            "bs: 4, ds: 6, rep: 1\n",
            "Image batch shape (4,), [\"b'dandelion'\", \"b'sunflowers'\", \"b'tulips'\", \"b'sunflowers'\"]) <_io.TextIOWrapper name='/dev/null' mode='w' encoding='UTF-8'>\n",
            "Image batch shape (4,), [\"b'tulips'\", \"b'daisy'\", \"b'sunflowers'\", \"b'tulips'\"]) <_io.TextIOWrapper name='/dev/null' mode='w' encoding='UTF-8'>\n",
            "Image batch shape (4,), [\"b'tulips'\", \"b'dandelion'\", \"b'sunflowers'\", \"b'daisy'\"]) <_io.TextIOWrapper name='/dev/null' mode='w' encoding='UTF-8'>\n",
            "Image batch shape (4,), [\"b'dandelion'\", \"b'roses'\", \"b'dandelion'\", \"b'sunflowers'\"]) <_io.TextIOWrapper name='/dev/null' mode='w' encoding='UTF-8'>\n",
            "Image batch shape (4,), [\"b'roses'\", \"b'tulips'\", \"b'sunflowers'\", \"b'roses'\"]) <_io.TextIOWrapper name='/dev/null' mode='w' encoding='UTF-8'>\n",
            "Image batch shape (4,), [\"b'daisy'\", \"b'sunflowers'\", \"b'dandelion'\", \"b'dandelion'\"]) <_io.TextIOWrapper name='/dev/null' mode='w' encoding='UTF-8'>\n",
            "total time: 3.6122865676879883\n",
            "[[[ 5.71423018]\n",
            "  [15.93204744]]\n",
            "\n",
            " [[17.80444966]\n",
            "  [21.37062987]]]\n",
            "[[[[2. 3. 1.]]\n",
            "\n",
            "  [[2. 6. 1.]]]\n",
            "\n",
            "\n",
            " [[[4. 3. 1.]]\n",
            "\n",
            "  [[4. 6. 1.]]]]\n",
            "=============\n",
            "[2, 2, 1]\n",
            "(2, 2, 1)\n",
            "bs: 2, ds: 3, rep: 1\n",
            "Image batch shape (2, 192, 192, 3), ['2', '2']) <_io.TextIOWrapper name='/dev/null' mode='w' encoding='UTF-8'>\n",
            "Image batch shape (2, 192, 192, 3), ['2', '2']) <_io.TextIOWrapper name='/dev/null' mode='w' encoding='UTF-8'>\n",
            "Image batch shape (2, 192, 192, 3), ['3', '3']) <_io.TextIOWrapper name='/dev/null' mode='w' encoding='UTF-8'>\n",
            "bs: 2, ds: 6, rep: 1\n",
            "Image batch shape (2, 192, 192, 3), ['2', '2']) <_io.TextIOWrapper name='/dev/null' mode='w' encoding='UTF-8'>\n",
            "Image batch shape (2, 192, 192, 3), ['2', '2']) <_io.TextIOWrapper name='/dev/null' mode='w' encoding='UTF-8'>\n",
            "Image batch shape (2, 192, 192, 3), ['3', '3']) <_io.TextIOWrapper name='/dev/null' mode='w' encoding='UTF-8'>\n",
            "Image batch shape (2, 192, 192, 3), ['3', '3']) <_io.TextIOWrapper name='/dev/null' mode='w' encoding='UTF-8'>\n",
            "Image batch shape (2, 192, 192, 3), ['3', '3']) <_io.TextIOWrapper name='/dev/null' mode='w' encoding='UTF-8'>\n",
            "Image batch shape (2, 192, 192, 3), ['3', '3']) <_io.TextIOWrapper name='/dev/null' mode='w' encoding='UTF-8'>\n",
            "bs: 4, ds: 3, rep: 1\n",
            "Image batch shape (4, 192, 192, 3), ['2', '2', '2', '2']) <_io.TextIOWrapper name='/dev/null' mode='w' encoding='UTF-8'>\n",
            "Image batch shape (4, 192, 192, 3), ['3', '3', '3', '3']) <_io.TextIOWrapper name='/dev/null' mode='w' encoding='UTF-8'>\n",
            "Image batch shape (4, 192, 192, 3), ['3', '3', '3', '3']) <_io.TextIOWrapper name='/dev/null' mode='w' encoding='UTF-8'>\n",
            "bs: 4, ds: 6, rep: 1\n",
            "Image batch shape (4, 192, 192, 3), ['2', '2', '2', '2']) <_io.TextIOWrapper name='/dev/null' mode='w' encoding='UTF-8'>\n",
            "Image batch shape (4, 192, 192, 3), ['3', '3', '3', '3']) <_io.TextIOWrapper name='/dev/null' mode='w' encoding='UTF-8'>\n",
            "Image batch shape (4, 192, 192, 3), ['3', '3', '3', '3']) <_io.TextIOWrapper name='/dev/null' mode='w' encoding='UTF-8'>\n",
            "Image batch shape (4, 192, 192, 3), ['3', '3', '3', '3']) <_io.TextIOWrapper name='/dev/null' mode='w' encoding='UTF-8'>\n",
            "Image batch shape (4, 192, 192, 3), ['3', '3', '3', '3']) <_io.TextIOWrapper name='/dev/null' mode='w' encoding='UTF-8'>\n",
            "Image batch shape (4, 192, 192, 3), ['3', '3', '3', '3']) <_io.TextIOWrapper name='/dev/null' mode='w' encoding='UTF-8'>\n",
            "total time: 1.4870243072509766\n",
            "[[[ 14.15472324]\n",
            "  [ 27.36915006]]\n",
            "\n",
            " [[ 23.8439963 ]\n",
            "  [204.48299146]]]\n",
            "[[[[2. 3. 1.]]\n",
            "\n",
            "  [[2. 6. 1.]]]\n",
            "\n",
            "\n",
            " [[[4. 3. 1.]]\n",
            "\n",
            "  [[4. 6. 1.]]]]\n"
          ]
        }
      ],
      "source": [
        "[res,par] = time_configs(dataset4, batch_sizes, batch_numbers, repetitions)\n",
        "print(res)\n",
        "print(par)\n",
        "\n",
        "print(\"=============\")\n",
        "\n",
        "[res,par] = time_configs(datasetTfrec, batch_sizes, batch_numbers, repetitions)\n",
        "print(res)\n",
        "print(par)"
      ]
    },
    {
      "cell_type": "markdown",
      "metadata": {
        "id": "wQEjuE-bD5W9"
      },
      "source": [
        "## Task 2: Parallelising the speed test with Spark in the cloud. (36%)\n",
        "\n",
        "As an exercise in **Spark programming and optimisation** as well as **performance analysis**, we will now implement the **speed test** with multiple parameters in parallel with Spark.\n",
        "Runing multiple tests in parallel would **not be a useful approach on a single machine, but it can be in the cloud** (you will be asked to reason about this later).\n"
      ]
    },
    {
      "cell_type": "markdown",
      "metadata": {
        "id": "1fJFroJzVal-"
      },
      "source": [
        "### 2a) Create the script (14%)\n",
        "Your task is now to **port the speed test above to Spark** for running it in the cloud in Dataproc.\n",
        "**Adapt the speed testing** as a Spark program that performs the same actions as above, but **with Spark RDDs in a distributed way**.\n",
        "The distribution should be such that **each parameter combination (except repetition)** is processed in a separate Spark task.\n",
        "\n",
        "More specifically:\n",
        "*   i) combine the previous cells to have the code to create a dataset and create a list of parameter combinations in an RDD (2%)\n",
        "*   ii) get a Spark context and  create the dataset and run timing test for each combination in parallel (2%)\n",
        "*   iii) transform the resulting RDD to the structure \\( parameter_combination, images_per_second \\) and save these values in an array (2%)\n",
        "*   iv) create an RDD with all results for each parameter as (parameter_value,images_per_second) and collect the result for each parameter  (2%)\n",
        "*   v) create an RDD with the average reading speeds for each parameter value and collect the results. Keep associativity in mind when implementing the average. (3%)\n",
        "*   vi) write the results to a pickle file in your bucket (2%)\n",
        "*   vii) Write your code it into a file using the *cell magic* `%%writefile spark_job.py` (1%)\n",
        "\n",
        "\n",
        "**Important:** The task here is not to parallelize the pre-processing, but to run multiple speed tests in parallel using Spark.\n"
      ]
    },
    {
      "cell_type": "code",
      "source": [
        "%%writefile spark_job.py\n",
        "### CODING TASK\n",
        "\n",
        "import os, sys, math\n",
        "import numpy as np\n",
        "import time\n",
        "import datetime\n",
        "import string\n",
        "import random\n",
        "import tensorflow as tf\n",
        "print(\"Tensorflow version \" + tf.__version__)\n",
        "import pickle\n",
        "import pyspark\n",
        "sc = pyspark.SparkContext.getOrCreate()\n",
        "\n",
        "PROJECT = 'big-data-coursework-385615'  ### USE YOUR GOOGLE CLOUD PROJECT ID HERE. ###\n",
        "\n",
        "BUCKET = 'gs://{}-storage'.format(PROJECT)\n",
        "\n",
        "GCS_PATTERN = 'gs://flowers-public/*/*.jpg' # glob  pattern for input files\n",
        "PARTITIONS = 16 # no of partitions we will use later\n",
        "TARGET_SIZE = [192, 192] # target resolution for the images\n",
        "CLASSES = [b'daisy', b'dandelion', b'roses', b'sunflowers', b'tulips']\n",
        "\n",
        "GCS_OUTPUT = BUCKET + '/tfrecords-jpeg-192x192-2/flowers'\n",
        "\n",
        "\n",
        "#Define new time config fun\n",
        "def time_configs_new1(par):\n",
        "    dims = [len(batch_sizes),len(batch_numbers),len(repetitions)]\n",
        "    par[0] = batch_sizes\n",
        "    par[1] = batch_numbers\n",
        "    par[2] = repetitions\n",
        "    results = []\n",
        "    params = []\n",
        "    new2 = []\n",
        "    dataset = img_load()\n",
        "    with open(\"/dev/null\",mode='w') as null_file: # for printing the output without showing it\n",
        "        tt = time.time() # for overall time taking\n",
        "        for bsi,bs in enumerate(batch_sizes):\n",
        "            for dsi, ds in enumerate(batch_numbers):\n",
        "                batched_dataset = dataset.batch(bs)\n",
        "                timing_set = batched_dataset.take(ds)\n",
        "                for ri,rep in enumerate(repetitions):\n",
        "                    t0 = time.time()\n",
        "                    for image, label in timing_set:\n",
        "                        print(\"Image batch shape {}, {})\".format(image.numpy().shape,\n",
        "                            [str(lbl) for lbl in label.numpy()]), null_file)\n",
        "                    td = time.time() - t0 # duration for reading images\n",
        "                    new2.append([bs,ds,rep, ( bs * ds),( bs * ds) / td])\n",
        "    print(\"total time: \"+str(time.time()-tt))\n",
        "    return new2\n",
        "\n",
        "def time_configs_new2(par):\n",
        "    dims = [len(batch_sizes),len(batch_numbers),len(repetitions)]\n",
        "    par[0] = batch_sizes\n",
        "    par[1] = batch_numbers\n",
        "    par[2] = repetitions\n",
        "    results = []\n",
        "    params = []\n",
        "    new2 = []\n",
        "\n",
        "    dataset = trf_load()\n",
        "\n",
        "    with open(\"/dev/null\",mode='w') as null_file:\n",
        "        tt = time.time()\n",
        "        for bsi,bs in enumerate(batch_sizes):\n",
        "            for dsi, ds in enumerate(batch_numbers):\n",
        "                batched_dataset = dataset.batch(bs)\n",
        "                timing_set = batched_dataset.take(ds)\n",
        "                for ri,rep in enumerate(repetitions):\n",
        "                    t0 = time.time()\n",
        "                    for image, label in timing_set:\n",
        "                        print(\"Image batch shape {}, {})\".format(image.numpy().shape,\n",
        "                            [str(lbl) for lbl in label.numpy()]), null_file)\n",
        "                    td = time.time() - t0\n",
        "                    new2.append([bs,ds,rep, ( bs * ds),( bs * ds) / td])\n",
        "    print(\"total time: \"+str(time.time()-tt))\n",
        "    return new2\n",
        "\n",
        "\n",
        "#Define fun:\n",
        "\n",
        "def recompress_image(image, label):\n",
        "    image = tf.cast(image, tf.uint8)\n",
        "    image = tf.image.encode_jpeg(image, optimize_size=True, chroma_downsampling=False)\n",
        "    return image, label\n",
        "def decode_jpeg_and_label(filepath):\n",
        "    bits = tf.io.read_file(filepath)\n",
        "    image = tf.image.decode_jpeg(bits)\n",
        "    label = tf.strings.split(tf.expand_dims(filepath, axis=-1), sep='/')\n",
        "    label2 = label.values[-2]\n",
        "    return image, label2\n",
        "\n",
        "def resize_and_crop_image(image, label):\n",
        "    w = tf.shape(image)[0]\n",
        "    h = tf.shape(image)[1]\n",
        "    tw = TARGET_SIZE[1]\n",
        "    th = TARGET_SIZE[0]\n",
        "    resize_crit = (w * th) / (h * tw)\n",
        "    image = tf.cond(resize_crit < 1,\n",
        "                    lambda: tf.image.resize(image, [w*tw/w, h*tw/w]), # if true\n",
        "                    lambda: tf.image.resize(image, [w*th/h, h*th/h])  # if false\n",
        "                    )\n",
        "    nw = tf.shape(image)[0]\n",
        "    nh = tf.shape(image)[1]\n",
        "    image = tf.image.crop_to_bounding_box(image, (nw - tw) // 2, (nh - th) // 2, tw, th)\n",
        "    return image, label\n",
        "\n",
        "def read_tfrecord(example):\n",
        "    features = {\n",
        "        \"image\": tf.io.FixedLenFeature([], tf.string),\n",
        "        \"class\": tf.io.FixedLenFeature([], tf.int64)\n",
        "    }\n",
        "    example = tf.io.parse_single_example(example, features)\n",
        "    image = tf.image.decode_jpeg(example['image'], channels=3)\n",
        "    image = tf.reshape(image, [*TARGET_SIZE, 3])\n",
        "    class_num = example['class']\n",
        "    return image, class_num\n",
        "\n",
        "def load_dataset(filenames):\n",
        "    option_no_order = tf.data.Options()\n",
        "    option_no_order.experimental_deterministic = False\n",
        "    dataset = tf.data.TFRecordDataset(filenames)\n",
        "    dataset = dataset.with_options(option_no_order)\n",
        "    dataset = dataset.map(read_tfrecord)\n",
        "    return dataset\n",
        "\n",
        "def img_load():\n",
        "    sp = tf.data.Dataset.list_files(GCS_PATTERN)\n",
        "\n",
        "    #dec\n",
        "    sp_dec = sp.map(decode_jpeg_and_label)\n",
        "    #resize\n",
        "    sp_rez = sp_dec.map(resize_and_crop_image)\n",
        "    #recompress\n",
        "    sp_reco = sp_rez.map(recompress_image)\n",
        "    return sp_reco\n",
        "\n",
        "def trf_load():\n",
        "    filenames = tf.io.gfile.glob(GCS_OUTPUT + \"*.tfrec\")\n",
        "\n",
        "    trd = load_dataset(filenames)\n",
        "    return trd\n",
        "\n",
        "\n",
        "# Task i) and ii)\n",
        "\n",
        "batch_sizes = [2, 4]\n",
        "batch_numbers = [3, 6]\n",
        "repetitions = [1, 2]\n",
        "new_list = []\n",
        "for size in batch_sizes:\n",
        "  for numbers in batch_numbers:\n",
        "    for rep in repetitions:\n",
        "      new_list.append([size,numbers,rep])\n",
        "\n",
        "\n",
        "start = time.time() #start time\n",
        "param_spark = sc.parallelize(new_list)\n",
        "\n",
        "# Task iii)\n",
        "img = param_spark.flatMap(time_configs_new1)\n",
        "tfr = param_spark.flatMap(time_configs_new2)\n",
        "\n",
        "### TASK 2c ###\n",
        "img.cache()\n",
        "tfr.cache()\n",
        "\n",
        "# Task iv)\n",
        "\n",
        "img_batch = img.map(lambda z:(int(z[0]),float(z[4])))\n",
        "tfr_batch = tfr.map(lambda z:(int(z[0]),float(z[4])))\n",
        "img_batch_val = img_batch.collect()\n",
        "tfr_batch_val = tfr.map(lambda z:(int(z[0]),float(z[4]))).collect()\n",
        "\n",
        "img_rep = img.map(lambda z:(int(z[2]), float(z[4])))\n",
        "tfr_rep = tfr.map(lambda z:(int(z[2]),float(z[4])))\n",
        "img_rep_val = img.map(lambda z:(int(z[2]), float(z[4]))).collect()\n",
        "tfr_rep_val = tfr.map(lambda z:(int(z[2]),float(z[4]))).collect()\n",
        "\n",
        "img_pro = img.map(lambda z:(int(z[3]),float(z[4])))\n",
        "tfr_pro = tfr.map(lambda z:(int(z[3]),float(z[4])))\n",
        "img_pro_val = img.map(lambda z:(int(z[3]),float(z[4]))).collect()\n",
        "tfr_pro_val = tfr.map(lambda z:(int(z[3]),float(z[4]))).collect()\n",
        "\n",
        "img_batch_number = img.map(lambda z:(int(z[1]),float(z[4])))\n",
        "tfr_batch_number= tfr.map(lambda z:(int(z[1]),float(z[4])))\n",
        "img_batch_number_val = img.map(lambda z:(int(z[1]),float(z[4]))).collect()\n",
        "tfr_batch_number_val = tfr.map(lambda z:(int(z[1]),float(z[4]))).collect()\n",
        "\n",
        "\n",
        "\n",
        "# Task v)\n",
        "img_batch_avg = img_batch.mapValues(lambda z:(z,1)).reduceByKey(lambda x,y: (x[0]+y[0], x[1]+y[1])).mapValues(lambda z: z[0]/z[1])\n",
        "img_batch_avg_val = (img_batch.mapValues(lambda z:(z,1)).reduceByKey(lambda x,y: (x[0]+y[0], x[1]+y[1])).mapValues(lambda z: z[0]/z[1])).collect()\n",
        "tfr_batch_avg = tfr_batch.mapValues(lambda z:(z,1)).reduceByKey(lambda x,y: (x[0]+y[0], x[1]+y[1])).mapValues(lambda z: z[0]/z[1])\n",
        "tfr_batch_avg_val = (tfr_batch.mapValues(lambda z:(z,1)).reduceByKey(lambda x,y: (x[0]+y[0], x[1]+y[1])).mapValues(lambda z: z[0]/z[1])).collect()\n",
        "\n",
        "img_rep_avg = img_rep.mapValues(lambda z:(z,1)).reduceByKey(lambda x,y:(x[0]+y[0], x[1]+y[1])).mapValues(lambda z: z[0]/z[1])\n",
        "img_rep_avg_val = (img_rep.mapValues(lambda z:(z,1)).reduceByKey(lambda x,y:(x[0]+y[0], x[1]+y[1])).mapValues(lambda z: z[0]/z[1])).collect()\n",
        "tfr_rep_avg = tfr_rep.mapValues(lambda z:(z,1)).reduceByKey(lambda x,y: (x[0]+y[0], x[1]+y[1])).mapValues(lambda z: z[0]/z[1])\n",
        "tfr_rep_avg_val = (tfr_rep.mapValues(lambda z:(z,1)).reduceByKey(lambda x,y: (x[0]+y[0], x[1]+y[1])).mapValues(lambda z: z[0]/z[1])).collect()\n",
        "\n",
        "img_pro_avg = img_pro.mapValues(lambda z:(z,1)).reduceByKey(lambda x,y: (x[0]+y[0], x[1]+y[1])).mapValues(lambda z: z[0]/z[1])\n",
        "img_pro_avg_val = (img_pro.mapValues(lambda z:(z,1)).reduceByKey(lambda x,y: (x[0]+y[0], x[1]+y[1])).mapValues(lambda z: z[0]/z[1])).collect()\n",
        "tfr_pro_avg = tfr_pro.mapValues(lambda z:(z,1)).reduceByKey(lambda x,y: (x[0]+y[0], x[1]+y[1])).mapValues(lambda z: z[0]/z[1])\n",
        "tfr_pro_avg_val = (tfr_pro.mapValues(lambda z:(z,1)).reduceByKey(lambda x,y: (x[0]+y[0], x[1]+y[1])).mapValues(lambda z: z[0]/z[1])).collect()\n",
        "\n",
        "img_batch_number_avg = img_batch_number.mapValues(lambda z:(z,1)).reduceByKey(lambda x,y: (x[0]+y[0], x[1]+y[1])).mapValues(lambda z: z[0]/z[1])\n",
        "img_batch_number_avg_val = (img_batch_number.mapValues(lambda z:(z,1)).reduceByKey(lambda x,y: (x[0]+y[0], x[1]+y[1])).mapValues(lambda z: z[0]/z[1])).collect()\n",
        "tfr_batch_number_avg = tfr_batch_number.mapValues(lambda z:(z,1)).reduceByKey(lambda x,y: (x[0]+y[0], x[1]+y[1])).mapValues(lambda z: z[0]/z[1])\n",
        "tfr_batch_number_avg_val = (tfr_batch_number.mapValues(lambda z:(z,1)).reduceByKey(lambda x,y: (x[0]+y[0], x[1]+y[1])).mapValues(lambda z: z[0]/z[1])).collect()\n",
        "\n",
        "\n",
        "# Task vi)\n",
        "import datetime\n",
        "import subprocess\n",
        "def sv(fl, bck, ans):\n",
        "    with open(fl,mode = 'wb') as f:\n",
        "        pickle.dump(ans, f)\n",
        "    print(\"Save\")\n",
        "    save = subprocess.run([\"gsutil\",\"cp\", fl, bck])\n",
        "\n",
        "answers = [img_batch_val, tfr_batch_val, img_rep_val, tfr_rep_val,img_pro_val,tfr_pro_val, img_batch_number_val,\n",
        "           tfr_batch_number_val,img_batch_avg_val,tfr_batch_avg_val,img_rep_avg_val,tfr_rep_avg_val,img_pro_avg_val,tfr_pro_avg_val,\n",
        "           img_batch_number_avg_val,tfr_batch_number_avg_val]\n",
        "\n",
        "sv(\"values {}\".format(datetime.datetime.now().strftime(\"%y%m%d-%H%M\")), BUCKET, answers)\n",
        "end = time.time() - start\n",
        "print('Time taken: ', end)\n"
      ],
      "metadata": {
        "colab": {
          "base_uri": "https://localhost:8080/"
        },
        "id": "RL5ftqd1G7zG",
        "outputId": "9a67669c-c1ab-440d-d41e-c4e0338ab9b2"
      },
      "execution_count": null,
      "outputs": [
        {
          "output_type": "stream",
          "name": "stdout",
          "text": [
            "Writing spark_job.py\n"
          ]
        }
      ]
    },
    {
      "cell_type": "markdown",
      "metadata": {
        "id": "WuXtPhZi2Ghp"
      },
      "source": [
        "### 2b) Testing the code and collecting results (4%)\n",
        "\n",
        "i) First, test locally with `%run`.\n",
        "\n",
        "It is useful to create a **new filename argument**, so that old results don't get overwritten.\n",
        "\n",
        "You can for instance use `datetime.datetime.now().strftime(\"%y%m%d-%H%M\")` to get a string with the current date and time and use that in the file name."
      ]
    },
    {
      "cell_type": "code",
      "execution_count": null,
      "metadata": {
        "id": "WQXpKGGDAZV_",
        "colab": {
          "base_uri": "https://localhost:8080/"
        },
        "outputId": "45cbe07e-4312-4589-f12b-0a6ba5911f52"
      },
      "outputs": [
        {
          "output_type": "stream",
          "name": "stdout",
          "text": [
            "Tensorflow version 2.12.0\n",
            "Save\n",
            "Time taken:  183.8078281879425\n"
          ]
        }
      ],
      "source": [
        "### CODING TASK\n",
        "%run spark_job.py\n"
      ]
    },
    {
      "cell_type": "markdown",
      "metadata": {
        "id": "01PowoXqAR9D"
      },
      "source": [
        "ii) Cloud\n",
        "\n",
        "If  you have a cluster running, you can run the  speed test job in the cloud.\n",
        "\n",
        "While you run this job, switch to the Dataproc web page and take **screenshots of the CPU and network load** over time. They are displayed with some delay, so you may need to wait a little. These images will be useful in the next task. Again, don't use the SCREENSHOT function that Google provides, but just take a picture of the graphs you see for the VMs.\n"
      ]
    },
    {
      "cell_type": "code",
      "execution_count": null,
      "metadata": {
        "id": "KSNrC4Y18YaB",
        "colab": {
          "base_uri": "https://localhost:8080/"
        },
        "outputId": "4946611f-a2a7-4c8d-9593-57cba52a0cb5"
      },
      "outputs": [
        {
          "output_type": "stream",
          "name": "stdout",
          "text": [
            "Waiting on operation [projects/big-data-coursework-385615/regions/us-central1/operations/5cea07db-04c5-381e-9f55-2addd3987dda].\n",
            "\n",
            "\u001b[1;33mWARNING:\u001b[0m Creating clusters using the n1-standard-1 machine type is not recommended. Consider using a machine type with higher memory.\n",
            "\u001b[1;33mWARNING:\u001b[0m Don't create production clusters that reference initialization actions located in the gs://goog-dataproc-initialization-actions-REGION public buckets. These scripts are provided as reference implementations, and they are synchronized with ongoing GitHub repository changes—a new version of a initialization action in public buckets may break your cluster creation. Instead, copy the following initialization actions from public buckets into your bucket : gs://goog-dataproc-initialization-actions-us-central1/python/pip-install.sh\n",
            "\u001b[1;33mWARNING:\u001b[0m For PD-Standard without local SSDs, we strongly recommend provisioning 1TB or larger to ensure consistently high I/O performance. See https://cloud.google.com/compute/docs/disks/performance for information on disk I/O performance.\n",
            "\u001b[1;33mWARNING:\u001b[0m Permissions are missing for the default service account '880598053282-compute@developer.gserviceaccount.com', missing permissions: [storage.objects.get, storage.objects.update] on the staging_bucket 'projects/_/buckets/dataproc-staging-us-central1-880598053282-53pecfob'. This usually happens when a custom resource (ex: custom staging bucket) or a user-managed VM Service account has been provided and the default/user-managed service account hasn't been granted enough permissions on the resource. See https://cloud.google.com/dataproc/docs/concepts/configuring-clusters/service-accounts#VM_service_account.\n",
            "\u001b[1;33mWARNING:\u001b[0m Permissions are missing for the default service account '880598053282-compute@developer.gserviceaccount.com', missing permissions: [storage.objects.get, storage.objects.update] on the temp_bucket 'projects/_/buckets/dataproc-temp-us-central1-880598053282-evfmovv3'. This usually happens when a custom resource (ex: custom staging bucket) or a user-managed VM Service account has been provided and the default/user-managed service account hasn't been granted enough permissions on the resource. See https://cloud.google.com/dataproc/docs/concepts/configuring-clusters/service-accounts#VM_service_account.\n",
            "Created [https://dataproc.googleapis.com/v1/projects/big-data-coursework-385615/regions/us-central1/clusters/big-data-coursework-385615-cluster] Cluster placed in zone [us-central1-a].\n",
            "Job [bea5cc6febda445495931e5c194af7db] submitted.\n",
            "Waiting for job output...\n",
            "2023-05-06 18:44:16.821711: W tensorflow/stream_executor/platform/default/dso_loader.cc:60] Could not load dynamic library 'libcudart.so.11.0'; dlerror: libcudart.so.11.0: cannot open shared object file: No such file or directory; LD_LIBRARY_PATH: :/usr/lib/hadoop/lib/native\n",
            "2023-05-06 18:44:16.821873: I tensorflow/stream_executor/cuda/cudart_stub.cc:29] Ignore above cudart dlerror if you do not have a GPU set up on your machine.\n",
            "Tensorflow version 2.4.0\n",
            "23/05/06 18:44:20 INFO org.apache.spark.SparkEnv: Registering MapOutputTracker\n",
            "23/05/06 18:44:20 INFO org.apache.spark.SparkEnv: Registering BlockManagerMaster\n",
            "23/05/06 18:44:20 INFO org.apache.spark.SparkEnv: Registering OutputCommitCoordinator\n",
            "23/05/06 18:44:21 INFO org.spark_project.jetty.util.log: Logging initialized @8405ms to org.spark_project.jetty.util.log.Slf4jLog\n",
            "23/05/06 18:44:21 INFO org.spark_project.jetty.server.Server: jetty-9.4.z-SNAPSHOT; built: unknown; git: unknown; jvm 1.8.0_312-b07\n",
            "23/05/06 18:44:21 INFO org.spark_project.jetty.server.Server: Started @8654ms\n",
            "23/05/06 18:44:21 INFO org.spark_project.jetty.server.AbstractConnector: Started ServerConnector@2e61c09e{HTTP/1.1, (http/1.1)}{0.0.0.0:4040}\n",
            "23/05/06 18:44:21 WARN org.apache.spark.scheduler.FairSchedulableBuilder: Fair Scheduler configuration file not found so jobs will be scheduled in FIFO order. To use fair scheduling, configure pools in fairscheduler.xml or set spark.scheduler.allocation.file to a file that contains the configuration.\n",
            "23/05/06 18:44:23 INFO org.apache.hadoop.yarn.client.RMProxy: Connecting to ResourceManager at big-data-coursework-385615-cluster-m/10.128.0.58:8032\n",
            "23/05/06 18:44:23 INFO org.apache.hadoop.yarn.client.AHSProxy: Connecting to Application History server at big-data-coursework-385615-cluster-m/10.128.0.58:10200\n",
            "23/05/06 18:44:24 WARN org.apache.hadoop.hdfs.DataStreamer: Caught exception\n",
            "java.lang.InterruptedException\n",
            "\tat java.lang.Object.wait(Native Method)\n",
            "\tat java.lang.Thread.join(Thread.java:1252)\n",
            "\tat java.lang.Thread.join(Thread.java:1326)\n",
            "\tat org.apache.hadoop.hdfs.DataStreamer.closeResponder(DataStreamer.java:980)\n",
            "\tat org.apache.hadoop.hdfs.DataStreamer.endBlock(DataStreamer.java:630)\n",
            "\tat org.apache.hadoop.hdfs.DataStreamer.run(DataStreamer.java:807)\n",
            "23/05/06 18:44:26 INFO org.apache.hadoop.yarn.client.api.impl.YarnClientImpl: Submitted application application_1683398377893_0001\n",
            "Save\n",
            "ERROR: Python 2 is not compatible with the Google Cloud SDK. Please use Python version 3.5 and up.\n",
            "\n",
            "If you have a compatible Python interpreter installed, you can use it by setting\n",
            "the CLOUDSDK_PYTHON environment variable to point to it.\n",
            "\n",
            "Time taken:  78.05740261077881\n",
            "23/05/06 18:45:57 INFO org.spark_project.jetty.server.AbstractConnector: Stopped Spark@2e61c09e{HTTP/1.1, (http/1.1)}{0.0.0.0:4040}\n",
            "Job [bea5cc6febda445495931e5c194af7db] finished successfully.\n",
            "done: true\n",
            "driverControlFilesUri: gs://dataproc-staging-us-central1-880598053282-53pecfob/google-cloud-dataproc-metainfo/2a9b1abc-2520-4574-b975-9ff92e4e70b4/jobs/bea5cc6febda445495931e5c194af7db/\n",
            "driverOutputResourceUri: gs://dataproc-staging-us-central1-880598053282-53pecfob/google-cloud-dataproc-metainfo/2a9b1abc-2520-4574-b975-9ff92e4e70b4/jobs/bea5cc6febda445495931e5c194af7db/driveroutput\n",
            "jobUuid: d40c8d37-2bfd-387f-914c-3f444a18a8b4\n",
            "placement:\n",
            "  clusterName: big-data-coursework-385615-cluster\n",
            "  clusterUuid: 2a9b1abc-2520-4574-b975-9ff92e4e70b4\n",
            "pysparkJob:\n",
            "  mainPythonFileUri: gs://dataproc-staging-us-central1-880598053282-53pecfob/google-cloud-dataproc-metainfo/2a9b1abc-2520-4574-b975-9ff92e4e70b4/jobs/bea5cc6febda445495931e5c194af7db/staging/spark_job.py\n",
            "reference:\n",
            "  jobId: bea5cc6febda445495931e5c194af7db\n",
            "  projectId: big-data-coursework-385615\n",
            "status:\n",
            "  state: DONE\n",
            "  stateStartTime: '2023-05-06T18:45:58.752473Z'\n",
            "statusHistory:\n",
            "- state: PENDING\n",
            "  stateStartTime: '2023-05-06T18:44:09.368341Z'\n",
            "- state: SETUP_DONE\n",
            "  stateStartTime: '2023-05-06T18:44:09.408585Z'\n",
            "- details: Agent reported job success\n",
            "  state: RUNNING\n",
            "  stateStartTime: '2023-05-06T18:44:09.770164Z'\n",
            "yarnApplications:\n",
            "- name: spark_job.py\n",
            "  progress: 1.0\n",
            "  state: FINISHED\n",
            "  trackingUrl: http://big-data-coursework-385615-cluster-m:8088/proxy/application_1683398377893_0001/\n",
            "Waiting on operation [projects/big-data-coursework-385615/regions/us-central1/operations/326a9036-9715-31ff-b0df-a95ddd391442].\n",
            "Deleted [https://dataproc.googleapis.com/v1/projects/big-data-coursework-385615/regions/us-central1/clusters/big-data-coursework-385615-cluster].\n"
          ]
        }
      ],
      "source": [
        "### CODING TASK ###\n",
        "#8 VMs\n",
        "!gcloud dataproc clusters create $CLUSTER \\\n",
        "    --worker-boot-disk-type pd-standard --worker-boot-disk-size 285 \\\n",
        "    --initialization-actions gs://goog-dataproc-initialization-actions-$REGION/python/pip-install.sh \\\n",
        "    --metadata PIP_PACKAGES=tensorflow==2.4.0 \\\n",
        "    --image-version 1.4-ubuntu18 \\\n",
        "    --master-machine-type n1-standard-1 \\\n",
        "    --master-boot-disk-type pd-ssd --master-boot-disk-size 100 \\\n",
        "    --num-workers 7 --worker-machine-type n1-standard-1 \\\n",
        "    --max-idle 3600s\n",
        "!gcloud dataproc jobs submit pyspark --cluster $CLUSTER --region $REGION \\\n",
        "    ./spark_job.py\n",
        "!gcloud dataproc clusters delete $CLUSTER -q"
      ]
    },
    {
      "cell_type": "markdown",
      "metadata": {
        "id": "YFVwxfjQsV_P"
      },
      "source": [
        "### 2c) Improve efficiency (6%)\n",
        "\n",
        "If you implemented a straightfoward version of 2a), you will **probably have an inefficiency** in your code.\n",
        "\n",
        "Because we are reading multiple times from an RDD to read the values for the different parameters and their averages, caching existing results is important. Explain **where in the process caching can help**, and **add a call to `RDD.cache()`** to your code, if you haven't yet. Measure the the effect of using caching or not using it.\n",
        "\n",
        "Make the **suitable change** in the code you have written above and mark them up in comments as `### TASK 2c ###`.\n",
        "\n",
        "Explain in your report what the **reasons for this change** are and **demonstrate and interpret its effect**"
      ]
    },
    {
      "cell_type": "markdown",
      "metadata": {
        "id": "C_uNa6VeTLSN"
      },
      "source": [
        "### 2d) Retrieve, analyse and discuss the output (12%)\n",
        "\n",
        "Run the tests over a wide range of different paramters and list the results in a table.\n",
        "\n",
        "Perform a **linear regression** (e.g. using scikit-learn) over **the values for each parameter** and for the **two cases** (reading from image files/reading TFRecord files).\n",
        "List a **table** with the output and interpret the results in terms of the effects of overall.  \n",
        "Also, **plot** the output values, the averages per parameter value and the regression lines for each parameter and for the product of batch_size and batch_number\n",
        "\n",
        "Discuss the **implications** of this result for **applications** like large-scale machine learning.\n",
        "Keep in mind that cloud data may be stored in distant physical locations.\n",
        "Use the numbers provided in the PDF latency-numbers document available on Moodle or [here](https://gist.github.com/hellerbarde/2843375) for your arguments.\n",
        "\n",
        "How is the **observed** behaviour **similar or different** from what you’d expect from a **single machine**? Why would cloud providers tie throughput to capacity of disk resources?\n",
        "\n",
        "By **parallelising** the speed test we are making **assumptions** about the limits of the bucket reading speeds.\n",
        "See [here](https://cloud.google.com/storage/docs/request-rate) for more information.\n",
        "Discuss, **what we need to consider** in **speed tests** in parallel on the cloud, which bottlenecks we might be identifying, and how this relates to your results.\n",
        "\n",
        "Discuss to what extent **linear modelling** reflects the **effects** we are observing.\n",
        "Discuss what could be expected from a theoretical perspective and what can be useful in practice.\n",
        "  \n",
        "Write your **code below** and **include the output** in your submitted `ipynb` file. Provide the answer **text in your report**."
      ]
    },
    {
      "cell_type": "code",
      "execution_count": null,
      "metadata": {
        "id": "Np2aVJ28XidM",
        "colab": {
          "base_uri": "https://localhost:8080/",
          "height": 631
        },
        "outputId": "4887db28-23c4-4d56-f35d-f9104136f4fd"
      },
      "outputs": [
        {
          "output_type": "stream",
          "name": "stdout",
          "text": [
            "Copying gs://big-data-coursework-385615-storage/values 230507-0700...\n",
            "/ [0 files][    0.0 B/  6.8 KiB]                                                \r/ [1 files][  6.8 KiB/  6.8 KiB]                                                \r\n",
            "Operation completed over 1 objects/6.8 KiB.                                      \n"
          ]
        },
        {
          "output_type": "stream",
          "name": "stderr",
          "text": [
            "<ipython-input-42-b08c5cf35b11>:22: UserWarning: color is redundantly defined by the 'color' keyword argument and the fmt string \"b.\" (-> color='b'). The keyword argument will take precedence.\n",
            "  plt.plot(first,second,'b.',color = 'c', label = 'Values of Parameter')\n"
          ]
        },
        {
          "output_type": "display_data",
          "data": {
            "text/plain": [
              "<Figure size 640x480 with 1 Axes>"
            ],
            "image/png": "[encoded data removed]"
          },
          "metadata": {}
        },
        {
          "output_type": "stream",
          "name": "stdout",
          "text": [
            "Slope is  0.5754793333245967\n",
            "Intercept is  3.1369468697418457\n",
            "p-value is  1.0021772043720908e-06\n"
          ]
        }
      ],
      "source": [
        "### CODING TASK ###\n",
        "import pandas as pd\n",
        "import scipy as sp\n",
        "import scipy.stats\n",
        "import matplotlib.pyplot as plt\n",
        "import pickle\n",
        "\n",
        "#Open file\n",
        "!gsutil cp $BUCKET/'values 230507-0700' .\n",
        "with open('values 230507-0700',mode='rb') as x:\n",
        "    ans = pickle.load(x)\n",
        "val = pd.DataFrame(ans[0])\n",
        "val_avg = pd.DataFrame(ans[8])\n",
        "first = val[0]\n",
        "second = val[1]\n",
        "first_avg = val_avg[0]\n",
        "second_avg = val_avg[1]\n",
        "slo, inter, r_v, p_v, std_err = sp.stats.linregress(np.array(first), np.array(second))\n",
        "reg = inter+slo*np.array(first)\n",
        "\n",
        "plt.plot(first, reg, color= 'blue', label = 'Regression Line')\n",
        "plt.plot(first,second,'b.',color = 'c', label = 'Values of Parameter')\n",
        "plt.scatter(first_avg,second_avg, color = 'red' , label = 'Avg Value')\n",
        "plt.title(\"Image Batch Size\")\n",
        "plt.xlabel(\"Image Batch Size\")\n",
        "plt.ylabel(\"Img/Sec\")\n",
        "plt.show()\n",
        "print('Slope is ',slo)\n",
        "print('Intercept is ',inter)\n",
        "print('p-value is ',p_v)\n"
      ]
    },
    {
      "cell_type": "code",
      "source": [
        "val = pd.DataFrame(ans[1])\n",
        "val_avg = pd.DataFrame(ans[9])\n",
        "first = val[0]\n",
        "second = val[1]\n",
        "first_avg = val_avg[0]\n",
        "second_avg = val_avg[1]\n",
        "slo, inter, r_v, p_v, std_err = sp.stats.linregress(np.array(first), np.array(second))\n",
        "reg = inter+slo*np.array(first)\n",
        "\n",
        "plt.plot(first, reg, color= 'blue', label = 'Regression Line')\n",
        "plt.plot(first,second,'b.',color = 'c', label = 'Values of Parameter')\n",
        "plt.scatter(first_avg,second_avg, color = 'red' , label = 'Avg Value')\n",
        "plt.title(\"Tfrec Batch Size\")\n",
        "plt.xlabel(\"Tfrec Batch Size\")\n",
        "plt.ylabel(\"Img/Sec\")\n",
        "plt.show()\n",
        "print('Slope is ',slo)\n",
        "print('Intercept is ',inter)\n",
        "print('p-value is ',p_v)"
      ],
      "metadata": {
        "colab": {
          "base_uri": "https://localhost:8080/",
          "height": 579
        },
        "id": "tFAjf-ShNRnM",
        "outputId": "cf30cdb2-abf7-424d-9d98-257e4e892555"
      },
      "execution_count": null,
      "outputs": [
        {
          "output_type": "stream",
          "name": "stderr",
          "text": [
            "<ipython-input-41-809d9618d4e9>:11: UserWarning: color is redundantly defined by the 'color' keyword argument and the fmt string \"b.\" (-> color='b'). The keyword argument will take precedence.\n",
            "  plt.plot(first,second,'b.',color = 'c', label = 'Values of Parameter')\n"
          ]
        },
        {
          "output_type": "display_data",
          "data": {
            "text/plain": [
              "<Figure size 640x480 with 1 Axes>"
            ],
            "image/png": "[encoded data removed]"
          },
          "metadata": {}
        },
        {
          "output_type": "stream",
          "name": "stdout",
          "text": [
            "Slope is  3.902651885580213\n",
            "Intercept is  -0.9644674767277781\n",
            "p-value is  1.0911500585133451e-07\n"
          ]
        }
      ]
    },
    {
      "cell_type": "code",
      "source": [
        "val = pd.DataFrame(ans[6])\n",
        "val_avg = pd.DataFrame(ans[14])\n",
        "first = val[0]\n",
        "second = val[1]\n",
        "first_avg = val_avg[0]\n",
        "second_avg = val_avg[1]\n",
        "slo, inter, r_v, p_v, std_err = sp.stats.linregress(np.array(first), np.array(second))\n",
        "reg = inter+slo*np.array(first)\n",
        "\n",
        "plt.plot(first, reg, color= 'blue', label = 'Regression Line')\n",
        "plt.plot(first,second,'b.',color = 'c', label = 'Values of Parameter')\n",
        "plt.scatter(first_avg,second_avg, color = 'red' , label = 'Avg Value')\n",
        "plt.title(\"Image Batch Number\")\n",
        "plt.xlabel(\"Image Batch Number\")\n",
        "plt.ylabel(\"Img/Sec\")\n",
        "plt.show()\n",
        "print('Slope is ',slo)\n",
        "print('Intercept is ',inter)\n",
        "print('p-value is ',p_v)"
      ],
      "metadata": {
        "colab": {
          "base_uri": "https://localhost:8080/",
          "height": 579
        },
        "id": "mmwG25yXODD3",
        "outputId": "7af08999-a589-4a6e-eb3c-c716f71d249c"
      },
      "execution_count": null,
      "outputs": [
        {
          "output_type": "stream",
          "name": "stderr",
          "text": [
            "<ipython-input-40-972faa9f0569>:11: UserWarning: color is redundantly defined by the 'color' keyword argument and the fmt string \"b.\" (-> color='b'). The keyword argument will take precedence.\n",
            "  plt.plot(first,second,'b.',color = 'c', label = 'Values of Parameter')\n"
          ]
        },
        {
          "output_type": "display_data",
          "data": {
            "text/plain": [
              "<Figure size 640x480 with 1 Axes>"
            ],
            "image/png": "[encoded data removed]"
          },
          "metadata": {}
        },
        {
          "output_type": "stream",
          "name": "stdout",
          "text": [
            "Slope is  0.3952339321643257\n",
            "Intercept is  3.08483217497617\n",
            "p-value is  3.90007623717902e-07\n"
          ]
        }
      ]
    },
    {
      "cell_type": "code",
      "source": [
        "val = pd.DataFrame(ans[7])\n",
        "val_avg = pd.DataFrame(ans[15])\n",
        "first = val[0]\n",
        "second = val[1]\n",
        "first_avg = val_avg[0]\n",
        "second_avg = val_avg[1]\n",
        "slo, inter, r_v, p_v, std_err = sp.stats.linregress(np.array(first), np.array(second))\n",
        "reg = inter+slo*np.array(first)\n",
        "\n",
        "plt.plot(first, reg, color= 'blue', label = 'Regression Line')\n",
        "plt.plot(first,second,'b.',color = 'c', label = 'Values of Parameter')\n",
        "plt.scatter(first_avg,second_avg, color = 'red' , label = 'Avg Value')\n",
        "plt.title(\"Tfrec Batch Number\")\n",
        "plt.xlabel(\"Tfrec Batch Number\")\n",
        "plt.ylabel(\"Img/Sec\")\n",
        "plt.show()\n",
        "print('Slope is ',slo)\n",
        "print('Intercept is ',inter)\n",
        "print('p-value is ',p_v)"
      ],
      "metadata": {
        "colab": {
          "base_uri": "https://localhost:8080/",
          "height": 579
        },
        "id": "CqGaMz-kODPy",
        "outputId": "c3e5f000-f356-4379-c559-399d5539c34d"
      },
      "execution_count": null,
      "outputs": [
        {
          "output_type": "stream",
          "name": "stderr",
          "text": [
            "<ipython-input-39-df56295beba7>:11: UserWarning: color is redundantly defined by the 'color' keyword argument and the fmt string \"b.\" (-> color='b'). The keyword argument will take precedence.\n",
            "  plt.plot(first,second,'b.',color = 'c', label = 'Values of Parameter')\n"
          ]
        },
        {
          "output_type": "display_data",
          "data": {
            "text/plain": [
              "<Figure size 640x480 with 1 Axes>"
            ],
            "image/png": "[encoded data removed]"
          },
          "metadata": {}
        },
        {
          "output_type": "stream",
          "name": "stdout",
          "text": [
            "Slope is  2.8075657012391755\n",
            "Intercept is  -1.8905574755634298\n",
            "p-value is  4.5034702973301026e-09\n"
          ]
        }
      ]
    },
    {
      "cell_type": "code",
      "source": [
        "val = pd.DataFrame(ans[2])\n",
        "val_avg = pd.DataFrame(ans[10])\n",
        "first = val[0]\n",
        "second = val[1]\n",
        "first_avg = val_avg[0]\n",
        "second_avg = val_avg[1]\n",
        "slo, inter, r_v, p_v, std_err = sp.stats.linregress(np.array(first), np.array(second))\n",
        "reg = inter+slo*np.array(first)\n",
        "\n",
        "plt.plot(first, reg, color= 'blue', label = 'Regression Line')\n",
        "plt.plot(first,second,'b.',color = 'c', label = 'Values of Parameter')\n",
        "plt.scatter(first_avg,second_avg, color = 'red' , label = 'Avg Value')\n",
        "plt.title(\"Img Repitition\")\n",
        "plt.xlabel(\"Img Repitition\")\n",
        "plt.ylabel(\"Img/Sec\")\n",
        "plt.show()\n",
        "print('Slope is ',slo)\n",
        "print('Intercept is ',inter)\n",
        "print('p-value is ',p_v)"
      ],
      "metadata": {
        "colab": {
          "base_uri": "https://localhost:8080/",
          "height": 579
        },
        "id": "_seEJgHmODZQ",
        "outputId": "b226a426-ae98-48e7-b38d-9773e1e5b091"
      },
      "execution_count": null,
      "outputs": [
        {
          "output_type": "stream",
          "name": "stderr",
          "text": [
            "<ipython-input-35-cb6f844a3f14>:11: UserWarning: color is redundantly defined by the 'color' keyword argument and the fmt string \"b.\" (-> color='b'). The keyword argument will take precedence.\n",
            "  plt.plot(first,second,'b.',color = 'c', label = 'Values of Parameter')\n"
          ]
        },
        {
          "output_type": "display_data",
          "data": {
            "text/plain": [
              "<Figure size 640x480 with 1 Axes>"
            ],
            "image/png": "[encoded data removed]"
          },
          "metadata": {}
        },
        {
          "output_type": "stream",
          "name": "stdout",
          "text": [
            "Slope is  0.0607158179415378\n",
            "Intercept is  4.7723111428033285\n",
            "p-value is  0.814303520360822\n"
          ]
        }
      ]
    },
    {
      "cell_type": "code",
      "source": [
        "val = pd.DataFrame(ans[3])\n",
        "val_avg = pd.DataFrame(ans[11])\n",
        "first = val[0]\n",
        "second = val[1]\n",
        "first_avg = val_avg[0]\n",
        "second_avg = val_avg[1]\n",
        "slo, inter, r_v, p_v, std_err = sp.stats.linregress(np.array(first), np.array(second))\n",
        "reg = inter+slo*np.array(first)\n",
        "\n",
        "plt.plot(first, reg, color= 'blue', label = 'Regression Line')\n",
        "plt.plot(first,second,'b.',color = 'c', label = 'Values of Parameter')\n",
        "plt.scatter(first_avg,second_avg, color = 'red' , label = 'Avg Value')\n",
        "plt.title(\"Tfrec Repitition\")\n",
        "plt.xlabel(\"Tfrec Repitition\")\n",
        "plt.ylabel(\"Img/Sec\")\n",
        "plt.show()\n",
        "print('Slope is ',slo)\n",
        "print('Intercept is ',inter)\n",
        "print('p-value is ',p_v)"
      ],
      "metadata": {
        "colab": {
          "base_uri": "https://localhost:8080/",
          "height": 579
        },
        "id": "tL5XDWTlQXYn",
        "outputId": "58fdd6c9-7fa1-4222-f3c2-2e3e762397e0"
      },
      "execution_count": null,
      "outputs": [
        {
          "output_type": "stream",
          "name": "stderr",
          "text": [
            "<ipython-input-38-76fe3c59e3e4>:11: UserWarning: color is redundantly defined by the 'color' keyword argument and the fmt string \"b.\" (-> color='b'). The keyword argument will take precedence.\n",
            "  plt.plot(first,second,'b.',color = 'c', label = 'Values of Parameter')\n"
          ]
        },
        {
          "output_type": "display_data",
          "data": {
            "text/plain": [
              "<Figure size 640x480 with 1 Axes>"
            ],
            "image/png": "[encoded data removed]"
          },
          "metadata": {}
        },
        {
          "output_type": "stream",
          "name": "stdout",
          "text": [
            "Slope is  -0.4153680216703348\n",
            "Intercept is  11.366540212518363\n",
            "p-value is  0.8001537355511774\n"
          ]
        }
      ]
    },
    {
      "cell_type": "code",
      "source": [
        "val = pd.DataFrame(ans[4])\n",
        "val_avg = pd.DataFrame(ans[12])\n",
        "first = val[0]\n",
        "second = val[1]\n",
        "first_avg = val_avg[0]\n",
        "second_avg = val_avg[1]\n",
        "slo, inter, r_v, p_v, std_err = sp.stats.linregress(np.array(first), np.array(second))\n",
        "reg = inter+slo*np.array(first)\n",
        "\n",
        "plt.plot(first, reg, color= 'blue', label = 'Regression Line')\n",
        "plt.plot(first,second,'b.',color = 'c', label = 'Values of Parameter')\n",
        "plt.scatter(first_avg,second_avg, color = 'red' , label = 'Avg Value')\n",
        "plt.title(\"Image Product\")\n",
        "plt.xlabel(\"Image Product\")\n",
        "plt.ylabel(\"Img/Sec\")\n",
        "plt.show()\n",
        "print('Slope is ',slo)\n",
        "print('Intercept is ',inter)\n",
        "print('p-value is ',p_v)"
      ],
      "metadata": {
        "colab": {
          "base_uri": "https://localhost:8080/",
          "height": 579
        },
        "id": "XdpRNEYUQvW7",
        "outputId": "6a7f99ba-660b-4669-ada0-609a363ab27e"
      },
      "execution_count": null,
      "outputs": [
        {
          "output_type": "stream",
          "name": "stderr",
          "text": [
            "<ipython-input-37-58ae6ac2c64b>:11: UserWarning: color is redundantly defined by the 'color' keyword argument and the fmt string \"b.\" (-> color='b'). The keyword argument will take precedence.\n",
            "  plt.plot(first,second,'b.',color = 'c', label = 'Values of Parameter')\n"
          ]
        },
        {
          "output_type": "display_data",
          "data": {
            "text/plain": [
              "<Figure size 640x480 with 1 Axes>"
            ],
            "image/png": "[encoded data removed]"
          },
          "metadata": {}
        },
        {
          "output_type": "stream",
          "name": "stdout",
          "text": [
            "Slope is  0.12129182778404052\n",
            "Intercept is  3.2259451946310884\n",
            "p-value is  2.317102868754125e-14\n"
          ]
        }
      ]
    },
    {
      "cell_type": "code",
      "source": [
        "val = pd.DataFrame(ans[5])\n",
        "val_avg = pd.DataFrame(ans[13])\n",
        "first = val[0]\n",
        "second = val[1]\n",
        "first_avg = val_avg[0]\n",
        "second_avg = val_avg[1]\n",
        "slo, inter, r_v, p_v, std_err = sp.stats.linregress(np.array(first), np.array(second))\n",
        "reg = inter+slo*np.array(first)\n",
        "\n",
        "plt.plot(first, reg, color= 'blue', label = 'Regression Line')\n",
        "plt.plot(first,second,'b.',color = 'c', label = 'Values of Parameter')\n",
        "plt.scatter(first_avg,second_avg, color = 'red' , label = 'Avg Value')\n",
        "plt.title(\"Tfrec Product\")\n",
        "plt.xlabel(\"Tfrec Product\")\n",
        "plt.ylabel(\"Img/Sec\")\n",
        "plt.show()\n",
        "print('Slope is ',slo)\n",
        "print('Intercept is ',inter)\n",
        "print('p-value is ',p_v)"
      ],
      "metadata": {
        "colab": {
          "base_uri": "https://localhost:8080/",
          "height": 579
        },
        "id": "kAINsUHwRGRL",
        "outputId": "09abac89-04ab-4323-bfe5-8382f65e75cb"
      },
      "execution_count": null,
      "outputs": [
        {
          "output_type": "stream",
          "name": "stderr",
          "text": [
            "<ipython-input-36-3158614a8478>:11: UserWarning: color is redundantly defined by the 'color' keyword argument and the fmt string \"b.\" (-> color='b'). The keyword argument will take precedence.\n",
            "  plt.plot(first,second,'b.',color = 'c', label = 'Values of Parameter')\n"
          ]
        },
        {
          "output_type": "display_data",
          "data": {
            "text/plain": [
              "<Figure size 640x480 with 1 Axes>"
            ],
            "image/png": "[encoded data removed]"
          },
          "metadata": {}
        },
        {
          "output_type": "stream",
          "name": "stdout",
          "text": [
            "Slope is  0.906915999792216\n",
            "Intercept is  -1.499877817182055\n",
            "p-value is  3.876039656384981e-27\n"
          ]
        }
      ]
    },
    {
      "cell_type": "code",
      "source": [],
      "metadata": {
        "id": "M6qM5FU-Qvb0"
      },
      "execution_count": null,
      "outputs": []
    },
    {
      "cell_type": "markdown",
      "metadata": {
        "id": "YsvglpSzm78C"
      },
      "source": [
        "# Section 3. Theoretical discussion"
      ]
    },
    {
      "cell_type": "markdown",
      "metadata": {
        "id": "AYLysXrJm-9M"
      },
      "source": [
        "## Task 3: Discussion in context. (24%)\n",
        "\n",
        "In this task we refer an idea that is introduced in this paper:\n",
        "-\tAlipourfard, O., Liu, H. H., Chen, J., Venkataraman, S., Yu, M., & Zhang, M. (2017). [Cherrypick: Adaptively unearthing the best cloud configurations for big data analytics.](https://people.irisa.fr/Davide.Frey/wp-content/uploads/2018/02/cherrypick.pdf). In USENIX NSDI  17 (pp. 469-482).\n",
        "\n",
        "Alipourfard et al (2017) introduce  the prediction an optimal or near-optimal cloud configuration for a given compute task.\n",
        "\n",
        "### 3a)\tContextualise\n",
        "\n",
        "Relate the previous tasks and the results to this concept. (It is not necessary to work through the full details of the paper, focus just on the main ideas). To what extent and under what conditions do the concepts and techniques in the paper apply to the task in this coursework? (12%)\n",
        "\n",
        "### 3b)\tStrategise\n",
        "\n",
        "Define - as far as possible - concrete strategies for different application scenarios (batch, stream) and discuss the general relationship with the concepts above. (12%)\n",
        "\n",
        "Provide the answers to these questions in your report.\n"
      ]
    },
    {
      "cell_type": "markdown",
      "metadata": {
        "id": "srWp-rDKi61b"
      },
      "source": [
        "## Final cleanup\n",
        "\n",
        "Once you have finshed the work, you can delete the buckets, to stop incurring cost that depletes your credit."
      ]
    },
    {
      "cell_type": "code",
      "execution_count": null,
      "metadata": {
        "id": "ByR1KQ_SjG6W",
        "colab": {
          "base_uri": "https://localhost:8080/"
        },
        "outputId": "c89bf7a1-963c-4fe6-b790-9fc0c7b7da2e"
      },
      "outputs": [
        {
          "output_type": "stream",
          "name": "stdout",
          "text": [
            "Removing gs://big-data-coursework-385615-storage/values 230506-1753#1683395605172250...\n",
            "Removing gs://big-data-coursework-385615-storage/values 230506-1756#1683395782133290...\n",
            "Removing gs://big-data-coursework-385615-storage/values 230506-1804#1683396277503288...\n",
            "Removing gs://big-data-coursework-385615-storage/values 230506-1815#1683396922083717...\n",
            "Removing gs://big-data-coursework-385615-storage/values 230506-1837#1683398253761805...\n",
            "Removing gs://big-data-coursework-385615-storage/tfrecords-jpeg-192x192-2/flowers00.tfrec#1683429232213089...\n",
            "Removing gs://big-data-coursework-385615-storage/tfrecords-jpeg-192x192-2/flowers01.tfrec#1683429230251330...\n",
            "Removing gs://big-data-coursework-385615-storage/tfrecords-jpeg-192x192-2/flowers02.tfrec#1683429232285534...\n",
            "Removing gs://big-data-coursework-385615-storage/values 230507-0700#1683442837841980...\n",
            "Removing gs://big-data-coursework-385615-storage/tfrecords-jpeg-192x192-2/flowers03.tfrec#1683429230269500...\n",
            "Removing gs://big-data-coursework-385615-storage/tfrecords-jpeg-192x192-2/flowers04.tfrec#1683429230715748...\n",
            "Removing gs://big-data-coursework-385615-storage/tfrecords-jpeg-192x192-2/flowers05.tfrec#1683429230688843...\n",
            "Removing gs://big-data-coursework-385615-storage/tfrecords-jpeg-192x192-2/flowers06.tfrec#1683429231101929...\n",
            "Removing gs://big-data-coursework-385615-storage/tfrecords-jpeg-192x192-2/flowers07.tfrec#1683429231209538...\n",
            "Removing gs://big-data-coursework-385615-storage/tfrecords-jpeg-192x192-2/flowers08.tfrec#1683429231525868...\n",
            "Removing gs://big-data-coursework-385615-storage/tfrecords-jpeg-192x192-2/flowers09.tfrec#1683429231635966...\n",
            "Removing gs://big-data-coursework-385615-storage/tfrecords-jpeg-192x192-2/flowers10.tfrec#1683429231935643...\n",
            "Removing gs://big-data-coursework-385615-storage/tfrecords-jpeg-192x192-2/flowers11.tfrec#1683429232251367...\n",
            "Removing gs://big-data-coursework-385615-storage/tfrecords-jpeg-192x192-2/flowers12.tfrec#1683429232352379...\n",
            "Removing gs://big-data-coursework-385615-storage/tfrecords-jpeg-192x192-2/flowers13.tfrec#1683429232790567...\n",
            "Removing gs://big-data-coursework-385615-storage/tfrecords-jpeg-192x192-2/flowers14.tfrec#1683429232710689...\n",
            "Removing gs://big-data-coursework-385615-storage/tfrecords-jpeg-192x192-2/flowers15.tfrec#1683429232719314...\n",
            "/ [22/22 objects] 100% Done                                                     \n",
            "Operation completed over 22 objects.                                             \n",
            "Removing gs://big-data-coursework-385615-storage/...\n"
          ]
        }
      ],
      "source": [
        "!gsutil -m rm -r $BUCKET/* # Empty your bucket\n",
        "!gsutil rb $BUCKET # delete the bucket"
      ]
    }
  ],
  "metadata": {
    "accelerator": "GPU",
    "colab": {
      "provenance": []
    },
    "kernelspec": {
      "display_name": "Python 3",
      "name": "python3"
    },
    "language_info": {
      "codemirror_mode": {
        "name": "ipython",
        "version": 3
      },
      "file_extension": ".py",
      "mimetype": "text/x-python",
      "name": "python",
      "nbconvert_exporter": "python",
      "pygments_lexer": "ipython3",
      "version": "3.5.3"
    }
  },
  "nbformat": 4,
  "nbformat_minor": 0
}